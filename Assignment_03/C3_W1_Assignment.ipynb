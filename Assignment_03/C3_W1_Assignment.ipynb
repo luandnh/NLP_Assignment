{
 "cells": [
  {
   "cell_type": "markdown",
   "id": "84bdb24a",
   "metadata": {},
   "source": [
    "### **Họ tên:** Dương Nguyễn Hoàng Luân\n",
    "\n",
    "### **Mã số:** 24MSE23158\n"
   ]
  },
  {
   "cell_type": "markdown",
   "id": "3531c13c",
   "metadata": {},
   "source": [
    "# Assignment:  Sentiment with Deep Neural Networks\n",
    "\n",
    "Welcome to the first assignment of course 3. **This is a practice assignment**, which means that the grade you receive won't count towards your final grade of the course. **However you can still submit your solutions and receive a grade along with feedback from the grader.** Before getting started take some time to read the following tips: \n",
    "\n",
    "#### TIPS FOR SUCCESSFUL GRADING OF YOUR ASSIGNMENT:\n",
    "\n",
    "- All cells are frozen except for the ones where you need to submit your solutions.\n",
    "\n",
    "- You can add new cells to experiment but these will be omitted by the grader, so don't rely on newly created cells to host your solution code, use the provided places for this.\n",
    "\n",
    "- You can add the comment # grade-up-to-here in any graded cell to signal the grader that it must only evaluate up to that point. This is helpful if you want to check if you are on the right track even if you are not done with the whole assignment. Be sure to remember to delete the comment afterwards!\n",
    "\n",
    "- To submit your notebook, save it and then click on the blue submit button at the beginning of the page.\n",
    "\n",
    "\n",
    "In this assignment, you will explore sentiment analysis using deep neural networks. "
   ]
  },
  {
   "cell_type": "markdown",
   "id": "5f6473fc",
   "metadata": {},
   "source": [
    "## Table of Contents\n",
    "- [1 - Import the Libraries](#1)\n",
    "- [2 - Importing the Data](#2)\n",
    "    - [2.1 - Load and split the Data](#2-1)\n",
    "    - [2.2 - Build the Vocabulary](#2-2)\n",
    "        - [Exercise 1 - build_vocabulary](#ex-1)\n",
    "    - [2.3 - Convert a Tweet to a Tensor](#2-3)\n",
    "        - [Exercise 2 - max_len](#ex-2)\n",
    "        - [Exercise 3 - padded_sequences](#ex-3)\n",
    "- [3 - Define the structure of the neural network layers](#3)\n",
    "    - [3.1 - ReLU](#3-1)\n",
    "        - [Exercise 4 - relu](#ex-4)\n",
    "    - [3.2 - Sigmoid](#3.2)\n",
    "        - [Exercise 5 - sigmoid](#ex-5)\n",
    "    - [3.3 - Dense class](#3-3)\n",
    "        - [Exercise 6 - Dense](#ex-6)\n",
    "    - [3.3 - Model](#3-4)\n",
    "        - [Exercise 7 - create_model](#ex-7)\n",
    "- [4 - Evaluate the model](#4)\n",
    "    - [4.1 Predict on Data](#4-1)\n",
    "- [5 - Test With Your Own Input](#5)\n",
    "    - [5.1 Create the Prediction Function](#5-1)\n",
    "        - [Exercise 8 - graded_very_positive_tweet](#ex-8)\n",
    "- [6 - Word Embeddings](#6)"
   ]
  },
  {
   "cell_type": "markdown",
   "id": "bd2428bf",
   "metadata": {},
   "source": [
    "In course 1, you implemented Logistic regression and Naive Bayes for sentiment analysis. Even though the two models performed very well on the dataset of tweets, they fail to catch any meaning beyond the meaning of words. For this you can use neural networks. In this assignment, you will write a program that uses a simple deep neural network to identify sentiment in text. By completing this assignment, you will: \n",
    "\n",
    "- Understand how you can design a neural network using tensorflow\n",
    "- Build and train a model\n",
    "- Use a binary cross-entropy loss function\n",
    "- Compute the accuracy of your model\n",
    "- Predict using your own input\n",
    "\n",
    "As you can tell, this model follows a similar structure to the one you previously implemented in the second course of this specialization. \n",
    "- Indeed most of the deep nets you will be implementing will have a similar structure. The only thing that changes is the model architecture, the inputs, and the outputs. In this assignment, you will first create the neural network layers from scratch using `numpy` to better understand what is going on. After this you will use the library `tensorflow` for building and training the model."
   ]
  },
  {
   "cell_type": "markdown",
   "id": "9ee4dd3f",
   "metadata": {},
   "source": [
    "<a name=\"1\"></a>\n",
    "## 1 - Import the Libraries\n",
    "\n",
    "Run the next cell to import the Python packages you'll need for this assignment.\n",
    "\n",
    "Note the `from utils import ...` line. This line imports the functions that were specifically written for this assignment. If you want to look at what these functions are, go to `File -> Open...` and open the `utils.py` file to have a look."
   ]
  },
  {
   "cell_type": "code",
   "execution_count": 1,
   "id": "06d551ca",
   "metadata": {
    "deletable": false,
    "editable": false,
    "tags": [
     "graded"
    ]
   },
   "outputs": [
    {
     "name": "stderr",
     "output_type": "stream",
     "text": [
      "[nltk_data] Downloading package twitter_samples to\n",
      "[nltk_data]     /Users/luandnh/nltk_data...\n",
      "[nltk_data]   Package twitter_samples is already up-to-date!\n",
      "[nltk_data] Downloading package stopwords to\n",
      "[nltk_data]     /Users/luandnh/nltk_data...\n",
      "[nltk_data]   Package stopwords is already up-to-date!\n"
     ]
    }
   ],
   "source": [
    "import os\n",
    "os.environ['TF_CPP_MIN_LOG_LEVEL'] = '3'\n",
    "\n",
    "import numpy as np\n",
    "import tensorflow as tf\n",
    "import matplotlib.pyplot as plt\n",
    "from sklearn.decomposition import PCA\n",
    "\n",
    "from utils import load_tweets, process_tweet\n",
    "\n",
    "%matplotlib inline"
   ]
  },
  {
   "cell_type": "code",
   "execution_count": 2,
   "id": "de4ac254",
   "metadata": {
    "deletable": false,
    "editable": false
   },
   "outputs": [],
   "source": [
    "import w1_unittest"
   ]
  },
  {
   "cell_type": "markdown",
   "id": "8dbe1be4",
   "metadata": {},
   "source": [
    "<a name=\"2\"></a>\n",
    "## 2 - Import the Data\n",
    "\n",
    "<a name=\"2-1\"></a>\n",
    "### 2.1 - Load and split the Data\n",
    "\n",
    "- Import the positive and negative tweets\n",
    "- Have a look at some examples of the tweets\n",
    "- Split the data into the training and validation sets\n",
    "- Create labels for the data"
   ]
  },
  {
   "cell_type": "code",
   "execution_count": 3,
   "id": "57670f95",
   "metadata": {
    "deletable": false,
    "editable": false,
    "tags": [
     "graded"
    ]
   },
   "outputs": [
    {
     "name": "stdout",
     "output_type": "stream",
     "text": [
      "The number of positive tweets: 5000\n",
      "The number of negative tweets: 5000\n"
     ]
    }
   ],
   "source": [
    "# Load positive and negative tweets\n",
    "all_positive_tweets, all_negative_tweets = load_tweets()\n",
    "\n",
    "# View the total number of positive and negative tweets.\n",
    "print(f\"The number of positive tweets: {len(all_positive_tweets)}\")\n",
    "print(f\"The number of negative tweets: {len(all_negative_tweets)}\")"
   ]
  },
  {
   "cell_type": "markdown",
   "id": "e7b47d9d",
   "metadata": {},
   "source": [
    "Now you can have a look at some examples of tweets. "
   ]
  },
  {
   "cell_type": "code",
   "execution_count": 4,
   "id": "676f8aca",
   "metadata": {
    "deletable": false,
    "editable": false,
    "tags": [
     "graded"
    ]
   },
   "outputs": [
    {
     "name": "stdout",
     "output_type": "stream",
     "text": [
      "Positive tweet example:\n",
      "yeaaaah yippppy!!!  my accnt verified rqst has succeed got a blue tick mark on my fb profile :) in 15 days\n",
      "\n",
      "Negative tweet example:\n",
      "Dang starting next week I have \"work\" :(\n"
     ]
    }
   ],
   "source": [
    "# Change the tweet number to any number between 0 and 4999 to see a different pair of tweets.\n",
    "tweet_number = 4\n",
    "print('Positive tweet example:')\n",
    "print(all_positive_tweets[tweet_number])\n",
    "print('\\nNegative tweet example:')\n",
    "print(all_negative_tweets[tweet_number])"
   ]
  },
  {
   "cell_type": "markdown",
   "id": "2d07832d",
   "metadata": {},
   "source": [
    "Here you will process the tweets. This part of the code has been implemented for you.  The processing includes:\n",
    "\n",
    "- tokenizing the sentence (splitting to words)\n",
    "- removing stock market tickers like $GE\n",
    "- removing old style retweet text \"RT\"\n",
    "- removing hyperlinks\n",
    "- removing hashtags\n",
    "- lowercasing\n",
    "- removing stopwords and punctuation\n",
    "- stemming\n",
    "\n",
    "Some of these things are general steps you would do when processing any text, some others are very \"tweet-specific\". The details of the process_tweet function are available in utils.py file"
   ]
  },
  {
   "cell_type": "code",
   "execution_count": 5,
   "id": "a64dc904",
   "metadata": {
    "deletable": false,
    "editable": false,
    "tags": [
     "graded"
    ]
   },
   "outputs": [],
   "source": [
    "# Process all the tweets: tokenize the string, remove tickers, handles, punctuation and stopwords, stem the words\n",
    "all_positive_tweets_processed = [process_tweet(tweet) for tweet in all_positive_tweets]\n",
    "all_negative_tweets_processed = [process_tweet(tweet) for tweet in all_negative_tweets]"
   ]
  },
  {
   "cell_type": "markdown",
   "id": "a7f60d28",
   "metadata": {},
   "source": [
    "Now you can have a look at some examples of how the tweets look like after being processed."
   ]
  },
  {
   "cell_type": "code",
   "execution_count": 6,
   "id": "eab3b775",
   "metadata": {
    "deletable": false,
    "editable": false,
    "tags": [
     "graded"
    ]
   },
   "outputs": [
    {
     "name": "stdout",
     "output_type": "stream",
     "text": [
      "Positive processed tweet example:\n",
      "['yeaaah', 'yipppi', 'accnt', 'verifi', 'rqst', 'succeed', 'got', 'blue', 'tick', 'mark', 'fb', 'profil', ':)', '15', 'day']\n",
      "\n",
      "Negative processed tweet example:\n",
      "['dang', 'start', 'next', 'week', 'work', ':(']\n"
     ]
    }
   ],
   "source": [
    "# Change the tweet number to any number between 0 and 4999 to see a different pair of tweets.\n",
    "tweet_number = 4\n",
    "print('Positive processed tweet example:')\n",
    "print(all_positive_tweets_processed[tweet_number])\n",
    "print('\\nNegative processed tweet example:')\n",
    "print(all_negative_tweets_processed[tweet_number])"
   ]
  },
  {
   "cell_type": "markdown",
   "id": "4766db90",
   "metadata": {},
   "source": [
    "Next, you split the tweets into the training and validation datasets. For this example you can use 80 % of the data for training and 20 % of the data for validation."
   ]
  },
  {
   "cell_type": "code",
   "execution_count": 7,
   "id": "ed51b361",
   "metadata": {
    "deletable": false,
    "editable": false,
    "tags": [
     "graded"
    ]
   },
   "outputs": [
    {
     "name": "stdout",
     "output_type": "stream",
     "text": [
      "There are 8000 sentences for training.\n",
      "There are 8000 labels for training.\n",
      "\n",
      "There are 2000 sentences for validation.\n",
      "There are 2000 labels for validation.\n"
     ]
    }
   ],
   "source": [
    "# Split positive set into validation and training\n",
    "val_pos = all_positive_tweets_processed[4000:]\n",
    "train_pos = all_positive_tweets_processed[:4000]\n",
    "# Split negative set into validation and training\n",
    "val_neg = all_negative_tweets_processed[4000:]\n",
    "train_neg = all_negative_tweets_processed[:4000]\n",
    "\n",
    "train_x = train_pos + train_neg \n",
    "val_x  = val_pos + val_neg\n",
    "\n",
    "# Set the labels for the training and validation set (1 for positive, 0 for negative)\n",
    "train_y = [[1] for _ in train_pos] + [[0] for _ in train_neg]\n",
    "val_y  = [[1] for _ in val_pos] + [[0] for _ in val_neg]\n",
    "\n",
    "print(f\"There are {len(train_x)} sentences for training.\")\n",
    "print(f\"There are {len(train_y)} labels for training.\\n\")\n",
    "print(f\"There are {len(val_x)} sentences for validation.\")\n",
    "print(f\"There are {len(val_y)} labels for validation.\")"
   ]
  },
  {
   "cell_type": "markdown",
   "id": "5eff3b5f",
   "metadata": {},
   "source": [
    "<a name=\"2-2\"></a>\n",
    "### 2.2 - Build the Vocabulary\n",
    "\n",
    "Now build the vocabulary.\n",
    "- Map each word in each tweet to an integer (an \"index\"). \n",
    "- Note that you will build the vocabulary based on the training data. \n",
    "- To do so, you will assign an index to every word by iterating over your training set.\n",
    "\n",
    "The vocabulary will also include some special tokens\n",
    "- `''`: padding\n",
    "- `'[UNK]'`: a token representing any word that is not in the vocabulary."
   ]
  },
  {
   "cell_type": "markdown",
   "id": "db38f3bf",
   "metadata": {},
   "source": [
    "<a name=\"ex-1\"></a>\n",
    "### Exercise 1 - build_vocabulary\n",
    "Build the vocabulary from all of the tweets in the training set."
   ]
  },
  {
   "cell_type": "code",
   "execution_count": 8,
   "id": "6b92a065",
   "metadata": {
    "deletable": false,
    "tags": [
     "graded"
    ]
   },
   "outputs": [
    {
     "name": "stdout",
     "output_type": "stream",
     "text": [
      "Vocabulary contains 9069 words\n",
      "\n",
      "{'': 0, '[UNK]': 1, 'followfriday': 2, 'top': 3, 'engag': 4, 'member': 5, 'commun': 6, 'week': 7, ':)': 8, 'hey': 9, 'jame': 10, 'odd': 11, ':/': 12, 'pleas': 13, 'call': 14, 'contact': 15, 'centr': 16, '02392441234': 17, 'abl': 18, 'assist': 19, 'mani': 20, 'thank': 21, 'listen': 22, 'last': 23, 'night': 24, 'bleed': 25, 'amaz': 26, 'track': 27, 'scotland': 28, 'congrat': 29, 'yeaaah': 30, 'yipppi': 31, 'accnt': 32, 'verifi': 33, 'rqst': 34, 'succeed': 35, 'got': 36, 'blue': 37, 'tick': 38, 'mark': 39, 'fb': 40, 'profil': 41, '15': 42, 'day': 43, 'one': 44, 'irresist': 45, 'flipkartfashionfriday': 46, 'like': 47, 'keep': 48, 'love': 49, 'custom': 50, 'wait': 51, 'long': 52, 'hope': 53, 'enjoy': 54, 'happi': 55, 'friday': 56, 'lwwf': 57, 'second': 58, 'thought': 59, '’': 60, 'enough': 61, 'time': 62, 'dd': 63, 'new': 64, 'short': 65, 'enter': 66, 'system': 67, 'sheep': 68, 'must': 69, 'buy': 70, 'jgh': 71, 'go': 72, 'bayan': 73, ':d': 74, 'bye': 75, 'act': 76, 'mischiev': 77, 'etl': 78, 'layer': 79, 'in-hous': 80, 'wareh': 81, 'app': 82, 'katamari': 83, 'well': 84, '…': 85, 'name': 86, 'impli': 87, ':p': 88, 'influenc': 89, 'big': 90, '...': 91, 'juici': 92, 'selfi': 93, 'follow': 94, 'perfect': 95, 'alreadi': 96, 'know': 97, \"what'\": 98, 'great': 99, 'opportun': 100, 'junior': 101, 'triathlet': 102, 'age': 103, '12': 104, '13': 105, 'gatorad': 106, 'seri': 107, 'get': 108, 'entri': 109, 'lay': 110, 'greet': 111, 'card': 112, 'rang': 113, 'print': 114, 'today': 115, 'job': 116, ':-)': 117, \"friend'\": 118, 'lunch': 119, 'yummm': 120, 'nostalgia': 121, 'tb': 122, 'ku': 123, 'id': 124, 'conflict': 125, 'help': 126, \"here'\": 127, 'screenshot': 128, 'work': 129, 'hi': 130, 'liv': 131, 'hello': 132, 'need': 133, 'someth': 134, 'u': 135, 'fm': 136, 'twitter': 137, '—': 138, 'sure': 139, 'thing': 140, 'dm': 141, 'x': 142, 'heard': 143, 'four': 144, 'season': 145, 'pretti': 146, 'dope': 147, 'penthous': 148, 'obv': 149, 'gobigorgohom': 150, 'fun': 151, \"y'all\": 152, 'yeah': 153, 'suppos': 154, 'lol': 155, 'chat': 156, 'bit': 157, 'youth': 158, '💅🏽': 159, '💋': 160, 'seen': 161, 'year': 162, 'rest': 163, 'goe': 164, 'quickli': 165, 'bed': 166, 'music': 167, 'fix': 168, 'dream': 169, 'spiritu': 170, 'ritual': 171, 'festiv': 172, 'népal': 173, 'begin': 174, 'line-up': 175, 'left': 176, 'see': 177, 'sarah': 178, 'send': 179, 'us': 180, 'email': 181, 'bitsy@bitdefender.com': 182, 'asap': 183, 'kik': 184, 'hatessuc': 185, '32429': 186, 'kikm': 187, 'lgbt': 188, 'tinder': 189, 'nsfw': 190, 'akua': 191, 'cumshot': 192, 'come': 193, 'hous': 194, 'nsn_supplement': 195, 'effect': 196, 'press': 197, 'releas': 198, 'distribut': 199, 'result': 200, 'link': 201, 'remov': 202, 'pressreleas': 203, 'newsdistribut': 204, 'bam': 205, 'bestfriend': 206, 'lot': 207, 'warsaw': 208, '<3': 209, 'x46': 210, 'everyon': 211, 'watch': 212, 'documentari': 213, 'earthl': 214, 'youtub': 215, 'support': 216, 'buuut': 217, 'oh': 218, 'look': 219, 'forward': 220, 'visit': 221, 'next': 222, 'letsgetmessi': 223, 'jo': 224, 'make': 225, 'feel': 226, 'better': 227, 'never': 228, 'anyon': 229, 'kpop': 230, 'flesh': 231, 'good': 232, 'girl': 233, 'best': 234, 'wish': 235, 'reason': 236, 'epic': 237, 'soundtrack': 238, 'shout': 239, 'ad': 240, 'video': 241, 'playlist': 242, 'would': 243, 'dear': 244, 'jordan': 245, 'okay': 246, 'fake': 247, 'gameplay': 248, ';)': 249, 'haha': 250, 'im': 251, 'kid': 252, 'stuff': 253, 'exactli': 254, 'product': 255, 'line': 256, 'etsi': 257, 'shop': 258, 'check': 259, 'vacat': 260, 'recharg': 261, 'normal': 262, 'charger': 263, 'asleep': 264, 'talk': 265, 'sooo': 266, 'someon': 267, 'text': 268, 'ye': 269, 'bet': 270, 'fit': 271, 'hear': 272, 'speech': 273, 'piti': 274, 'green': 275, 'garden': 276, 'midnight': 277, 'sun': 278, 'beauti': 279, 'canal': 280, 'dasvidaniya': 281, 'till': 282, 'scout': 283, 'sg': 284, 'futur': 285, 'wlan': 286, 'pro': 287, 'confer': 288, 'asia': 289, 'chang': 290, 'lollipop': 291, '🍭': 292, 'nez': 293, 'agnezmo': 294, 'oley': 295, 'mama': 296, 'stand': 297, 'stronger': 298, 'god': 299, 'misti': 300, 'babi': 301, 'cute': 302, 'woohoo': 303, \"can't\": 304, 'sign': 305, 'yet': 306, 'still': 307, 'think': 308, 'mka': 309, 'liam': 310, 'access': 311, 'welcom': 312, 'stat': 313, 'arriv': 314, '1': 315, 'unfollow': 316, 'via': 317, 'surpris': 318, 'figur': 319, 'happybirthdayemilybett': 320, 'sweet': 321, 'talent': 322, '2': 323, 'plan': 324, 'drain': 325, 'gotta': 326, 'timezon': 327, 'parent': 328, 'proud': 329, 'least': 330, 'mayb': 331, 'sometim': 332, 'grade': 333, 'al': 334, 'grand': 335, 'manila_bro': 336, 'chosen': 337, 'let': 338, 'around': 339, '..': 340, 'side': 341, 'world': 342, 'eh': 343, 'take': 344, 'care': 345, 'final': 346, 'fuck': 347, 'weekend': 348, 'real': 349, 'x45': 350, 'join': 351, 'hushedcallwithfraydo': 352, 'gift': 353, 'yeahhh': 354, 'hushedpinwithsammi': 355, 'event': 356, 'might': 357, 'luv': 358, 'realli': 359, 'appreci': 360, 'share': 361, 'wow': 362, 'tom': 363, 'gym': 364, 'monday': 365, 'invit': 366, 'scope': 367, 'friend': 368, 'nude': 369, 'sleep': 370, 'birthday': 371, 'want': 372, 't-shirt': 373, 'cool': 374, 'haw': 375, 'phela': 376, 'mom': 377, 'obvious': 378, 'princ': 379, 'charm': 380, 'stage': 381, 'luck': 382, 'tyler': 383, 'hipster': 384, 'glass': 385, 'marti': 386, 'glad': 387, 'done': 388, 'afternoon': 389, 'read': 390, 'kahfi': 391, 'finish': 392, 'ohmyg': 393, 'yaya': 394, 'dub': 395, 'stalk': 396, 'ig': 397, 'gondooo': 398, 'moo': 399, 'tologooo': 400, 'becom': 401, 'detail': 402, 'zzz': 403, 'xx': 404, 'physiotherapi': 405, 'hashtag': 406, '💪': 407, 'monica': 408, 'miss': 409, 'sound': 410, 'morn': 411, \"that'\": 412, 'x43': 413, 'definit': 414, 'tri': 415, 'tonight': 416, 'took': 417, 'advic': 418, 'treviso': 419, 'concert': 420, 'citi': 421, 'countri': 422, 'start': 423, 'fine': 424, 'gorgeou': 425, 'xo': 426, 'oven': 427, 'roast': 428, 'garlic': 429, 'oliv': 430, 'oil': 431, 'dri': 432, 'tomato': 433, 'basil': 434, 'centuri': 435, 'tuna': 436, 'right': 437, 'back': 438, 'atchya': 439, 'even': 440, 'almost': 441, 'chanc': 442, 'cheer': 443, 'po': 444, 'ice': 445, 'cream': 446, 'agre': 447, '100': 448, 'heheheh': 449, 'that': 450, 'point': 451, 'stay': 452, 'home': 453, 'soon': 454, 'promis': 455, 'web': 456, 'whatsapp': 457, 'volta': 458, 'funcionar': 459, 'com': 460, 'iphon': 461, 'jailbroken': 462, 'later': 463, '34': 464, 'min': 465, 'leia': 466, 'appear': 467, 'hologram': 468, 'r2d2': 469, 'w': 470, 'messag': 471, 'obi': 472, 'wan': 473, 'sit': 474, 'luke': 475, 'inter': 476, '3': 477, 'ucl': 478, 'arsen': 479, 'small': 480, 'team': 481, 'pass': 482, '🚂': 483, 'dewsburi': 484, 'railway': 485, 'station': 486, 'dew': 487, 'west': 488, 'yorkshir': 489, '430': 490, 'smh': 491, '9:25': 492, 'live': 493, 'strang': 494, 'imagin': 495, 'megan': 496, 'masaantoday': 497, 'a4': 498, 'shweta': 499, 'tripathi': 500, '5': 501, '20': 502, 'kurta': 503, 'half': 504, 'number': 505, 'wsalelov': 506, 'ah': 507, 'larri': 508, 'anyway': 509, 'kinda': 510, 'goood': 511, 'life': 512, 'enn': 513, 'could': 514, 'warmup': 515, '15th': 516, 'bath': 517, 'dum': 518, 'andar': 519, 'ram': 520, 'sampath': 521, 'sona': 522, 'mohapatra': 523, 'samantha': 524, 'edward': 525, 'mein': 526, 'tulan': 527, 'razi': 528, 'wah': 529, 'josh': 530, 'alway': 531, 'smile': 532, 'pictur': 533, '16.20': 534, 'giveitup': 535, 'given': 536, 'ga': 537, 'subsidi': 538, 'initi': 539, 'propos': 540, 'delight': 541, 'yesterday': 542, 'x42': 543, 'lmaoo': 544, 'song': 545, 'ever': 546, 'shall': 547, 'littl': 548, 'throwback': 549, 'outli': 550, 'island': 551, 'cheung': 552, 'chau': 553, 'mui': 554, 'wo': 555, 'total': 556, 'differ': 557, 'kfckitchentour': 558, 'kitchen': 559, 'clean': 560, 'cusp': 561, 'test': 562, 'water': 563, 'reward': 564, 'arummzz': 565, \"let'\": 566, 'drive': 567, 'travel': 568, 'yogyakarta': 569, 'jeep': 570, 'indonesia': 571, 'instamood': 572, 'wanna': 573, 'skype': 574, 'may': 575, 'nice': 576, 'friendli': 577, 'pretend': 578, 'film': 579, 'congratul': 580, 'winner': 581, 'cheesydelight': 582, 'contest': 583, 'address': 584, 'guy': 585, 'market': 586, '24/7': 587, '14': 588, 'hour': 589, 'leav': 590, 'without': 591, 'delay': 592, 'actual': 593, 'easi': 594, 'guess': 595, 'train': 596, 'wd': 597, 'shift': 598, 'engin': 599, 'etc': 600, 'sunburn': 601, 'peel': 602, 'blog': 603, 'huge': 604, 'warm': 605, '☆': 606, 'complet': 607, 'triangl': 608, 'northern': 609, 'ireland': 610, 'sight': 611, 'smthng': 612, 'fr': 613, 'hug': 614, 'xoxo': 615, 'uu': 616, 'jaann': 617, 'topnewfollow': 618, 'connect': 619, 'wonder': 620, 'made': 621, 'fluffi': 622, 'insid': 623, 'pirouett': 624, 'moos': 625, 'trip': 626, 'philli': 627, 'decemb': 628, 'dude': 629, 'x41': 630, 'question': 631, 'flaw': 632, 'pain': 633, 'negat': 634, 'strength': 635, 'went': 636, 'solo': 637, 'move': 638, 'fav': 639, 'nirvana': 640, 'smell': 641, 'teen': 642, 'spirit': 643, 'rip': 644, 'ami': 645, 'winehous': 646, 'coupl': 647, 'tomhiddleston': 648, 'elizabetholsen': 649, 'yaytheylookgreat': 650, 'goodnight': 651, 'vid': 652, 'wake': 653, 'gonna': 654, 'shoot': 655, 'itti': 656, 'bitti': 657, 'teeni': 658, 'bikini': 659, 'much': 660, '4th': 661, 'togeth': 662, 'end': 663, 'xfile': 664, 'content': 665, 'rain': 666, 'fabul': 667, 'fantast': 668, '♡': 669, 'jb': 670, 'forev': 671, 'belieb': 672, 'nighti': 673, 'bug': 674, 'bite': 675, 'bracelet': 676, 'idea': 677, 'foundri': 678, 'game': 679, 'sens': 680, 'pic': 681, 'ef': 682, 'phone': 683, 'woot': 684, 'derek': 685, 'use': 686, 'parkshar': 687, 'gloucestershir': 688, 'aaaahhh': 689, 'man': 690, 'traffic': 691, 'stress': 692, 'reliev': 693, \"how'r\": 694, 'arbeloa': 695, 'turn': 696, '17': 697, 'omg': 698, 'say': 699, 'europ': 700, 'rise': 701, 'find': 702, 'hard': 703, 'believ': 704, 'uncount': 705, 'coz': 706, 'unlimit': 707, 'cours': 708, 'teamposit': 709, 'aldub': 710, '☕': 711, 'rita': 712, 'info': 713, 'way': 714, 'boy': 715, 'x40': 716, 'true': 717, 'sethi': 718, 'high': 719, 'exe': 720, 'skeem': 721, 'saam': 722, 'peopl': 723, 'polit': 724, 'izzat': 725, 'wese': 726, 'trust': 727, 'khawateen': 728, 'k': 729, 'sath': 730, 'mana': 731, 'kar': 732, 'deya': 733, 'sort': 734, 'smart': 735, 'hair': 736, 'tbh': 737, 'jacob': 738, 'g': 739, 'upgrad': 740, 'tee': 741, 'famili': 742, 'person': 743, 'two': 744, 'convers': 745, 'onlin': 746, 'mclaren': 747, 'fridayfeel': 748, 'tgif': 749, 'squar': 750, 'enix': 751, 'bissmillah': 752, 'ya': 753, 'allah': 754, 'socent': 755, 'startup': 756, 'drop': 757, 'your': 758, 'arnd': 759, 'town': 760, 'basic': 761, 'piss': 762, 'cup': 763, 'also': 764, 'terribl': 765, 'complic': 766, 'discuss': 767, 'snapchat': 768, 'lynettelow': 769, 'kikmenow': 770, 'snapm': 771, 'hot': 772, 'amazon': 773, 'kikmeguy': 774, 'defin': 775, 'grow': 776, 'sport': 777, 'rt': 778, 'rakyat': 779, 'write': 780, 'sinc': 781, 'mention': 782, 'fli': 783, 'fish': 784, 'promot': 785, 'post': 786, 'cyber': 787, 'ourdaughtersourprid': 788, 'mypapamyprid': 789, 'papa': 790, 'coach': 791, 'posit': 792, 'kha': 793, 'atleast': 794, 'x39': 795, 'mango': 796, \"lassi'\": 797, \"monty'\": 798, 'marvel': 799, 'though': 800, 'suspect': 801, 'meant': 802, '24': 803, 'hr': 804, 'touch': 805, 'kepler': 806, '452b': 807, 'chalna': 808, 'hai': 809, 'thankyou': 810, 'hazel': 811, 'food': 812, 'brooklyn': 813, 'pta': 814, 'awak': 815, 'okayi': 816, 'awww': 817, 'ha': 818, 'doc': 819, 'splendid': 820, 'spam': 821, 'folder': 822, 'amount': 823, 'nigeria': 824, 'claim': 825, 'rted': 826, 'leg': 827, 'hurt': 828, 'bad': 829, 'mine': 830, 'saturday': 831, 'thaaank': 832, 'puhon': 833, 'happinesss': 834, 'tnc': 835, 'prior': 836, 'notif': 837, 'fat': 838, 'co': 839, 'probabl': 840, 'ate': 841, 'yuna': 842, 'tamesid': 843, '´': 844, 'googl': 845, 'account': 846, 'scouser': 847, 'everyth': 848, 'zoe': 849, 'mate': 850, 'liter': 851, 'samee': 852, 'edgar': 853, 'updat': 854, 'log': 855, 'bring': 856, 'abe': 857, 'meet': 858, 'x38': 859, 'sigh': 860, 'dreamili': 861, 'pout': 862, 'eye': 863, 'quacketyquack': 864, 'funni': 865, 'happen': 866, 'phil': 867, 'em': 868, 'del': 869, 'rodder': 870, 'els': 871, 'play': 872, 'newest': 873, 'gamejam': 874, 'irish': 875, 'literatur': 876, 'inaccess': 877, \"kareena'\": 878, 'fan': 879, 'brain': 880, 'dot': 881, 'braindot': 882, 'fair': 883, 'rush': 884, 'either': 885, 'brandi': 886, '18': 887, 'carniv': 888, 'men': 889, 'put': 890, 'mask': 891, 'xavier': 892, 'forneret': 893, 'jennif': 894, 'site': 895, 'free': 896, '50.000': 897, '8': 898, 'ball': 899, 'pool': 900, 'coin': 901, 'edit': 902, 'trish': 903, '♥': 904, 'grate': 905, 'three': 906, 'comment': 907, 'wakeup': 908, 'besid': 909, 'dirti': 910, 'sex': 911, 'lmaooo': 912, '😤': 913, 'loui': 914, 'throw': 915, 'caus': 916, 'inspir': 917, 'ff': 918, 'twoof': 919, 'gr8': 920, 'wkend': 921, 'kind': 922, 'exhaust': 923, 'word': 924, 'cheltenham': 925, 'area': 926, 'kale': 927, 'crisp': 928, 'ruin': 929, 'x37': 930, 'open': 931, 'worldwid': 932, 'outta': 933, 'sfvbeta': 934, 'vantast': 935, 'xcylin': 936, 'bundl': 937, 'show': 938, 'internet': 939, 'price': 940, 'realisticli': 941, 'pay': 942, 'net': 943, 'educ': 944, 'power': 945, 'weapon': 946, 'nelson': 947, 'mandela': 948, 'recent': 949, 'j': 950, 'chenab': 951, 'flow': 952, 'pakistan': 953, 'incredibleindia': 954, 'teenchoic': 955, 'choiceinternationalartist': 956, 'superjunior': 957, 'caught': 958, 'first': 959, 'salmon': 960, 'super-blend': 961, 'project': 962, 'youth@bipolaruk.org.uk': 963, 'awesom': 964, 'stream': 965, 'alma': 966, 'mater': 967, 'highschoolday': 968, 'clientvisit': 969, 'faith': 970, 'christian': 971, 'school': 972, 'lizaminnelli': 973, 'upcom': 974, 'uk': 975, '😄': 976, 'singl': 977, 'hill': 978, 'everi': 979, 'beat': 980, 'wrong': 981, 'readi': 982, 'natur': 983, 'pefumeri': 984, 'workshop': 985, 'neal': 986, 'yard': 987, 'covent': 988, 'tomorrow': 989, 'fback': 990, 'indo': 991, 'harmo': 992, 'americano': 993, 'rememb': 994, 'aww': 995, 'head': 996, 'saw': 997, 'dark': 998, 'handshom': 999, 'juga': 1000, 'hurray': 1001, 'hate': 1002, 'cant': 1003, 'decid': 1004, 'save': 1005, 'list': 1006, 'hiya': 1007, 'exec': 1008, 'loryn.good@lincs-chamber.co.uk': 1009, 'photo': 1010, 'thx': 1011, '4': 1012, 'china': 1013, 'homosexu': 1014, 'hyungbot': 1015, 'give': 1016, 'fam': 1017, 'mind': 1018, 'timetunnel': 1019, '1982': 1020, 'quit': 1021, 'radio': 1022, 'set': 1023, 'heart': 1024, 'hiii': 1025, 'jack': 1026, 'ili': 1027, '✨': 1028, 'domino': 1029, 'pub': 1030, 'heat': 1031, 'prob': 1032, 'sorri': 1033, 'hastili': 1034, 'type': 1035, 'came': 1036, 'pakistani': 1037, 'x36': 1038, '3point': 1039, 'dreamteam': 1040, 'gooo': 1041, 'bailey': 1042, 'pbb': 1043, '737gold': 1044, 'drank': 1045, 'old': 1046, 'gotten': 1047, '1/2': 1048, 'welsh': 1049, 'wale': 1050, 'yippe': 1051, '💟': 1052, 'bro': 1053, 'lord': 1054, 'michael': 1055, \"u'r\": 1056, 'ure': 1057, 'bigot': 1058, 'usual': 1059, 'front': 1060, 'squat': 1061, 'dobar': 1062, 'dan': 1063, 'brand': 1064, 'heavi': 1065, 'musicolog': 1066, '2015': 1067, 'spend': 1068, 'marathon': 1069, 'iflix': 1070, 'offici': 1071, 'graduat': 1072, 'cri': 1073, '__': 1074, 'yep': 1075, 'expert': 1076, 'bisexu': 1077, 'minal': 1078, 'aidzin': 1079, 'yo': 1080, 'pi': 1081, 'cook': 1082, 'book': 1083, 'dinner': 1084, 'tough': 1085, 'choic': 1086, 'other': 1087, 'chill': 1088, 'smu': 1089, 'oval': 1090, 'basketbal': 1091, 'player': 1092, 'whahahaha': 1093, 'soamaz': 1094, 'moment': 1095, 'onto': 1096, 'a5': 1097, 'wardrob': 1098, 'user': 1099, 'teamr': 1100, 'appar': 1101, 'depend': 1102, 'greatli': 1103, 'design': 1104, 'ahhh': 1105, '7th': 1106, 'cinepambata': 1107, 'mechan': 1108, 'form': 1109, 'download': 1110, 'ur': 1111, 'swisher': 1112, 'cop': 1113, 'ducktail': 1114, 'surreal': 1115, 'exposur': 1116, 'sotw': 1117, 'halesowen': 1118, 'blackcountryfair': 1119, 'street': 1120, 'assess': 1121, 'mental': 1122, 'bodi': 1123, 'ooz': 1124, 'appeal': 1125, 'amassiveoverdoseofship': 1126, 'latest': 1127, 'isi': 1128, 'chan': 1129, 'c': 1130, 'note': 1131, 'pkwalasawa': 1132, 'gemma': 1133, 'orlean': 1134, 'fever': 1135, 'geskenya': 1136, 'obamainkenya': 1137, 'magicalkenya': 1138, 'greatkenya': 1139, 'allgoodthingsk': 1140, 'anim': 1141, 'umaru': 1142, 'singer': 1143, 'ship': 1144, 'order': 1145, 'room': 1146, 'car': 1147, 'gone': 1148, 'hahaha': 1149, 'stori': 1150, 'relat': 1151, 'label': 1152, 'worst': 1153, 'batch': 1154, 'princip': 1155, 'due': 1156, 'march': 1157, 'wooftast': 1158, 'receiv': 1159, 'necessari': 1160, 'regret': 1161, 'rn': 1162, 'whatev': 1163, 'hat': 1164, 'success': 1165, 'abstin': 1166, 'wtf': 1167, \"there'\": 1168, 'thrown': 1169, 'middl': 1170, 'repeat': 1171, 'relentlessli': 1172, 'approxim': 1173, 'oldschool': 1174, 'runescap': 1175, 'daaay': 1176, 'jumma_mubarik': 1177, 'frnd': 1178, 'stay_bless': 1179, 'bless': 1180, 'pussycat': 1181, 'main': 1182, 'launch': 1183, 'pretoria': 1184, 'fahrinahmad': 1185, 'tengkuaaronshah': 1186, 'eksperimencinta': 1187, 'tykkäsin': 1188, 'videosta': 1189, 'month': 1190, 'hoodi': 1191, 'eeep': 1192, 'yay': 1193, 'sohappyrightnow': 1194, 'mmm': 1195, 'azz-set': 1196, 'babe': 1197, 'feedback': 1198, 'gain': 1199, 'valu': 1200, 'peac': 1201, 'refresh': 1202, 'manthan': 1203, 'tune': 1204, 'fresh': 1205, 'mother': 1206, 'determin': 1207, 'maxfreshmov': 1208, 'loneliest': 1209, 'tattoo': 1210, 'friday.and': 1211, 'magnific': 1212, 'e': 1213, 'achiev': 1214, 'rashmi': 1215, 'dedic': 1216, 'happyfriday': 1217, 'nearli': 1218, 'retweet': 1219, 'alert': 1220, 'da': 1221, 'dang': 1222, 'rad': 1223, 'fanart': 1224, 'massiv': 1225, 'niamh': 1226, 'fennel': 1227, 'journal': 1228, 'land': 1229, 'copi': 1230, 'past': 1231, 'tweet': 1232, 'yesss': 1233, 'ariana': 1234, 'selena': 1235, 'gomez': 1236, 'tomlinson': 1237, 'payn': 1238, 'caradelevingn': 1239, '🌷': 1240, 'trade': 1241, 'tire': 1242, 'nope': 1243, 'appli': 1244, 'iamca': 1245, 'found': 1246, 'afti': 1247, 'goodmorn': 1248, 'prokabaddi': 1249, 'koel': 1250, 'mallick': 1251, 'recit': 1252, 'nation': 1253, 'anthem': 1254, '6': 1255, 'yournaturallead': 1256, 'youngnaturallead': 1257, 'mon': 1258, '27juli': 1259, 'cumbria': 1260, 'flockstar': 1261, 'thur': 1262, '30juli': 1263, 'itv': 1264, 'sleeptight': 1265, 'haveagoodday': 1266, 'septemb': 1267, 'perhap': 1268, 'bb': 1269, 'full': 1270, 'album': 1271, 'fulli': 1272, 'intend': 1273, 'possibl': 1274, 'attack': 1275, '>:d': 1276, 'bird': 1277, 'teamadmicro': 1278, 'fridaydownpour': 1279, 'clear': 1280, 'rohit': 1281, 'queen': 1282, 'otwolgrandtrail': 1283, 'sheer': 1284, 'fact': 1285, 'obama': 1286, 'innumer': 1287, 'presid': 1288, 'ni': 1289, 'shauri': 1290, 'yako': 1291, 'memotohat': 1292, 'sunday': 1293, 'pamper': 1294, \"t'wa\": 1295, 'cabincrew': 1296, 'interview': 1297, 'langkawi': 1298, '1st': 1299, 'august': 1300, 'fulfil': 1301, 'fantasi': 1302, '👉': 1303, 'ex-tweleb': 1304, 'apart': 1305, 'makeov': 1306, 'brilliantli': 1307, 'happyyi': 1308, 'birthdaaayyy': 1309, 'kill': 1310, 'interest': 1311, 'internship': 1312, 'program': 1313, 'sadli': 1314, 'career': 1315, 'page': 1316, 'issu': 1317, 'sad': 1318, 'overwhelmingli': 1319, 'aha': 1320, 'beaut': 1321, '♬': 1322, 'win': 1323, 'deo': 1324, 'faaabul': 1325, 'freebiefriday': 1326, 'aluminiumfre': 1327, 'stayfresh': 1328, 'john': 1329, 'worri': 1330, 'navig': 1331, 'thnk': 1332, 'progrmr': 1333, '9pm': 1334, '9am': 1335, 'hardli': 1336, 'rose': 1337, 'emot': 1338, 'poetri': 1339, 'frequentfly': 1340, 'break': 1341, 'apolog': 1342, 'kb': 1343, 'londondairi': 1344, 'icecream': 1345, 'experi': 1346, 'cover': 1347, 'sin': 1348, 'excit': 1349, \":')\": 1350, 'xxx': 1351, 'jim': 1352, 'chuckl': 1353, 'cake': 1354, 'doh': 1355, '500': 1356, 'subscrib': 1357, 'reach': 1358, 'scorch': 1359, 'summer': 1360, 'younger': 1361, 'woman': 1362, 'stamina': 1363, 'expect': 1364, 'anyth': 1365, 'less': 1366, 'tweeti': 1367, 'fab': 1368, 'dont': 1369, '-->': 1370, '10': 1371, 'loner': 1372, 'introduc': 1373, 'vs': 1374, 'alter': 1375, 'understand': 1376, 'spread': 1377, 'problem': 1378, 'supa': 1379, 'dupa': 1380, 'near': 1381, 'dartmoor': 1382, 'gold': 1383, 'colour': 1384, 'ok': 1385, 'someday': 1386, 'r': 1387, 'dii': 1388, 'n': 1389, 'forget': 1390, 'si': 1391, 'smf': 1392, 'ft': 1393, 'japanes': 1394, 'import': 1395, 'kitti': 1396, 'match': 1397, 'stationari': 1398, 'draw': 1399, 'close': 1400, 'broken': 1401, 'specialis': 1402, 'thermal': 1403, 'imag': 1404, 'survey': 1405, '–': 1406, 'south': 1407, 'korea': 1408, 'scamper': 1409, 'slept': 1410, 'alarm': 1411, \"ain't\": 1412, 'mad': 1413, 'chweina': 1414, 'xd': 1415, 'jotzh': 1416, 'wast': 1417, 'place': 1418, 'worth': 1419, 'coat': 1420, 'beforehand': 1421, 'tho': 1422, 'foh': 1423, 'outsid': 1424, 'holiday': 1425, 'menac': 1426, 'jojo': 1427, 'ta': 1428, 'accept': 1429, 'admin': 1430, 'lukri': 1431, '😘': 1432, 'momma': 1433, 'bear': 1434, '❤': 1435, '️': 1436, 'redid': 1437, '8th': 1438, 'v.ball': 1439, 'atm': 1440, 'build': 1441, 'pack': 1442, 'suitcas': 1443, 'hang-copi': 1444, 'translat': 1445, \"dostoevsky'\": 1446, 'voucher': 1447, 'bugatti': 1448, 'bra': 1449, 'مطعم_هاشم': 1450, 'yummi': 1451, 'a7la': 1452, 'bdayt': 1453, 'mnwreeen': 1454, 'jazz': 1455, 'truck': 1456, 'x34': 1457, 'speak': 1458, 'pbevent': 1459, 'hq': 1460, 'add': 1461, 'yoona': 1462, 'hairpin': 1463, 'otp': 1464, 'collect': 1465, 'mastership': 1466, 'honey': 1467, 'paindo': 1468, 'await': 1469, 'report': 1470, 'manni': 1471, 'asshol': 1472, 'brijresid': 1473, 'structur': 1474, '156': 1475, 'unit': 1476, 'encompass': 1477, 'bhk': 1478, 'flat': 1479, '91': 1480, '975-580-': 1481, '444': 1482, 'honor': 1483, 'curri': 1484, 'clash': 1485, 'milano': 1486, '👌': 1487, 'followback': 1488, ':-d': 1489, 'legit': 1490, 'loser': 1491, 'gass': 1492, 'dead': 1493, 'starsquad': 1494, '⭐': 1495, 'news': 1496, 'utc': 1497, 'flume': 1498, 'kaytranada': 1499, 'alunageorg': 1500, 'ticket': 1501, 'km': 1502, 'certainti': 1503, 'solv': 1504, 'faster': 1505, '👊': 1506, 'hurri': 1507, 'totem': 1508, 'somewher': 1509, 'alic': 1510, 'dog': 1511, 'cat': 1512, 'goodwynsgoodi': 1513, 'ugh': 1514, 'fade': 1515, 'moan': 1516, 'leed': 1517, 'jozi': 1518, 'wasnt': 1519, 'fifth': 1520, 'avail': 1521, 'tix': 1522, 'pa': 1523, 'ba': 1524, 'ng': 1525, 'atl': 1526, 'coldplay': 1527, 'favorit': 1528, 'scientist': 1529, 'yellow': 1530, 'atla': 1531, 'yein': 1532, 'selo': 1533, 'jabongatpumaurbanstamped': 1534, 'an': 1535, '7': 1536, 'waiter': 1537, 'bill': 1538, 'sir': 1539, 'titl': 1540, 'pocket': 1541, 'wrip': 1542, 'jean': 1543, 'conni': 1544, 'crew': 1545, 'staff': 1546, 'sweetan': 1547, 'ask': 1548, 'mum': 1549, 'beg': 1550, 'soprano': 1551, 'ukrain': 1552, 'x33': 1553, 'olli': 1554, 'disney.art': 1555, 'elmoprinssi': 1556, 'salsa': 1557, 'danc': 1558, 'tell': 1559, 'truth': 1560, 'pl': 1561, '4-6': 1562, '2nd': 1563, 'blogiversari': 1564, 'review': 1565, 'cuti': 1566, 'bohol': 1567, 'briliant': 1568, 'v': 1569, 'key': 1570, 'annual': 1571, 'far': 1572, 'spin': 1573, 'voic': 1574, '\\U000fe334': 1575, 'yeheyi': 1576, 'pinya': 1577, 'whoooah': 1578, 'tranc': 1579, 'lover': 1580, 'subject': 1581, 'physic': 1582, 'stop': 1583, 'ब': 1584, 'matter': 1585, 'jungl': 1586, 'accommod': 1587, 'secret': 1588, 'behind': 1589, 'sandroforceo': 1590, 'ceo': 1591, '1month': 1592, 'swag': 1593, 'mia': 1594, 'workinprogress': 1595, 'choos': 1596, 'finnigan': 1597, 'loyal': 1598, 'royal': 1599, 'fotoset': 1600, 'reus': 1601, 'seem': 1602, 'somebodi': 1603, 'sell': 1604, 'young': 1605, 'muntu': 1606, 'anoth': 1607, 'gem': 1608, 'falco': 1609, 'supersmash': 1610, 'hotnsexi': 1611, 'friskyfriday': 1612, 'beach': 1613, 'movi': 1614, 'crop': 1615, 'nash': 1616, 'tissu': 1617, 'chocol': 1618, 'tea': 1619, 'hannib': 1620, 'episod': 1621, 'hotb': 1622, 'bush': 1623, 'classicassur': 1624, 'thrill': 1625, 'intern': 1626, 'assign': 1627, 'aerial': 1628, 'camera': 1629, 'oper': 1630, 'boom': 1631, 'hong': 1632, 'kong': 1633, 'ferri': 1634, 'central': 1635, 'girlfriend': 1636, 'after-work': 1637, 'drink': 1638, 'dj': 1639, 'resto': 1640, 'drinkt': 1641, 'koffi': 1642, 'a6': 1643, 'stargat': 1644, 'atlanti': 1645, 'muaahhh': 1646, 'ohh': 1647, 'hii': 1648, '🙈': 1649, 'di': 1650, 'nagsend': 1651, 'yung': 1652, 'ko': 1653, '</3': 1654, 'ulit': 1655, '🎉': 1656, '🎈': 1657, 'ugli': 1658, 'legget': 1659, 'qui': 1660, 'per': 1661, 'la': 1662, 'mar': 1663, 'encourag': 1664, 'employ': 1665, 'board': 1666, 'sticker': 1667, 'sponsor': 1668, 'prize': 1669, '(:': 1670, 'milo': 1671, 'aurini': 1672, 'juicebro': 1673, 'pillar': 1674, 'respect': 1675, 'boii': 1676, 'smashingbook': 1677, 'bibl': 1678, 'ill': 1679, 'sick': 1680, 'lamo': 1681, 'fangirl': 1682, 'platon': 1683, 'scienc': 1684, 'resid': 1685, 'servicewithasmil': 1686, 'bloodlin': 1687, 'huski': 1688, 'obituari': 1689, 'advert': 1690, 'goofingaround': 1691, 'bollywood': 1692, 'giveaway': 1693, 'dah': 1694, 'noth': 1695, 'bitter': 1696, 'anger': 1697, 'hatr': 1698, 'toward': 1699, 'pure': 1700, 'indiffer': 1701, 'suit': 1702, 'zach': 1703, 'codi': 1704, 'deliv': 1705, 'ac': 1706, 'excel': 1707, 'produc': 1708, 'boggl': 1709, 'fatigu': 1710, 'baareeq': 1711, 'gamedev': 1712, 'hobbi': 1713, 'tweenie_fox': 1714, 'click': 1715, 'accessori': 1716, 'tamang': 1717, 'hinala': 1718, 'niam': 1719, 'selfiee': 1720, 'especi': 1721, 'lass': 1722, 'ale': 1723, 'swim': 1724, 'bout': 1725, 'goodby': 1726, 'feminist': 1727, 'fought': 1728, 'snobbi': 1729, 'bitch': 1730, 'carolin': 1731, 'mighti': 1732, '🔥': 1733, 'threw': 1734, 'hbd': 1735, 'follback': 1736, 'jog': 1737, 'remot': 1738, 'newli': 1739, 'ebay': 1740, 'store': 1741, 'disneyinfin': 1742, 'starwar': 1743, 'charact': 1744, 'preorder': 1745, 'starter': 1746, 'hit': 1747, 'snap': 1748, 'homi': 1749, 'bought': 1750, 'skin': 1751, 'bday': 1752, 'chant': 1753, 'jai': 1754, 'itali': 1755, 'fast': 1756, 'heeeyyy': 1757, 'woah': 1758, '★': 1759, '😊': 1760, 'whenev': 1761, 'ang': 1762, 'kiss': 1763, 'philippin': 1764, 'packag': 1765, 'bruis': 1766, 'rib': 1767, '😀': 1768, '😁': 1769, '😂': 1770, '😃': 1771, '😅': 1772, '😉': 1773, 'tombraid': 1774, 'hype': 1775, 'thejuiceinthemix': 1776, 'rela': 1777, 'low': 1778, 'prioriti': 1779, 'harri': 1780, 'bc': 1781, 'collaps': 1782, 'chaotic': 1783, 'cosa': 1784, '<---': 1785, 'alliter': 1786, 'oppayaa': 1787, \"how'\": 1788, 'natgeo': 1789, 'lick': 1790, 'elbow': 1791, '. .': 1792, '“': 1793, 'emu': 1794, 'stoke': 1795, 'woke': 1796, \"people'\": 1797, 'approv': 1798, \"god'\": 1799, 'jisung': 1800, 'sunshin': 1801, 'mm': 1802, 'nicola': 1803, 'brighten': 1804, 'helen': 1805, 'brian': 1806, '2-3': 1807, 'australia': 1808, 'ol': 1809, 'bone': 1810, 'creak': 1811, 'abuti': 1812, 'tweetland': 1813, 'android': 1814, 'xma': 1815, 'skyblock': 1816, 'bcaus': 1817, '2009': 1818, 'die': 1819, 'twitch': 1820, 'sympathi': 1821, 'laugh': 1822, 'unniee': 1823, 'nuka': 1824, 'penacova': 1825, 'djset': 1826, 'edm': 1827, 'kizomba': 1828, 'latinhous': 1829, 'housemus': 1830, 'portug': 1831, 'wild': 1832, 'ride': 1833, 'anytim': 1834, 'tast': 1835, 'yer': 1836, 'mtn': 1837, 'maganda': 1838, 'mistress': 1839, 'saphir': 1840, 'busi': 1841, '4000': 1842, 'instagram': 1843, 'among': 1844, 'coconut': 1845, 'sambal': 1846, 'mussel': 1847, 'recip': 1848, 'kalin': 1849, 'mixcloud': 1850, 'sarcasm': 1851, 'chelsea': 1852, 'he': 1853, 'useless': 1854, 'thursday': 1855, 'hang': 1856, 'hehe': 1857, 'said': 1858, 'benson': 1859, 'facebook': 1860, 'solid': 1861, '16/17': 1862, '30': 1863, '°': 1864, '😜': 1865, 'maryhick': 1866, 'kikmeboy': 1867, 'photooftheday': 1868, 'musicbiz': 1869, 'sheskindahot': 1870, 'fleekil': 1871, 'mbalula': 1872, 'africa': 1873, 'mexican': 1874, 'scar': 1875, 'offic': 1876, 'donut': 1877, 'foiegra': 1878, 'despit': 1879, 'weather': 1880, 'wed': 1881, 'toni': 1882, 'stark': 1883, 'incred': 1884, 'poem': 1885, 'bubbl': 1886, 'dale': 1887, 'billion': 1888, 'magic': 1889, 'op': 1890, 'cast': 1891, 'vote': 1892, 'elect': 1893, 'jcreport': 1894, 'piggin': 1895, 'botan': 1896, 'soap': 1897, 'late': 1898, 'upload': 1899, 'freshli': 1900, '3week': 1901, 'heal': 1902, 'tobi-bro': 1903, 'isp': 1904, 'steel': 1905, 'wednesday': 1906, 'swear': 1907, 'met': 1908, 'earlier': 1909, 'cam': 1910, '😭': 1911, 'except': 1912, \"masha'allah\": 1913, 'french': 1914, 'wwat': 1915, 'franc': 1916, 'yaaay': 1917, 'beirut': 1918, 'coffe': 1919, 'panda': 1920, 'eonni': 1921, 'favourit': 1922, 'soda': 1923, 'fuller': 1924, 'shit': 1925, 'healthi': 1926, '💓': 1927, 'rettweet': 1928, 'mvg': 1929, 'valuabl': 1930, 'madrid': 1931, 'sore': 1932, 'bergerac': 1933, 'u21': 1934, 'individu': 1935, 'adam': 1936, \"beach'\": 1937, 'suicid': 1938, 'squad': 1939, 'fond': 1940, 'christoph': 1941, 'cocki': 1942, 'prove': 1943, \"attitude'\": 1944, 'improv': 1945, 'suggest': 1946, 'date': 1947, 'inde': 1948, 'intellig': 1949, 'strong': 1950, 'cs': 1951, 'certain': 1952, 'exam': 1953, 'forgot': 1954, 'home-bas': 1955, 'knee': 1956, 'sale': 1957, 'fleur': 1958, 'dress': 1959, 'readystock_hijabmart': 1960, 'idr': 1961, '325.000': 1962, '200.000': 1963, 'tompolo': 1964, 'aim': 1965, 'cannot': 1966, 'buyer': 1967, 'disappoint': 1968, 'paper': 1969, 'slack': 1970, 'crack': 1971, 'particularli': 1972, 'strike': 1973, '31': 1974, 'mam': 1975, 'feytyaz': 1976, 'instant': 1977, 'stiffen': 1978, 'ricky_feb': 1979, 'grindea': 1980, 'courier': 1981, 'crypt': 1982, 'arma': 1983, 'record': 1984, 'gosh': 1985, 'limbo': 1986, 'orchard': 1987, 'art': 1988, 'super': 1989, 'karachi': 1990, 'ka': 1991, 'venic': 1992, 'sever': 1993, 'part': 1994, 'wit': 1995, 'accumul': 1996, 'maroon': 1997, 'cocktail': 1998, '0-100': 1999, 'quick': 2000, '1100d': 2001, 'auto-focu': 2002, 'manual': 2003, 'vein': 2004, 'crackl': 2005, 'glaze': 2006, 'layout': 2007, 'bomb': 2008, 'social': 2009, 'websit': 2010, 'pake': 2011, 'joim': 2012, 'feed': 2013, 'troop': 2014, 'mail': 2015, 'ladolcevitainluxembourg@hotmail.com': 2016, 'prrequest': 2017, 'journorequest': 2018, 'the_madstork': 2019, 'shaun': 2020, 'bot': 2021, 'chloe': 2022, 'actress': 2023, 'away': 2024, 'wick': 2025, 'hola': 2026, 'juan': 2027, 'houston': 2028, 'tx': 2029, 'jenni': 2030, \"year'\": 2031, 'stumbl': 2032, 'upon': 2033, 'prob.nic': 2034, 'choker': 2035, 'btw': 2036, 'seouljin': 2037, 'photoset': 2038, 'sadomasochistsparadis': 2039, 'wynter': 2040, 'bottom': 2041, 'outtak': 2042, 'sadomasochist': 2043, 'paradis': 2044, 'ty': 2045, 'bbi': 2046, 'clip': 2047, 'lose': 2048, 'cypher': 2049, 'amen': 2050, 'x32': 2051, 'plant': 2052, 'allow': 2053, 'corner': 2054, 'addict': 2055, 'gurl': 2056, 'suck': 2057, 'special': 2058, 'owe': 2059, 'daniel': 2060, 'ape': 2061, 'saar': 2062, 'ahead': 2063, 'vers': 2064, 'butterfli': 2065, 'bonu': 2066, 'fill': 2067, 'tear': 2068, 'laughter': 2069, '5so': 2070, 'yummmyyi': 2071, 'eat': 2072, 'dosa': 2073, 'easier': 2074, 'unless': 2075, 'achi': 2076, 'youuu': 2077, 'bawi': 2078, 'ako': 2079, 'queenesth': 2080, 'sharp': 2081, 'yess': 2082, 'poldi': 2083, 'cimbom': 2084, 'buddi': 2085, 'bruhhh': 2086, 'daddi': 2087, '”': 2088, 'knowledg': 2089, 'attent': 2090, '1tb': 2091, 'bank': 2092, 'credit': 2093, 'depart': 2094, 'anz': 2095, 'extrem': 2096, 'offshor': 2097, 'absolut': 2098, 'classic': 2099, 'gottolovebank': 2100, 'yup': 2101, 'in-shaa-allah': 2102, 'dua': 2103, 'thru': 2104, 'aameen': 2105, '4/5': 2106, 'coca': 2107, 'cola': 2108, 'fanta': 2109, 'pepsi': 2110, 'sprite': 2111, 'all': 2112, 'sweeeti': 2113, ';-)': 2114, 'welcometweet': 2115, 'psygustokita': 2116, 'setup': 2117, 'wet': 2118, 'feet': 2119, 'carpet': 2120, 'judgment': 2121, 'hypocrit': 2122, 'narcissist': 2123, 'jumpsuit': 2124, 'bt': 2125, 'denim': 2126, 'verg': 2127, 'owl': 2128, 'constant': 2129, 'run': 2130, 'sia': 2131, 'count': 2132, 'brilliant': 2133, 'teacher': 2134, 'compar': 2135, 'religion': 2136, 'rant': 2137, 'student': 2138, 'bencher': 2139, '1/5': 2140, 'porsch': 2141, 'paddock': 2142, 'budapestgp': 2143, 'johnyherbert': 2144, 'roll': 2145, 'porschesupercup': 2146, 'koyal': 2147, 'melodi': 2148, 'unexpect': 2149, 'creat': 2150, 'memori': 2151, '35': 2152, 'ep': 2153, 'catch': 2154, 'wirh': 2155, 'arc': 2156, 'x31': 2157, 'wolv': 2158, 'desir': 2159, 'ameen': 2160, 'kca': 2161, 'votejkt': 2162, '48id': 2163, 'helpinggroupdm': 2164, 'quot': 2165, 'weird': 2166, 'dp': 2167, 'wife': 2168, 'poor': 2169, 'chick': 2170, 'guid': 2171, 'zonzofox': 2172, 'bhaiya': 2173, 'brother': 2174, 'lucki': 2175, 'patti': 2176, 'elabor': 2177, 'kuch': 2178, 'rate': 2179, 'merdeka': 2180, 'palac': 2181, 'hotel': 2182, 'plusmil': 2183, 'servic': 2184, 'hahahaa': 2185, 'mean': 2186, 'nex': 2187, 'safe': 2188, 'gwd': 2189, 'she': 2190, 'okok': 2191, '33': 2192, 'idiot': 2193, 'chaerin': 2194, 'unni': 2195, 'viabl': 2196, 'altern': 2197, 'nowaday': 2198, 'ip': 2199, 'tombow': 2200, 'abt': 2201, 'friyay': 2202, 'smug': 2203, 'marrickvil': 2204, 'public': 2205, 'ten': 2206, 'ago': 2207, 'eighteen': 2208, 'auvssscr': 2209, 'ncaaseason': 2210, 'slow': 2211, 'popsicl': 2212, 'soft': 2213, 'melt': 2214, 'mouth': 2215, 'thankyouuu': 2216, 'dianna': 2217, 'ngga': 2218, 'usah': 2219, 'dipikirin': 2220, 'elah': 2221, 'easili': 2222, \"who'\": 2223, 'entp': 2224, 'killin': 2225, 'meme': 2226, 'worthi': 2227, 'shot': 2228, 'emon': 2229, 'decent': 2230, 'outdoor': 2231, 'rave': 2232, 'dv': 2233, 'aku': 2234, 'bakal': 2235, 'liat': 2236, 'kak': 2237, 'merri': 2238, 'tv': 2239, 'outfit': 2240, '--->': 2241, 'fashionfriday': 2242, 'angle.nelson': 2243, 'cheap': 2244, 'mymonsoonstori': 2245, 'tree': 2246, 'lotion': 2247, 'moistur': 2248, 'monsoon': 2249, 'whoop': 2250, 'romant': 2251, 'valencia': 2252, 'daaru': 2253, 'parti': 2254, 'chaddi': 2255, 'wonderful.great': 2256, 'trim': 2257, 'pube': 2258, 'es': 2259, 'mi': 2260, 'tio': 2261, 'sinaloa': 2262, 'arr': 2263, 'stylish': 2264, 'trendi': 2265, 'kim': 2266, 'fabfriday': 2267, 'facetim': 2268, 'calum': 2269, 'constantli': 2270, 'announc': 2271, 'filbarbarian': 2272, 'beer': 2273, 'arm': 2274, 'testicl': 2275, 'light': 2276, 'katerina': 2277, 'maniataki': 2278, 'ahh': 2279, 'alright': 2280, 'worthwhil': 2281, 'judg': 2282, 'tech': 2283, 'window': 2284, 'stupid': 2285, 'plugin': 2286, 'bass': 2287, 'slap': 2288, '6pm': 2289, 'door': 2290, 'vip': 2291, 'gener': 2292, 'seat': 2293, 'earli': 2294, 'london': 2295, 'toptravelcentar': 2296, 'ttctop': 2297, 'lux': 2298, 'luxurytravel': 2299, 'beograd': 2300, 'srbija': 2301, 'putovanja': 2302, 'wendi': 2303, 'provid': 2304, 'drainag': 2305, 'homebound': 2306, 'hahahay': 2307, 'yeeeah': 2308, 'moar': 2309, 'kitteh': 2310, 'incom': 2311, 'tower': 2312, 'yippee': 2313, 'scrummi': 2314, 'bio': 2315, 'mcpe': 2316, '->': 2317, 'vainglori': 2318, 'driver': 2319, '6:01': 2320, 'lilydal': 2321, 'fss': 2322, 'rais': 2323, 'magicalmysterytour': 2324, 'chek': 2325, 'rule': 2326, 'weebli': 2327, 'donetsk': 2328, 'earth': 2329, 'personalis': 2330, 'wrap': 2331, 'stationeri': 2332, 'adrian': 2333, 'parcel': 2334, 'tuesday': 2335, 'pri': 2336, '80': 2337, 'wz': 2338, 'pattern': 2339, 'cut': 2340, 'buttonhol': 2341, '4mi': 2342, 'famou': 2343, 'client': 2344, 'p': 2345, 'aliv': 2346, 'trial': 2347, 'spm': 2348, 'dinooo': 2349, 'cardio': 2350, 'steak': 2351, 'cue': 2352, 'laptop': 2353, 'guinea': 2354, 'pig': 2355, 'salamat': 2356, 'sa': 2357, 'mga': 2358, 'nag.greet': 2359, 'guis': 2360, 'godbless': 2361, 'crush': 2362, 'appl': 2363, 'deserv': 2364, 'charl': 2365, 'workhard': 2366, 'model': 2367, 'forrit': 2368, 'bread': 2369, 'bacon': 2370, 'butter': 2371, 'afang': 2372, 'soup': 2373, 'semo': 2374, 'brb': 2375, 'forc': 2376, 'doesnt': 2377, 'tato': 2378, 'bulat': 2379, 'concern': 2380, 'snake': 2381, 'perform': 2382, 'con': 2383, 'todayyy': 2384, 'max': 2385, 'gaza': 2386, 'bbb': 2387, 'pc': 2388, '22': 2389, 'legal': 2390, 'ditch': 2391, 'tori': 2392, 'bajrangibhaijaanhighestweek': 2393, \"s'okay\": 2394, 'andi': 2395, 'you-and': 2396, 'return': 2397, 'tuitutil': 2398, 'bud': 2399, 'learn': 2400, 'takeaway': 2401, 'instead': 2402, '1hr': 2403, 'genial': 2404, 'competit': 2405, 'yosh': 2406, 'procrastin': 2407, 'plu': 2408, 'kfc': 2409, 'itun': 2410, 'dedicatedfan': 2411, '💜': 2412, 'daft': 2413, 'teeth': 2414, 'troubl': 2415, 'huxley': 2416, 'basket': 2417, 'ben': 2418, 'sent': 2419, 'gamer': 2420, 'activ': 2421, '120': 2422, 'distanc': 2423, 'suitabl': 2424, 'stockholm': 2425, 'zack': 2426, 'destroy': 2427, 'heel': 2428, 'claw': 2429, 'q': 2430, 'blond': 2431, 'box': 2432, 'cheerio': 2433, 'seed': 2434, 'cutest': 2435, 'ffback': 2436, 'spotifi': 2437, 'vc': 2438, 'tgp': 2439, 'race': 2440, 'averag': 2441, \"joe'\": 2442, 'bluejay': 2443, 'vinylbear': 2444, 'pal': 2445, 'furbabi': 2446, 'luff': 2447, 'mega': 2448, 'retail': 2449, 'boot': 2450, 'whsmith': 2451, 'ps3': 2452, 'shannon': 2453, 'na': 2454, 'redecor': 2455, 'bob': 2456, 'elli': 2457, 'mairi': 2458, 'workout': 2459, 'impair': 2460, 'uggghhh': 2461, 'dam': 2462, 'dun': 2463, 'eczema': 2464, 'suffer': 2465, 'ndee': 2466, 'pleasur': 2467, 'publiliu': 2468, 'syru': 2469, 'fear': 2470, 'death': 2471, 'dread': 2472, 'fell': 2473, 'fuk': 2474, 'unblock': 2475, 'tweak': 2476, 'php': 2477, 'fall': 2478, 'oomf': 2479, 'pippa': 2480, 'hschool': 2481, 'bu': 2482, 'cardi': 2483, 'everyday': 2484, 'everytim': 2485, 'hk': 2486, \"why'd\": 2487, 'acorn': 2488, 'origin': 2489, 'c64': 2490, 'cpu': 2491, 'consider': 2492, 'advanc': 2493, 'onair': 2494, 'bay': 2495, 'hold': 2496, 'river': 2497, '0878 0388': 2498, '1033': 2499, '0272 3306': 2500, '70': 2501, 'rescu': 2502, 'mutt': 2503, 'confirm': 2504, 'deliveri': 2505, 'switch': 2506, 'lap': 2507, 'optim': 2508, 'lu': 2509, ':|': 2510, 'tweetofthedecad': 2511, 'class': 2512, 'happiest': 2513, 'bbmme': 2514, 'pin': 2515, '7df9e60a': 2516, 'bbm': 2517, 'bbmpin': 2518, 'addmeonbbm': 2519, 'addm': 2520, \"today'\": 2521, 'menu': 2522, 'marri': 2523, 'glenn': 2524, 'what': 2525, 'height': 2526, \"sculptor'\": 2527, 'ti5': 2528, 'dota': 2529, 'nudg': 2530, 'spot': 2531, 'tasti': 2532, 'hilli': 2533, 'cycl': 2534, 'england': 2535, 'scotlandismass': 2536, 'gen': 2537, 'vikk': 2538, 'fna': 2539, 'mombasa': 2540, 'tukutanemombasa': 2541, '100reasonstovisitmombasa': 2542, 'karibumombasa': 2543, 'hanbin': 2544, 'certainli': 2545, 'goosnight': 2546, 'kindli': 2547, 'familiar': 2548, 'jealou': 2549, 'tent': 2550, 'yea': 2551, 'cozi': 2552, 'phenomen': 2553, 'collab': 2554, 'gave': 2555, 'birth': 2556, 'behav': 2557, 'monster': 2558, 'spree': 2559, '000': 2560, 'tank': 2561, 'outstand': 2562, 'donat': 2563, 'h': 2564, 'contestkiduniya': 2565, 'mfundo': 2566, 'och': 2567, 'hun': 2568, 'inner': 2569, 'nerd': 2570, 'tame': 2571, 'insidi': 2572, 'logic': 2573, 'math': 2574, 'channel': 2575, 'continu': 2576, 'doubt': 2577, '300': 2578, 'sub': 2579, '200': 2580, 'forgiven': 2581, 'manner': 2582, 'yhooo': 2583, 'ngi': 2584, 'mood': 2585, 'push': 2586, 'limit': 2587, 'obakeng': 2588, 'goat': 2589, 'alhamdullilah': 2590, 'pebbl': 2591, 'engross': 2592, 'bing': 2593, 'scream': 2594, 'whole': 2595, 'wide': 2596, '🌎': 2597, '😧': 2598, 'wat': 2599, 'muahhh': 2600, 'pausetim': 2601, 'drift': 2602, 'loos': 2603, 'campaign': 2604, 'kickstart': 2605, 'articl': 2606, 'jenna': 2607, 'bellybutton': 2608, 'inni': 2609, 'outi': 2610, 'havent': 2611, 'delish': 2612, 'joselito': 2613, 'freya': 2614, 'nth': 2615, 'latepost': 2616, 'lupet': 2617, 'mo': 2618, 'eric': 2619, 'askaman': 2620, '150': 2621, '0345': 2622, '454': 2623, '111': 2624, 'webz': 2625, 'oop': 2626, 'realis': 2627, 'anymor': 2628, 'carmel': 2629, 'decis': 2630, 'matt': 2631, '@commoncultur': 2632, '@connorfranta': 2633, 'honestli': 2634, 'explain': 2635, 'relationship': 2636, 'pick': 2637, 'tessnzach': 2638, 'paperboy': 2639, 'honest': 2640, 'reassur': 2641, 'guysss': 2642, 'mubank': 2643, \"dongwoo'\": 2644, 'bright': 2645, 'tommorow': 2646, 'newyork': 2647, 'lolll': 2648, 'twinx': 2649, '16': 2650, 'path': 2651, 'firmansyahbl': 2652, 'procedur': 2653, 'grim': 2654, 'fandango': 2655, 'ordinari': 2656, 'extraordinari': 2657, 'bo': 2658, 'birmingham': 2659, 'oracl': 2660, 'samosa': 2661, 'firebal': 2662, 'shoe': 2663, 'serv': 2664, 'sushi': 2665, 'shoeshi': 2666, '�': 2667, 'lymond': 2668, 'philippa': 2669, 'novel': 2670, 'tara': 2671, '. . .': 2672, 'aur': 2673, 'han': 2674, 'imran': 2675, 'khan': 2676, '63': 2677, 'agaaain': 2678, 'doli': 2679, 'siregar': 2680, 'ninh': 2681, 'size': 2682, 'geekiest': 2683, 'geek': 2684, 'wallet': 2685, 'request': 2686, 'media': 2687, 'ralli': 2688, 'rotat': 2689, 'direct': 2690, 'eek': 2691, 'red': 2692, 'beij': 2693, 'meni': 2694, 'tebrik': 2695, 'etdi': 2696, '700': 2697, '💗': 2698, 'rod': 2699, 'embrac': 2700, 'actor': 2701, 'aplomb': 2702, 'foreveralon': 2703, 'mysumm': 2704, '01482': 2705, '333505': 2706, 'hahahaha': 2707, 'wear': 2708, 'uniform': 2709, 'evil': 2710, 'owww': 2711, 'choo': 2712, 'chweet': 2713, 'shorthair': 2714, 'oscar': 2715, 'realiz': 2716, 'harmoni': 2717, 'deneriveri': 2718, '506': 2719, 'kiksext': 2720, 'kikkomansabor': 2721, 'killer': 2722, 'henessydiari': 2723, 'journey': 2724, 'band': 2725, 'plz': 2726, 'convo': 2727, '11': 2728, 'vault': 2729, 'expand': 2730, 'vinni': 2731, 'money': 2732, 'hahahahaha': 2733, '50cent': 2734, 'repay': 2735, 'debt': 2736, 'evet': 2737, 'wifi': 2738, 'lifestyl': 2739, 'qatarday': 2740, '. ..': 2741, '🌞': 2742, 'girli': 2743, 'india': 2744, 'innov': 2745, 'volunt': 2746, 'saran': 2747, 'drama': 2748, 'genr': 2749, 'romanc': 2750, 'comedi': 2751, 'leannerin': 2752, '19': 2753, 'porno': 2754, 'l4l': 2755, 'weloveyounamjoon': 2756, 'homey': 2757, 'kenya': 2758, 'roller': 2759, 'coaster': 2760, 'aspect': 2761, 'najam': 2762, 'confess': 2763, 'pricelessantiqu': 2764, 'takesonetoknowon': 2765, 'extra': 2766, 'ucount': 2767, 'ji': 2768, 'turkish': 2769, 'knew': 2770, 'crap': 2771, 'burn': 2772, '80x': 2773, 'airlin': 2774, 'sexi': 2775, 'yello': 2776, 'gail': 2777, 'yael': 2778, 'lesson': 2779, 'en': 2780, 'mano': 2781, 'hand': 2782, 'manag': 2783, 'prettiest': 2784, 'reader': 2785, 'dnt': 2786, 'ideal': 2787, 'weekli': 2788, 'idol': 2789, 'pose': 2790, 'shortlist': 2791, 'dominion': 2792, 'picnic': 2793, 'tmrw': 2794, 'nobodi': 2795, 'jummamubarak': 2796, 'shower': 2797, 'shalwarkameez': 2798, 'itter': 2799, 'offer': 2800, 'jummapray': 2801, 'af': 2802, 'display': 2803, 'enabl': 2804, 'compani': 2805, 'peep': 2806, 'tweep': 2807, 'folow': 2808, '2k': 2809, 'ohhh': 2810, 'teaser': 2811, 'airec': 2812, '009': 2813, 'acid': 2814, 'mous': 2815, '31st': 2816, 'includ': 2817, 'robin': 2818, 'rough': 2819, 'control': 2820, 'remix': 2821, 'fave': 2822, 'toss': 2823, 'ladi': 2824, '🐑': 2825, 'librari': 2826, 'mr2': 2827, 'climb': 2828, 'cuddl': 2829, 'jilla': 2830, 'headlin': 2831, '2017': 2832, 'jumma': 2833, 'mubarik': 2834, 'spent': 2835, 'congratz': 2836, 'contribut': 2837, '2.0': 2838, 'yuppiiee': 2839, 'alienthought': 2840, 'happyalien': 2841, 'crowd': 2842, 'loudest': 2843, 'gari': 2844, 'particular': 2845, 'attract': 2846, 'supprt': 2847, 'savag': 2848, 'cleans': 2849, 'scam': 2850, 'ridden': 2851, 'vyapam': 2852, 'renam': 2853, 'wave': 2854, 'couch': 2855, 'dodg': 2856, 'explan': 2857, 'bag': 2858, 'sanza': 2859, 'yaa': 2860, 'slr': 2861, 'som': 2862, 'honour': 2863, 'heheh': 2864, 'view': 2865, 'explor': 2866, 'wayanadan': 2867, 'forest': 2868, 'wayanad': 2869, 'srijith': 2870, 'whisper': 2871, 'lie': 2872, 'pokemon': 2873, 'dazzl': 2874, 'urself': 2875, 'doubl': 2876, 'flare': 2877, 'black': 2878, '9': 2879, '51': 2880, 'brows': 2881, 'bore': 2882, 'femal': 2883, 'tour': 2884, 'delv': 2885, 'muchhh': 2886, 'tmr': 2887, 'breakfast': 2888, 'gl': 2889, \"tonight'\": 2890, '):': 2891, 'litey': 2892, 'manuella': 2893, 'abhi': 2894, 'tak': 2895, 'nhi': 2896, 'dekhi': 2897, 'promo': 2898, 'se': 2899, 'xpax': 2900, 'lisa': 2901, 'aboard': 2902, 'institut': 2903, 'nc': 2904, 'chees': 2905, 'overload': 2906, 'pizza': 2907, '•': 2908, 'mcfloat': 2909, 'fudg': 2910, 'sanda': 2911, 'munchkin': 2912, \"d'd\": 2913, 'granni': 2914, 'baller': 2915, 'lil': 2916, 'chain': 2917, 'everybodi': 2918, 'ought': 2919, 'jay': 2920, 'events@breastcancernow.org': 2921, '79x': 2922, 'champion': 2923, 'letter': 2924, 'uniqu': 2925, 'affaraid': 2926, 'dearslim': 2927, 'role': 2928, 'billi': 2929, 'lab': 2930, 'ovh': 2931, 'maxi': 2932, 'bunch': 2933, 'acc': 2934, 'sprit': 2935, 'you': 2936, 'til': 2937, 'hammi': 2938, 'freedom': 2939, 'pistol': 2940, 'unlock': 2941, 'bemeapp': 2942, 'thumb': 2943, 'beme': 2944, 'bemecod': 2945, 'proudtobem': 2946, 'round': 2947, 'calm': 2948, 'kepo': 2949, 'luckili': 2950, 'clearli': 2951, 'دعمم': 2952, 'للعودة': 2953, 'للحياة': 2954, 'heiyo': 2955, 'dudafti': 2956, 'breaktym': 2957, 'fatal': 2958, 'danger': 2959, 'term': 2960, 'health': 2961, 'outrag': 2962, '645k': 2963, 'muna': 2964, 'magstart': 2965, 'salut': 2966, '→': 2967, 'thq': 2968, 'contin': 2969, 'thalaivar': 2970, '£': 2971, 'heiya': 2972, 'grab': 2973, '30.000': 2974, 'av': 2975, 'gd': 2976, 'wknd': 2977, 'ear': 2978, \"y'day\": 2979, 'hxh': 2980, 'badass': 2981, 'killua': 2982, 'scene': 2983, '78x': 2984, 'unappreci': 2985, 'graciou': 2986, 'nailedit': 2987, 'ourdisneyinfin': 2988, 'mari': 2989, 'jillmil': 2990, 'webcam': 2991, 'elfindelmundo': 2992, 'mainli': 2993, 'favour': 2994, 'dancetast': 2995, 'satyajit': 2996, \"ray'\": 2997, 'porosh': 2998, 'pathor': 2999, 'situat': 3000, 'goldbug': 3001, 'wine': 3002, 'bottl': 3003, 'spill': 3004, 'jazmin': 3005, 'bonilla': 3006, '15000': 3007, 'star': 3008, 'hollywood': 3009, 'rofl': 3010, 'shade': 3011, 'grey': 3012, 'netsec': 3013, 'kev': 3014, 'sister': 3015, 'told': 3016, 'unlist': 3017, 'hickey': 3018, 'dad': 3019, 'hock': 3020, 'mamma': 3021, 'human': 3022, 'be': 3023, 'mere': 3024, 'holist': 3025, 'cosmovis': 3026, 'narrow-mind': 3027, 'charg': 3028, 'cess': 3029, 'alix': 3030, 'quan': 3031, 'tip': 3032, 'naaahhh': 3033, 'duh': 3034, 'emesh': 3035, 'hilari': 3036, 'kath': 3037, 'kia': 3038, '@vauk': 3039, 'tango': 3040, 'tracerequest': 3041, 'dassi': 3042, 'fwm': 3043, 'selamat': 3044, 'nichola': 3045, 'malta': 3046, 'gto': 3047, 'tomorrowland': 3048, 'incal': 3049, 'shob': 3050, 'incomplet': 3051, 'barkada': 3052, 'silverston': 3053, 'pull': 3054, 'bookstor': 3055, 'ganna': 3056, 'hillari': 3057, 'clinton': 3058, 'court': 3059, 'notic': 3060, 'slice': 3061, 'life-so': 3062, 'hidden': 3063, 'untap': 3064, 'mca': 3065, 'gettin': 3066, 'hella': 3067, 'wana': 3068, 'bandz': 3069, 'hell': 3070, 'donington': 3071, 'park': 3072, '24/25': 3073, 'x30': 3074, 'merci': 3075, 'bien': 3076, 'pitbul': 3077, '777x': 3078, 'fri': 3079, 'annyeong': 3080, 'oppa': 3081, 'indonesian': 3082, 'elf': 3083, 'flight': 3084, 'bf': 3085, 'jennyjean': 3086, 'kikchat': 3087, 'sabadodeganarseguidor': 3088, 'sexysasunday': 3089, 'marseil': 3090, 'ganda': 3091, 'fnaf': 3092, 'steam': 3093, 'assur': 3094, 'current': 3095, 'goin': 3096, 'sweeti': 3097, 'strongest': 3098, \"spot'\": 3099, 'barnstapl': 3100, 'bideford': 3101, 'abit': 3102, 'road': 3103, 'rocro': 3104, '13glodyysbro': 3105, 'hire': 3106, '2ne1': 3107, 'aspetti': 3108, 'chicken': 3109, 'chip': 3110, 'cupboard': 3111, 'empti': 3112, 'jami': 3113, 'ian': 3114, 'latin': 3115, 'asian': 3116, 'version': 3117, 'va': 3118, '642': 3119, 'kikgirl': 3120, 'orgasm': 3121, 'phonesex': 3122, 'spacer': 3123, 'felic': 3124, 'smoak': 3125, '👓': 3126, '💘': 3127, 'children': 3128, 'psychopath': 3129, 'spoil': 3130, 'dimpl': 3131, 'contempl': 3132, 'indi': 3133, 'rout': 3134, 'jsl': 3135, '76x': 3136, 'gotcha': 3137, 'kina': 3138, 'donna': 3139, 'reachabl': 3140, 'jk': 3141, 's02e04': 3142, 'air': 3143, 'naggi': 3144, 'anal': 3145, 'child': 3146, 'vidcon': 3147, 'anxiou': 3148, 'shake': 3149, '10:30': 3150, 'smoke': 3151, 'white': 3152, 'grandpa': 3153, 'prolli': 3154, 'stash': 3155, 'closer-chas': 3156, 'spec': 3157, 'leagu': 3158, 'chase': 3159, 'wall': 3160, 'angel': 3161, 'mochamichel': 3162, 'iph': 3163, '0ne': 3164, 'simpli': 3165, 'bi0': 3166, 'x29': 3167, 'there': 3168, 'background': 3169, 'maggi': 3170, 'afraid': 3171, 'mull': 3172, 'nil': 3173, 'glasgow': 3174, 'netbal': 3175, 'thistl': 3176, 'thistlelov': 3177, 'minecraft': 3178, 'drew': 3179, 'delici': 3180, 'muddl': 3181, 'racket': 3182, 'isol': 3183, 'fa': 3184, 'particip': 3185, 'icecreammast': 3186, 'group': 3187, 'huhu': 3188, 'shet': 3189, 'desk': 3190, 'o_o': 3191, 'orz': 3192, 'problemmm': 3193, '75x': 3194, 'english': 3195, 'yeeaayi': 3196, 'alhamdulillah': 3197, 'amin': 3198, 'weed': 3199, 'crowdfund': 3200, 'goal': 3201, 'walk': 3202, 'hellooo': 3203, 'select': 3204, 'lynn': 3205, 'buffer': 3206, 'button': 3207, 'compos': 3208, 'fridayfun': 3209, 'non-filipina': 3210, 'ejayst': 3211, 'state': 3212, 'le': 3213, 'stan': 3214, 'lee': 3215, 'discoveri': 3216, 'cousin': 3217, '1400': 3218, 'yr': 3219, 'teleport': 3220, 'shahid': 3221, 'afridi': 3222, 'tou': 3223, 'mahnor': 3224, 'baloch': 3225, 'nikki': 3226, 'flower': 3227, 'blackfli': 3228, 'courgett': 3229, 'wont': 3230, 'affect': 3231, 'fruit': 3232, 'italian': 3233, 'netfilx': 3234, 'unmarri': 3235, 'finger': 3236, 'rock': 3237, 'wielli': 3238, 'paul': 3239, 'barcod': 3240, 'charlott': 3241, 'thta': 3242, 'trailblazerhonor': 3243, 'labour': 3244, 'leader': 3245, 'alot': 3246, 'agayhippiehippi': 3247, 'exercis': 3248, 'ginger': 3249, 'x28': 3250, 'teach': 3251, 'awar': 3252, '::': 3253, 'portsmouth': 3254, 'sonal': 3255, 'hungri': 3256, 'hmmm': 3257, 'pedant': 3258, '98': 3259, 'kit': 3260, 'ack': 3261, 'hih': 3262, 'choir': 3263, 'rosidbinr': 3264, 'duke': 3265, 'earl': 3266, 'tau': 3267, 'orayt': 3268, 'knw': 3269, 'block': 3270, 'dikha': 3271, 'reh': 3272, 'adolf': 3273, 'hitler': 3274, 'obstacl': 3275, 'exist': 3276, 'surrend': 3277, 'terrif': 3278, 'advaddict': 3279, '_15': 3280, 'jimin': 3281, 'notanapolog': 3282, 'map': 3283, 'inform': 3284, '0.7': 3285, 'motherfuck': 3286, \"david'\": 3287, 'damn': 3288, 'colleg': 3289, '24th': 3290, 'steroid': 3291, 'alansmithpart': 3292, 'servu': 3293, 'bonasio': 3294, \"doido'\": 3295, 'task': 3296, 'deleg': 3297, 'aaahhh': 3298, 'jen': 3299, 'virgin': 3300, 'non-mapbox': 3301, 'restrict': 3302, 'mapbox': 3303, 'basemap': 3304, 'contractu': 3305, 'research': 3306, 'seafood': 3307, 'weltum': 3308, 'teh': 3309, 'deti': 3310, 'huh': 3311, '=d': 3312, 'annoy': 3313, 'katmtan': 3314, 'swan': 3315, 'fandom': 3316, 'blurri': 3317, 'besok': 3318, 'b': 3319, 'urgent': 3320, 'within': 3321, 'dorset': 3322, 'goddess': 3323, 'blast': 3324, 'shitfac': 3325, 'soul': 3326, 'sing': 3327, 'disney': 3328, 'doug': 3329, '28': 3330, 'bnte': 3331, 'hain': 3332, ';p': 3333, 'shiiitt': 3334, 'case': 3335, 'rm35': 3336, 'negooo': 3337, 'male': 3338, 'madelin': 3339, 'nun': 3340, 'mornin': 3341, 'yapster': 3342, 'pli': 3343, 'icon': 3344, 'alchemist': 3345, 'x27': 3346, 'dayz': 3347, 'preview': 3348, 'thug': 3349, 'lmao': 3350, 'sharethelov': 3351, 'highvalu': 3352, 'halsey': 3353, '30th': 3354, 'anniversari': 3355, 'folk': 3356, 'bae': 3357, 'repli': 3358, 'complain': 3359, 'rude': 3360, 'bond': 3361, 'nigg': 3362, 'readingr': 3363, 'wordoftheweek': 3364, 'wotw': 3365, '4:18': 3366, 'est': 3367, 'earn': 3368, 'jess': 3369, 'surri': 3370, 'botani': 3371, 'gel': 3372, 'alison': 3373, 'lsa': 3374, 'respons': 3375, 'fron': 3376, 'debbi': 3377, 'carol': 3378, 'patient': 3379, 'discharg': 3380, 'loung': 3381, 'walmart': 3382, 'balanc': 3383, 'studi': 3384, 'hayley': 3385, 'shoulder': 3386, 'pad': 3387, 'mount': 3388, 'inquisitor': 3389, 'cosplay': 3390, 'cosplayprogress': 3391, 'mike': 3392, 'dunno': 3393, 'insecur': 3394, 'nh': 3395, 'devolut': 3396, 'patriot': 3397, 'halla': 3398, 'ark': 3399, \"jiyeon'\": 3400, 'buzz': 3401, 'burnt': 3402, 'mist': 3403, 'opi': 3404, 'avoplex': 3405, 'nail': 3406, 'cuticl': 3407, 'replenish': 3408, '15ml': 3409, 'seriou': 3410, 'submiss': 3411, 'lb': 3412, 'cherish': 3413, 'flip': 3414, 'learnt': 3415, 'backflip': 3416, 'jumpgiant': 3417, 'foampit': 3418, 'usa': 3419, 'pamer': 3420, 'thk': 3421, 'actuallythough': 3422, 'craft': 3423, 'session': 3424, 'mehtab': 3425, 'aunti': 3426, 'gc': 3427, 'yeeew': 3428, 'pre': 3429, 'lan': 3430, 'yeey': 3431, 'arrang': 3432, 'doodl': 3433, 'comic': 3434, 'summon': 3435, 'none': 3436, '🙅': 3437, 'lycra': 3438, 'vincent': 3439, 'couldnt': 3440, 'roy': 3441, 'bg': 3442, 'img': 3443, 'circl': 3444, 'font': 3445, 'deathofgrass': 3446, 'loan': 3447, 'lawnmow': 3448, 'popular': 3449, 'charismat': 3450, 'man.h': 3451, 'thrive': 3452, 'economi': 3453, 'burst': 3454, 'georgi': 3455, 'x26': 3456, 'million': 3457, 'fl': 3458, 'kindest': 3459, 'iceland': 3460, 'crazi': 3461, 'landscap': 3462, 'yok': 3463, 'lah': 3464, 'concordia': 3465, 'reunit': 3466, 'xxxibmchll': 3467, 'sea': 3468, 'prettier': 3469, 'imitatia': 3470, 'oe': 3471, 'michel': 3472, 'comeback': 3473, 'gross': 3474, 'treat': 3475, 'equal': 3476, 'injustic': 3477, 'femin': 3478, 'ineedfeminismbecaus': 3479, 'forgotten': 3480, 'stuck': 3481, 'recommend': 3482, 'redhead': 3483, 'wacki': 3484, 'rather': 3485, 'waytoliveahappylif': 3486, 'hoxton': 3487, 'holborn': 3488, 'karen': 3489, 'wag': 3490, 'bum': 3491, 'wwooo': 3492, 'nite': 3493, 'laiten': 3494, 'arond': 3495, '1:30': 3496, 'consid': 3497, 'matur': 3498, 'journeyp': 3499, 'foam': 3500, \"lady'\": 3501, 'mob': 3502, 'fals': 3503, 'bulletin': 3504, 'spring': 3505, 'fiesta': 3506, 'nois': 3507, 'awuuu': 3508, 'aich': 3509, 'sept': 3510, 'rudramadevi': 3511, 'anushka': 3512, 'gunashekar': 3513, 'harryxhood': 3514, 'upset': 3515, 'ooh': 3516, 'humanist': 3517, 'magazin': 3518, 'usernam': 3519, 'rape': 3520, 'csrrace': 3521, 'lack': 3522, 'hygien': 3523, 'tose': 3524, 'cloth': 3525, 'temperatur': 3526, 'planet': 3527, 'brave': 3528, 'ge': 3529, '2015kenya': 3530, 'ryan': 3531, 'tidi': 3532, 'hagergang': 3533, 'chanhun': 3534, 'photoshoot': 3535, 'afteral': 3536, 'sadkaay': 3537, 'thark': 3538, 'peak': 3539, 'heatwav': 3540, 'lower': 3541, 'standard': 3542, 'x25': 3543, 'recruit': 3544, 'doom': 3545, 'nasti': 3546, 'affili': 3547, '>:)': 3548, '64': 3549, '74': 3550, '40': 3551, '00': 3552, 'hall': 3553, 'ted': 3554, 'pixgram': 3555, 'creativ': 3556, 'slideshow': 3557, 'nibbl': 3558, 'ivi': 3559, 'sho': 3560, 'superpow': 3561, 'obsess': 3562, 'oth': 3563, 'third': 3564, 'ngarepfollbackdarinabilahjkt': 3565, '48': 3566, 'sunglass': 3567, 'jacki': 3568, 'sunni': 3569, 'style': 3570, 'jlo': 3571, 'jlover': 3572, 'turkey': 3573, 'goodafternoon': 3574, 'collag': 3575, 'furri': 3576, 'bruce': 3577, 'kunoriforceo': 3578, 'aayegi': 3579, 'tim': 3580, 'wiw': 3581, 'bip': 3582, 'zareen': 3583, 'daisi': 3584, \"b'coz\": 3585, 'kart': 3586, 'mak': 3587, '∗': 3588, 'lega': 3589, 'spag': 3590, 'boat': 3591, 'outboard': 3592, 'spell': 3593, 'reboard': 3594, 'fire': 3595, 'offboard': 3596, 'sn16': 3597, '9dg': 3598, 'bnf': 3599, '50': 3600, 'jason': 3601, 'rob': 3602, 'feb': 3603, 'victoriasecret': 3604, 'finland': 3605, 'helsinki': 3606, 'airport': 3607, 'plane': 3608, 'beyond': 3609, 'ont': 3610, 'tii': 3611, 'lng': 3612, 'yan': 3613, \"u'll\": 3614, 'steve': 3615, 'bell': 3616, 'prescott': 3617, 'leadership': 3618, 'cartoon': 3619, 'upsid': 3620, 'statement': 3621, 'selamathariraya': 3622, 'lovesummertim': 3623, 'dumont': 3624, 'jax': 3625, 'jone': 3626, 'awesomee': 3627, 'x24': 3628, 'geoff': 3629, 'amazingli': 3630, 'talant': 3631, 'vsco': 3632, 'thanki': 3633, 'hash': 3634, 'tag': 3635, 'ifimeetanalien': 3636, 'bff': 3637, 'section': 3638, 'follbaaack': 3639, 'az': 3640, 'cauliflow': 3641, 'attempt': 3642, 'prinsesa': 3643, 'yaaah': 3644, 'law': 3645, 'toy': 3646, 'sonaaa': 3647, 'beautiful': 3648, \"josephine'\": 3649, 'mirror': 3650, 'cretaperfect': 3651, '4me': 3652, 'cretaperfectsuv': 3653, 'creta': 3654, 'load': 3655, 'telecom': 3656, 'judi': 3657, 'superb': 3658, 'slightli': 3659, 'rakna': 3660, 'ew': 3661, 'whose': 3662, 'fifa': 3663, 'lineup': 3664, 'surviv': 3665, 'p90x': 3666, 'p90': 3667, 'dishoom': 3668, 'rajnigandha': 3669, 'minju': 3670, 'rapper': 3671, 'lead': 3672, 'vocal': 3673, 'yujin': 3674, 'visual': 3675, 'makna': 3676, 'jane': 3677, 'hah': 3678, 'hawk': 3679, 'greatest': 3680, 'histori': 3681, 'along': 3682, 'talkback': 3683, 'process': 3684, 'featur': 3685, 'mostli': 3686, \"cinema'\": 3687, 'defend': 3688, 'fashion': 3689, 'atroc': 3690, 'pandimension': 3691, 'manifest': 3692, 'argo': 3693, 'ring': 3694, '640': 3695, 'nad': 3696, 'plezzz': 3697, 'asthma': 3698, 'inhal': 3699, 'breath': 3700, 'goodluck': 3701, 'hunger': 3702, 'mockingjay': 3703, 'thehungergam': 3704, 'ador': 3705, 'x23': 3706, 'reina': 3707, 'felt': 3708, 'excus': 3709, 'attend': 3710, 'whn': 3711, 'andr': 3712, 'mamayang': 3713, '11pm': 3714, '1d': 3715, '89.9': 3716, 'powi': 3717, 'shropshir': 3718, 'border': 3719, \"school'\": 3720, 'san': 3721, 'diego': 3722, 'jump': 3723, 'sourc': 3724, 'appeas': 3725, '¦': 3726, 'aj': 3727, 'action': 3728, 'grunt': 3729, 'sc': 3730, 'anti-christ': 3731, 'm8': 3732, 'ju': 3733, 'halfway': 3734, 'ex': 3735, 'postiv': 3736, 'opinion': 3737, 'avi': 3738, 'dare': 3739, 'corridor': 3740, '👯': 3741, 'neither': 3742, 'rundown': 3743, 'yah': 3744, 'leviboard': 3745, 'kleper': 3746, ':(': 3747, 'impecc': 3748, 'setokido': 3749, 'shoulda': 3750, 'hippo': 3751, 'materialist': 3752, 'showpo': 3753, 'cough': 3754, '@artofsleepingin': 3755, 'x22': 3756, '☺': 3757, 'makesm': 3758, 'santorini': 3759, 'escap': 3760, 'beatport': 3761, '👊🏻': 3762, 'trmdhesit': 3763, 'manuel': 3764, 'vall': 3765, 'king': 3766, 'seven': 3767, 'kingdom': 3768, 'andal': 3769, 'taught': 3770, 'hide': 3771, 'privaci': 3772, 'wise': 3773, 'natsuki': 3774, 'often': 3775, 'catchi': 3776, 'neil': 3777, 'emir': 3778, 'brill': 3779, 'urquhart': 3780, 'castl': 3781, 'simpl': 3782, 'shatter': 3783, 'contrast': 3784, 'educampakl': 3785, 'rotorua': 3786, 'pehli': 3787, 'phir': 3788, 'somi': 3789, 'burfday': 3790, 'univers': 3791, 'santo': 3792, 'toma': 3793, 'norh': 3794, 'dialogu': 3795, 'chainsaw': 3796, 'amus': 3797, 'awe': 3798, 'protect': 3799, 'pop': 3800, '2ish': 3801, 'fahad': 3802, 'bhai': 3803, 'iqrar': 3804, 'waseem': 3805, 'abroad': 3806, 'movie': 3807, 'chef': 3808, 'grogol': 3809, 'long-dist': 3810, 'rhi': 3811, 'pwrfl': 3812, 'benefit': 3813, 'b2b': 3814, 'b2c': 3815, \"else'\": 3816, 'soo': 3817, 'enterprison': 3818, 'schoolsoutforsumm': 3819, 'fellow': 3820, 'juggl': 3821, 'purrtho': 3822, 'catho': 3823, 'catami': 3824, 'fourfivesecond': 3825, 'deaf': 3826, 'drug': 3827, 'alcohol': 3828, 'apexi': 3829, 'crystal': 3830, 'meth': 3831, 'champagn': 3832, 'fc': 3833, 'streamer': 3834, 'juic': 3835, 'correct': 3836, 'portrait': 3837, 'izumi': 3838, 'fugiwara': 3839, 'clonmel': 3840, 'vibrant': 3841, 'estim': 3842, 'server': 3843, 'quiet': 3844, 'yey': 3845, \"insha'allah\": 3846, 'wil': 3847, 'x21': 3848, 'trend': 3849, 'akshaymostlovedsuperstarev': 3850, 'indirect': 3851, 'askurban': 3852, 'lyka': 3853, 'nap': 3854, 'aff': 3855, 'unam': 3856, 'jonginuh': 3857, 'forecast': 3858, '10am': 3859, '5am': 3860, 'sooth': 3861, 'vii': 3862, 'sweetheart': 3863, 'freak': 3864, 'zayn': 3865, 'fucker': 3866, 'pet': 3867, 'illustr': 3868, 'wohoo': 3869, 'gleam': 3870, 'paint': 3871, 'deal': 3872, 'prime': 3873, 'minist': 3874, 'sunjam': 3875, 'industri': 3876, 'present': 3877, 'practic': 3878, 'proactiv': 3879, 'environ': 3880, 'unreal': 3881, 'zain': 3882, 'zac': 3883, 'isaac': 3884, 'oss': 3885, 'frank': 3886, 'iero': 3887, 'phase': 3888, 'david': 3889, 'beginn': 3890, 'shine': 3891, 'sunflow': 3892, 'tommarow': 3893, 'yall': 3894, 'rank': 3895, 'birthdaymonth': 3896, 'vianey': 3897, 'juli': 3898, 'birthdaygirl': 3899, \"town'\": 3900, 'andrew': 3901, 'checkout': 3902, 'otwol': 3903, 'awhil': 3904, 'x20': 3905, 'all-tim': 3906, 'julia': 3907, 'robert': 3908, 'awwhh': 3909, 'bulldog': 3910, 'unfortun': 3911, '02079': 3912, '490': 3913, '132': 3914, 'born': 3915, 'fightstickfriday': 3916, 'extravag': 3917, 'tearout': 3918, 'selekt': 3919, 'yoot': 3920, 'cross': 3921, 'gudday': 3922, 'dave': 3923, 'haileyhelp': 3924, 'eid': 3925, 'mubarak': 3926, 'brotheeerrr': 3927, 'adventur': 3928, 'tokyo': 3929, 'kansai': 3930, 'l': 3931, 'upp': 3932, 'om': 3933, '60': 3934, 'minut': 3935, 'data': 3936, 'jesu': 3937, 'amsterdam': 3938, '3rd': 3939, 'nextweek': 3940, 'booti': 3941, 'bcuz': 3942, 'step': 3943, 'option': 3944, 'stabl': 3945, 'sturdi': 3946, 'lukkke': 3947, 'again.ensoi': 3948, 'tc': 3949, 'madam': 3950, 'siddi': 3951, 'unknown': 3952, 'roomi': 3953, 'gn': 3954, 'gf': 3955, 'consent': 3956, 'mister': 3957, 'vine': 3958, 'peyton': 3959, 'nagato': 3960, 'yuki-chan': 3961, 'shoushitsu': 3962, 'archdbanterburi': 3963, 'experttradesmen': 3964, 'banter': 3965, 'quiz': 3966, 'tradetalk': 3967, 'floof': 3968, 'face': 3969, 'muahah': 3970, 'x19': 3971, 'anticip': 3972, 'jd': 3973, 'laro': 3974, 'tayo': 3975, 'answer': 3976, 'ht': 3977, 'angelica': 3978, 'anghel': 3979, 'aa': 3980, 'kkk': 3981, 'macbook': 3982, 'rehears': 3983, 'youthcelebr': 3984, 'mute': 3985, '29th': 3986, 'gohf': 3987, 'vegetarian': 3988, 'gooday': 3989, '101': 3990, '12000': 3991, 'oshieer': 3992, 'realreview': 3993, 'happycustom': 3994, 'realoshi': 3995, 'dealsuthaonotebachao': 3996, 'bigger': 3997, 'dime': 3998, 'uhuh': 3999, '🎵': 4000, 'code': 4001, 'pleasant': 4002, 'on-board': 4003, 'raheel': 4004, 'flyhigh': 4005, 'bother': 4006, 'everett': 4007, 'taylor': 4008, 'ha-ha': 4009, 'peachyloan': 4010, 'fridayfreebi': 4011, 'noe': 4012, 'yisss': 4013, 'bindingofissac': 4014, 'xboxon': 4015, 'consol': 4016, 'justin': 4017, 'gladli': 4018, 'son': 4019, 'morocco': 4020, 'peru': 4021, 'nxt': 4022, 'bp': 4023, 'resort': 4024, 'x18': 4025, 'havuuulovey': 4026, 'uuu': 4027, 'possitv': 4028, 'hopey': 4029, 'throwbackfriday': 4030, 'christen': 4031, 'ki': 4032, 'yaad': 4033, 'gayi': 4034, 'opossum': 4035, 'belat': 4036, 'yeahh': 4037, 'kuffar': 4038, 'comput': 4039, 'cell': 4040, 'diarrhea': 4041, 'immigr': 4042, 'lice': 4043, 'goictiv': 4044, '70685': 4045, 'tagsforlik': 4046, 'trapmus': 4047, 'hotmusicdeloco': 4048, 'kinick': 4049, '01282': 4050, '452096': 4051, 'shadi': 4052, 'reserv': 4053, 'tkt': 4054, 'likewis': 4055, 'overgener': 4056, 'ikr': 4057, '😍': 4058, 'consumer': 4059, 'fic': 4060, 'ouch': 4061, 'slip': 4062, 'disc': 4063, 'thw': 4064, 'chute': 4065, 'chalut': 4066, 'replay': 4067, 'iplay': 4068, '11am': 4069, 'unneed': 4070, 'megamoh': 4071, '7/29': 4072, 'tool': 4073, 'zealand': 4074, 'pile': 4075, 'dump': 4076, 'couscou': 4077, \"women'\": 4078, 'fiction': 4079, 'wahahaah': 4080, 'x17': 4081, 'orhan': 4082, 'pamuk': 4083, 'hero': 4084, 'canopi': 4085, 'mapl': 4086, 'syrup': 4087, 'farm': 4088, 'stephani': 4089, '💖': 4090, 'congrtaualt': 4091, 'philea': 4092, 'club': 4093, 'inc': 4094, 'photograph': 4095, 'phonegraph': 4096, 'srsli': 4097, '10:17': 4098, 'ripaaa': 4099, 'banat': 4100, 'ray': 4101, 'dept': 4102, 'hospit': 4103, 'grt': 4104, 'infograph': 4105, \"o'clock\": 4106, 'habit': 4107, '1dfor': 4108, 'roadtrip': 4109, '19:30': 4110, 'ifc': 4111, 'whip': 4112, 'lilsisbro': 4113, 'pre-ord': 4114, \"pixar'\": 4115, 'steelbook': 4116, 'hmm': 4117, 'pegel': 4118, 'lemess': 4119, 'kyle': 4120, 'paypal': 4121, 'oct': 4122, 'tud': 4123, 'jst': 4124, 'humphrey': 4125, 'yell': 4126, 'erm': 4127, 'breach': 4128, 'lemon': 4129, 'yogurt': 4130, 'pot': 4131, 'discov': 4132, 'liquoric': 4133, 'pud': 4134, 'cajun': 4135, 'spice': 4136, 'yum': 4137, 'cajunchicken': 4138, 'infinit': 4139, 'fight': 4140, 'gern': 4141, 'cikaaa': 4142, 'maaf': 4143, 'telat': 4144, 'ngucapinnya': 4145, 'maaay': 4146, 'x16': 4147, 'viparita': 4148, 'karani': 4149, 'legsupthewal': 4150, 'unwind': 4151, 'coco': 4152, 'comfi': 4153, 'jalulu': 4154, 'rosh': 4155, 'gla': 4156, 'pallavi': 4157, 'nairobi': 4158, 'hrdstellobama': 4159, 'region': 4160, 'civil': 4161, 'societi': 4162, 'globe': 4163, 'hajur': 4164, 'yayi': 4165, \"must'v\": 4166, 'nerv': 4167, 'prelim': 4168, 'costacc': 4169, 'nwb': 4170, 'shud': 4171, 'cold': 4172, 'hmu': 4173, 'cala': 4174, 'brush': 4175, 'ego': 4176, 'wherev': 4177, 'interact': 4178, 'dongsaeng': 4179, 'chorong': 4180, 'friendship': 4181, 'impress': 4182, 'dragon': 4183, 'duck': 4184, 'mix': 4185, 'cheetah': 4186, 'wagga': 4187, 'coursework': 4188, 'lorna': 4189, 'scan': 4190, 'x12': 4191, 'canva': 4192, 'iqbal': 4193, 'ima': 4194, 'hon': 4195, 'aja': 4196, 'besi': 4197, 'chati': 4198, 'phulani': 4199, 'swasa': 4200, 'bahari': 4201, 'jiba': 4202, 'mumbai': 4203, 'gujarat': 4204, 'distrub': 4205, 'otherwis': 4206, '190cr': 4207, 'inspit': 4208, 'highest': 4209, 'holder': 4210, 'threaten': 4211, 'daili': 4212, 'basi': 4213, 'vr': 4214, 'angelo': 4215, 'quezon': 4216, 'sweatpant': 4217, 'farbridg': 4218, 'segalakatakata': 4219, 'nixu': 4220, 'begun': 4221, 'flint': 4222, '🍰': 4223, 'separ': 4224, 'criticis': 4225, 'gestur': 4226, 'pedal': 4227, 'stroke': 4228, 'caro': 4229, 'deposit': 4230, 'secur': 4231, 'shock': 4232, 'coff': 4233, 'tenerina': 4234, 'auguri': 4235, 'iso': 4236, 'certif': 4237, 'paralyz': 4238, 'anxieti': 4239, 'develop': 4240, 'spain': 4241, 'def': 4242, 'bantim': 4243, 'fail': 4244, '2ban': 4245, 'x15': 4246, 'awkward': 4247, 'ab': 4248, 'gale': 4249, 'founder': 4250, 'loveyaaah': 4251, '⅛': 4252, '⅞': 4253, '∞': 4254, 'specialist': 4255, 'aw': 4256, 'babyyi': 4257, 'djstruthmat': 4258, 're-cap': 4259, 'flickr': 4260, 'tack': 4261, 'zephbot': 4262, 'hhahahahaha': 4263, 'blew': 4264, 'entir': 4265, 'vega': 4266, 'strip': 4267, 'hahahahahhaha': 4268, \"callie'\": 4269, 'puppi': 4270, 'owner': 4271, 'callinganimalabusehotlineasap': 4272, 'gorefiend': 4273, 'mythic': 4274, 'remind': 4275, '9:00': 4276, '▪': 4277, '️bea': 4278, 'miller': 4279, 'lockscreen': 4280, 'mbf': 4281, 'keesh': 4282, \"yesterday'\": 4283, 'groupi': 4284, 'bebe': 4285, 'sizam': 4286, 'color': 4287, 'invoic': 4288, 'kanina': 4289, 'pong': 4290, 'umaga': 4291, 'browser': 4292, 'typic': 4293, 'pleass': 4294, 'leeteuk': 4295, 'pearl': 4296, 'thusi': 4297, 'pour': 4298, 'milk': 4299, 'tgv': 4300, 'pari': 4301, 'austerlitz': 4302, 'bloi': 4303, 'mile': 4304, 'chateau': 4305, 'de': 4306, 'marai': 4307, 'taxi': 4308, 'x14': 4309, 'nom': 4310, 'enji': 4311, 'hater': 4312, 'purchas': 4313, 'specially-mark': 4314, 'custard': 4315, 'sm': 4316, 'on-pack': 4317, 'instruct': 4318, 'tile': 4319, 'downstair': 4320, 'kelli': 4321, 'greek': 4322, 'petra': 4323, 'shadowplayloui': 4324, 'mutual': 4325, 'cuz': 4326, 'liveonstream': 4327, 'lani': 4328, 'graze': 4329, 'pride': 4330, 'bristolart': 4331, 'in-app': 4332, 'ensur': 4333, 'item': 4334, 'screw': 4335, 'amber': 4336, '43': 4337, 'hpc': 4338, 'wip': 4339, 'sw': 4340, 'newsround': 4341, 'hound': 4342, '7:40': 4343, 'ada': 4344, 'racist': 4345, 'hulk': 4346, 'tight': 4347, 'prayer': 4348, 'pardon': 4349, 'phl': 4350, 'abu': 4351, 'dhabi': 4352, 'hihihi': 4353, 'teamjanuaryclaim': 4354, 'godonna': 4355, 'msg': 4356, 'bowwowchicawowwow': 4357, 'settl': 4358, 'dkt': 4359, 'porch': 4360, 'uber': 4361, 'mobil': 4362, 'applic': 4363, 'giggl': 4364, 'bare': 4365, 'wind': 4366, 'kahlil': 4367, 'gibran': 4368, 'flash': 4369, 'stiff': 4370, 'upper': 4371, 'lip': 4372, 'britain': 4373, 'latmon': 4374, 'endeavour': 4375, 'ann': 4376, 'joy': 4377, 'os': 4378, 'exploit': 4379, 'ign': 4380, 'au': 4381, 'pubcast': 4382, 'tengaman': 4383, '21': 4384, 'celebratio': 4385, 'women': 4386, 'instal': 4387, 'glorifi': 4388, 'infirm': 4389, 'silli': 4390, 'suav': 4391, 'gentlemen': 4392, 'monthli': 4393, 'mileag': 4394, 'target': 4395, 'samsung': 4396, 'qualiti': 4397, 'ey': 4398, 'beth': 4399, 'gangster': 4400, \"athena'\": 4401, 'fanci': 4402, 'wellington': 4403, 'rich': 4404, 'christina': 4405, 'newslett': 4406, 'zy': 4407, 'olur': 4408, 'x13': 4409, 'flawless': 4410, 'reaction': 4411, 'hayli': 4412, 'edwin': 4413, 'elvena': 4414, 'emc': 4415, 'rubber': 4416, 'swearword': 4417, 'infect': 4418, '10:16': 4419, 'wrote': 4420, 'gan': 4421, 'brotherhood': 4422, 'wolf': 4423, 'pill': 4424, 'nocturn': 4425, 'rrp': 4426, '18.99': 4427, '13.99': 4428, 'jah': 4429, 'wobbl': 4430, 'retard': 4431, '50notif': 4432, 'check-up': 4433, 'pun': 4434, 'elit': 4435, 'camillu': 4436, 'pleasee': 4437, 'spare': 4438, 'tyre': 4439, 'joke': 4440, 'ahahah': 4441, 'shame': 4442, 'abandon': 4443, 'disagre': 4444, 'nowher': 4445, 'contradict': 4446, 'chao': 4447, 'contain': 4448, 'cranium': 4449, 'sneaker': 4450, 'nike': 4451, 'nikeorigin': 4452, 'nikeindonesia': 4453, 'pierojogg': 4454, 'skoy': 4455, 'winter': 4456, 'falkland': 4457, 'jamie-le': 4458, 'congraaat': 4459, 'hooh': 4460, 'chrome': 4461, 'storm': 4462, 'thunderstorm': 4463, 'circuscircu': 4464, 'omgg': 4465, 'tdi': 4466, '(-:': 4467, 'peter': 4468, 'expel': 4469, 'boughi': 4470, 'kernel': 4471, 'paralysi': 4472, 'liza': 4473, 'lol.hook': 4474, 'vampir': 4475, 'diari': 4476, 'twice': 4477, 'thanq': 4478, 'goodwil': 4479, 'vandr': 4480, 'ash': 4481, 'debat': 4482, 'solar': 4483, '6-5': 4484, 'shown': 4485, 'ek': 4486, 'taco': 4487, 'mexico': 4488, 'viva': 4489, 'méxico': 4490, 'burger': 4491, 'thebestangkapuso': 4492, 'lighter': 4493, 'tooth': 4494, 'korean': 4495, 'netizen': 4496, 'crueler': 4497, 'eleph': 4498, 'marula': 4499, 'tdif': 4500, 'shoutout': 4501, 'shortli': 4502, 'itsamarvelth': 4503, \"japan'\": 4504, 'artist': 4505, 'homework': 4506, 'marco': 4507, 'herb': 4508, 'pm': 4509, 'self': 4510, 'esteem': 4511, 'patienc': 4512, 'sobtian': 4513, 'cowork': 4514, 'deathli': 4515, 'hallow': 4516, 'supernatur': 4517, 'consult': 4518, 'himach': 4519, '2.25': 4520, 'asham': 4521, 'where.do.i.start': 4522, 'moviemarathon': 4523, 'skill': 4524, 'shadow': 4525, 'own': 4526, 'pair': 4527, 'cortez': 4528, 'superstar': 4529, 'tthank': 4530, 'colin': 4531, 'luxuou': 4532, 'tarryn': 4533, 'hbdme': 4534, 'yeeeyyy': 4535, 'barsostay': 4536, 'males': 4537, 'independ': 4538, 'sum': 4539, 'debacl': 4540, 'perfectli': 4541, 'longer': 4542, 'amyjackson': 4543, 'omegl': 4544, 'countrymus': 4545, 'five': 4546, \"night'\": 4547, \"freddy'\": 4548, 'demo': 4549, 'pump': 4550, 'fanboy': 4551, 'thegrandad': 4552, 'sidni': 4553, 'remarriag': 4554, 'occas': 4555, 'languag': 4556, 'java': 4557, \"php'\": 4558, 'notion': 4559, 'refer': 4560, 'confus': 4561, 'ohioan': 4562, 'stick': 4563, 'doctor': 4564, 'offlin': 4565, 'thesim': 4566, 'mb': 4567, 'meaningless': 4568, 'common': 4569, 'celebr': 4570, 'muertosatfring': 4571, 'emul': 4572, 'brought': 4573, 'enemi': 4574, 'relax': 4575, 'ou': 4576, 'pink': 4577, 'cc': 4578, 'meooowww': 4579, 'barkkkiiidee': 4580, 'bark': 4581, 'x11': 4582, 'routin': 4583, 'alek': 4584, 'awh': 4585, 'kumpul': 4586, 'cantik': 4587, 'ganteng': 4588, 'kresna': 4589, 'jelli': 4590, 'simon': 4591, 'lesley': 4592, 'blood': 4593, 'panti': 4594, 'lion': 4595, 'artworkbyli': 4596, 'judo': 4597, 'daredevil': 4598, 'despond': 4599, 're-watch': 4600, 'welcoma.hav': 4601, 'favor': 4602, 'tridon': 4603, '21pic': 4604, 'master': 4605, 'nim': 4606, \"there'r\": 4607, '22pic': 4608, 'kebun': 4609, 'ubud': 4610, 'ladyposs': 4611, 'xoxoxo': 4612, 'sneak': 4613, 'peek': 4614, 'inbox': 4615, 'happyweekend': 4616, 'therealgolden': 4617, '47': 4618, 'girlfriendsmya': 4619, 'ppl': 4620, 'closest': 4621, 'njoy': 4622, 'followingg': 4623, 'privat': 4624, 'pusher': 4625, 'stun': 4626, 'wooohooo': 4627, 'cuss': 4628, 'teenag': 4629, 'ace': 4630, 'sauc': 4631, 'livi': 4632, 'fowl': 4633, 'oliviafowl': 4634, '891': 4635, 'burnout': 4636, 'johnforceo': 4637, 'matthew': 4638, 'provok': 4639, 'indiankultur': 4640, 'oppos': 4641, 'biker': 4642, 'lyk': 4643, 'gud': 4644, 'weight': 4645, 'bcu': 4646, 'rubbish': 4647, 'veggi': 4648, 'steph': 4649, 'nj': 4650, 'x10': 4651, 'cohes': 4652, 'gossip': 4653, 'alex': 4654, 'heswifi': 4655, '7am': 4656, 'wub': 4657, 'cerbchan': 4658, 'jarraaa': 4659, 'morrrn': 4660, 'snooz': 4661, 'clicksco': 4662, 'gay': 4663, 'lesbian': 4664, 'rigid': 4665, 'theocrat': 4666, 'wing': 4667, 'fundamentalist': 4668, 'islamist': 4669, 'brianaaa': 4670, 'brianazabrocki': 4671, 'sky': 4672, 'batb': 4673, 'clap': 4674, 'whilst': 4675, 'aki': 4676, 'thencerest': 4677, '547': 4678, 'indiemus': 4679, 'sexyjudi': 4680, 'pussi': 4681, 'sexo': 4682, 'humid': 4683, '87': 4684, 'sloppi': 4685, \"second'\": 4686, 'stock': 4687, 'marmit': 4688, 'x9': 4689, 'nic': 4690, 'taft': 4691, 'finalist': 4692, 'lotteri': 4693, 'award': 4694, 'usagi': 4695, 'looov': 4696, 'wowww': 4697, '💙': 4698, '💚': 4699, '💕': 4700, 'lepa': 4701, 'sembuh': 4702, 'sibuk': 4703, 'balik': 4704, 'kin': 4705, 'gotham': 4706, 'sunnyday': 4707, 'dudett': 4708, 'cost': 4709, 'flippin': 4710, 'fortun': 4711, 'divinediscont': 4712, ';}': 4713, 'amnot': 4714, 'autofollow': 4715, 'teamfollowback': 4716, 'geer': 4717, 'bat': 4718, 'mz': 4719, 'yang': 4720, 'deennya': 4721, 'jehwan': 4722, '11:00': 4723, 'ashton': 4724, '✧': 4725, '｡': 4726, 'chelni': 4727, 'datz': 4728, 'jeremi': 4729, 'fmt': 4730, 'dat': 4731, 'heartbeat': 4732, 'clutch': 4733, '🐢': 4734, 'besteverdoctorwhoepisod': 4735, 'relev': 4736, 'puke': 4737, 'proper': 4738, 'x8': 4739, 'sublimin': 4740, 'eatmeat': 4741, 'brewproject': 4742, 'lovenafianna': 4743, 'mr': 4744, 'lewi': 4745, 'clock': 4746, '3:02': 4747, 'muslim': 4748, 'prophet': 4749, 'غردلي': 4750, 'is.h': 4751, 'mistak': 4752, 'understood': 4753, 'politician': 4754, 'argu': 4755, 'intellect': 4756, 'shiva': 4757, 'mp3': 4758, 'standrew': 4759, 'sandcastl': 4760, 'ewok': 4761, 'nate': 4762, 'brawl': 4763, 'rear': 4764, 'nake': 4765, 'choke': 4766, 'heck': 4767, 'gun': 4768, 'associ': 4769, 'um': 4770, 'endow': 4771, 'ai': 4772, 'sikandar': 4773, 'pti': 4774, 'standwdik': 4775, 'westandwithik': 4776, 'starbuck': 4777, 'logo': 4778, 'renew': 4779, 'chariti': 4780, 'جمعة_مباركة': 4781, 'hoki': 4782, 'biz': 4783, 'non': 4784, 'america': 4785, 'california': 4786, '01:16': 4787, '45gameplay': 4788, 'ilovey': 4789, 'vex': 4790, 'iger': 4791, 'leicaq': 4792, 'leica': 4793, 'dudee': 4794, 'persona': 4795, 'yepp': 4796, '5878e503': 4797, 'x7': 4798, 'greg': 4799, 'posey': 4800, 'miami': 4801, 'james_yammouni': 4802, 'breakdown': 4803, 'materi': 4804, 'thorin': 4805, 'hunt': 4806, 'choroo': 4807, 'nahi': 4808, 'aztec': 4809, 'princess': 4810, 'raini': 4811, 'kingfish': 4812, 'chinua': 4813, 'acheb': 4814, 'intellectu': 4815, 'liquid': 4816, 'melbournetrip': 4817, 'taxikitchen': 4818, 'nooow': 4819, 'mcdo': 4820, 'everywher': 4821, 'dreamer': 4822, 'tanisha': 4823, '1nonli': 4824, 'attitud': 4825, 'kindl': 4826, 'flame': 4827, 'convict': 4828, 'bar': 4829, 'repath': 4830, 'adi': 4831, 'stefani': 4832, 'sg1': 4833, 'lightbox': 4834, 'ran': 4835, 'incorrect': 4836, 'apologist': 4837, 'x6': 4838, 'vuli': 4839, '01:15': 4840, 'batman': 4841, 'pearson': 4842, 'reput': 4843, 'nikkei': 4844, 'woodford': 4845, 'vscocam': 4846, 'vscoph': 4847, 'vscogood': 4848, 'vscophil': 4849, 'vscocousin': 4850, 'yaap': 4851, 'urwelc': 4852, 'neon': 4853, 'pant': 4854, 'haaa': 4855, 'will': 4856, 'auspost': 4857, 'openfollow': 4858, 'rp': 4859, 'eng': 4860, 'yūjō-cosplay': 4861, 'luxembourg': 4862, 'bunni': 4863, 'broadcast': 4864, 'needa': 4865, 'gal': 4866, 'bend': 4867, 'heaven': 4868, 'score': 4869, 'januari': 4870, 'hanabutl': 4871, 'kikhorni': 4872, 'interraci': 4873, 'makeup': 4874, 'chu': 4875, \"weekend'\": 4876, 'punt': 4877, 'horserac': 4878, 'hors': 4879, 'horseracingtip': 4880, 'guitar': 4881, 'cocoar': 4882, 'brief': 4883, 'introduct': 4884, 'earliest': 4885, 'indian': 4886, 'subcontin': 4887, 'bfr': 4888, 'maurya': 4889, 'jordanian': 4890, '00962778381': 4891, '838': 4892, 'tenyai': 4893, 'hee': 4894, 'ss': 4895, 'semi': 4896, 'atp': 4897, 'wimbledon': 4898, 'feder': 4899, 'nadal': 4900, 'monfil': 4901, 'handsom': 4902, 'cilic': 4903, 'firm': 4904, 'potenti': 4905, 'nyc': 4906, 'chillin': 4907, 'tail': 4908, 'kitten': 4909, 'garret': 4910, 'baz': 4911, 'leo': 4912, 'xst': 4913, 'centrifug': 4914, 'etern': 4915, 'forgiv': 4916, 'kangin': 4917, 'بندر': 4918, 'العنزي': 4919, 'kristin': 4920, 'cass': 4921, 'surajettan': 4922, 'kashi': 4923, 'ashwathi': 4924, 'mommi': 4925, 'tirth': 4926, 'brambhatt': 4927, 'snooker': 4928, 'compens': 4929, 'theoper': 4930, '479': 4931, 'premiostumundo': 4932, 'philosoph': 4933, 'x5': 4934, 'graphic': 4935, 'level': 4936, 'aug': 4937, 'excl': 4938, 'raw': 4939, 'weeni': 4940, 'annoyingbabi': 4941, 'lazi': 4942, 'cosi': 4943, 'client_amends_edit': 4944, '_5_final_final_fin': 4945, 'pdf': 4946, 'mauliat': 4947, 'ito': 4948, 'okkay': 4949, 'knock': 4950, \"soloist'\": 4951, 'ryu': 4952, 'saera': 4953, 'pinkeu': 4954, 'angri': 4955, 'screencap': 4956, 'jonghyun': 4957, 'seungyeon': 4958, 'cnblue': 4959, 'mbc': 4960, 'wgm': 4961, 'masa': 4962, 'entrepreneurship': 4963, 'empow': 4964, 'limpopo': 4965, 'pict': 4966, 'norapowel': 4967, 'hornykik': 4968, 'livesex': 4969, 'pumpkin': 4970, 'thrice': 4971, 'patron': 4972, 'ventur': 4973, 'deathcur': 4974, 'boob': 4975, 'blame': 4976, 'dine': 4977, 'modern': 4978, 'grill': 4979, 'disk': 4980, 'nt4': 4981, 'iirc': 4982, 'ux': 4983, 'refin': 4984, 'zdp': 4985, 'didnt': 4986, 'justic': 4987, 'daw': 4988, 'tine': 4989, 'gensan': 4990, 'frightl': 4991, 'undead': 4992, 'plush': 4993, 'cushion': 4994, 'nba': 4995, '2k15': 4996, 'mypark': 4997, 'chronicl': 4998, 'gryph': 4999, 'volum': 5000, 'ellen': 5001, 'degener': 5002, 'shirt': 5003, 'mint': 5004, 'superdri': 5005, 'berangkaat': 5006, 'lagiii': 5007, 'siguro': 5008, 'un': 5009, 'kesa': 5010, 'lotsa': 5011, 'organis': 5012, '4am': 5013, 'fingers-cross': 5014, 'deep': 5015, 'htaccess': 5016, 'file': 5017, 'adf': 5018, 'womad': 5019, 'gran': 5020, 'canaria': 5021, 'gig': 5022, 'twist': 5023, 'youv': 5024, 'teamnatur': 5025, 'huni': 5026, 'yayayayay': 5027, 'yt': 5028, 'convent': 5029, 'brighton': 5030, 'slay': 5031, 'nicknam': 5032, 'babygirl': 5033, 'regard': 5034, 'himmat': 5035, 'karain': 5036, 'baat': 5037, 'meri': 5038, 'hotee-mi': 5039, 'uncl': 5040, 'tongu': 5041, 'pronounc': 5042, 'nativ': 5043, 'american': 5044, 'proverb': 5045, 'lovabl': 5046, 'yesha': 5047, 'montoya': 5048, 'eagerli': 5049, 'payment': 5050, 'suprem': 5051, 'leon': 5052, 'ks': 5053, 'randi': 5054, '9bi': 5055, 'physiqu': 5056, 'shave': 5057, 'uncut': 5058, 'boi': 5059, 'cheapest': 5060, 'regular': 5061, 'printer': 5062, 'nz': 5063, 'larg': 5064, 'format': 5065, '10/10': 5066, 'senior': 5067, 'raid': 5068, 'conserv': 5069, 'batteri': 5070, 'comfort': 5071, 'swt': 5072, 'reservations@sandsbeach.eu': 5073, 'localgaragederbi': 5074, 'campu': 5075, 'subgam': 5076, 'faceit': 5077, 'snpcaht': 5078, 'hakhakhak': 5079, 't___t': 5080, \"kyungsoo'\": 5081, '3d': 5082, 'properti': 5083, 'agent': 5084, 'accur': 5085, 'descript': 5086, 'theori': 5087, 'x4': 5088, '15.90': 5089, 'yvett': 5090, 'author': 5091, 'mwf': 5092, 'programm': 5093, 'taal': 5094, 'lake': 5095, '2emt': 5096, '«': 5097, 'scurri': 5098, 'agil': 5099, 'solut': 5100, 'sme': 5101, 'omar': 5102, 'biggest': 5103, 'kamaal': 5104, 'amm': 5105, '3am': 5106, 'hopehousekid': 5107, 'pitmantrain': 5108, 'walkersmithway': 5109, 'keepitloc': 5110, 'sehun': 5111, 'se100lead': 5112, 'unev': 5113, 'sofa': 5114, 'surf': 5115, 'cunt': 5116, 'rescoop': 5117, 'multiraci': 5118, 'fk': 5119, 'narrow': 5120, 'warlock': 5121, 'balloon': 5122, 'mj': 5123, 'madison': 5124, 'beonknockknock': 5125, 'con-gradu': 5126, 'gent': 5127, 'bitchfac': 5128, '😒': 5129, 'organ': 5130, '12pm': 5131, 'york': 5132, 'nearest': 5133, 'lendal': 5134, 'pikami': 5135, 'captur': 5136, 'fulton': 5137, 'sheen': 5138, 'baloney': 5139, 'unvarnish': 5140, 'laid': 5141, 'thick': 5142, 'blarney': 5143, 'flatteri': 5144, 'thin': 5145, 'sachin': 5146, 'unimport': 5147, 'context': 5148, 'dampen': 5149, 'yu': 5150, 'rocket': 5151, 'narendra': 5152, 'modi': 5153, 'aaaand': 5154, \"team'\": 5155, 'macauley': 5156, 'howev': 5157, 'x3': 5158, 'wheeen': 5159, 'heechul': 5160, 'toast': 5161, 'coffee-weekday': 5162, '9-11': 5163, 'sail': 5164, \"friday'\": 5165, 'commerci': 5166, 'insur': 5167, 'requir': 5168, 'lookfortheo': 5169, 'cl': 5170, 'thou': 5171, 'april': 5172, 'airforc': 5173, 'clark': 5174, 'field': 5175, 'pampanga': 5176, 'troll': 5177, '⚡': 5178, 'brow': 5179, 'oili': 5180, 'maricarljanah': 5181, '6:15': 5182, 'degre': 5183, 'fahrenheit': 5184, '🍸': 5185, '╲': 5186, '─': 5187, '╱': 5188, '🍤': 5189, '╭': 5190, '╮': 5191, '┓': 5192, '┳': 5193, '┣': 5194, '╰': 5195, '╯': 5196, '┗': 5197, '┻': 5198, 'stool': 5199, 'toppl': 5200, 'findyourfit': 5201, 'prefer': 5202, 'whomosexu': 5203, 'stack': 5204, 'pandora': 5205, 'digitalexet': 5206, 'digitalmarket': 5207, 'sociamedia': 5208, 'nb': 5209, 'bom': 5210, 'dia': 5211, 'todo': 5212, 'forklift': 5213, 'warehous': 5214, 'worker': 5215, 'lsceen': 5216, 'immatur': 5217, 'gandhi': 5218, 'grassi': 5219, 'feetblog': 5220, 'daughter': 5221, '4yr': 5222, 'old-porridg': 5223, 'fiend': 5224, '2nite': 5225, 'comp': 5226, 'vike': 5227, 't20blast': 5228, 'np': 5229, 'tax': 5230, 'ooohh': 5231, 'petjam': 5232, 'virtual': 5233, 'pounc': 5234, 'bentek': 5235, 'agn': 5236, 'socialmedia@dpdgroup.co.uk': 5237, 'sam': 5238, 'fruiti': 5239, 'vodka': 5240, 'sellyourcarin': 5241, '5word': 5242, 'chaloniklo': 5243, 'pic.twitter.com/jxz2lbv6o': 5244, \"paperwhite'\": 5245, 'laser-lik': 5246, 'focu': 5247, 'ghost': 5248, 'tagsforlikesapp': 5249, 'instagood': 5250, 'tbt': 5251, 'socket': 5252, 'spanner': 5253, '😴': 5254, 'pglcsgo': 5255, 'x2': 5256, 'tend': 5257, 'crave': 5258, 'slower': 5259, 'sjw': 5260, 'cakehamp': 5261, 'glow': 5262, 'yayyy': 5263, 'merced': 5264, 'hood': 5265, 'badg': 5266, 'host': 5267, 'drone': 5268, 'blow': 5269, 'ignor': 5270, 'retali': 5271, 'bolling': 5272, \"where'\": 5273, 'denmark': 5274, 'whitey': 5275, 'cultur': 5276, 'course': 5277, 'intro': 5278, 'graphicdesign': 5279, 'videograph': 5280, 'space': 5281, \"ted'\": 5282, 'bogu': 5283, '1000': 5284, 'hahahaaah': 5285, 'owli': 5286, 'afternon': 5287, 'whangarei': 5288, 'kati': 5289, 'paulin': 5290, 'traffick': 5291, 'wors': 5292, 'henc': 5293, 'express': 5294, 'wot': 5295, 'hand-lett': 5296, 'roof': 5297, 'eas': 5298, '2/2': 5299, 'sour': 5300, 'dough': 5301, 'egypt': 5302, 'hubbi': 5303, 'sakin': 5304, 'six': 5305, 'christma': 5306, 'avril': 5307, 'n04j': 5308, '25': 5309, 'prosecco': 5310, 'pech': 5311, 'micro': 5312, 'catspj': 5313, '4:15': 5314, 'lazyweekend': 5315, 'overdu': 5316, 'mice': 5317, '💃': 5318, 'jurass': 5319, 'ding': 5320, 'nila': 5321, '8)': 5322, 'cooki': 5323, 'shir': 5324, '0': 5325, 'hale': 5326, 'cheshir': 5327, 'decor': 5328, 'lemm': 5329, 'rec': 5330, 'ingat': 5331, 'din': 5332, 'mono': 5333, 'kathryn': 5334, 'jr': 5335, 'hsr': 5336, 'base': 5337, 'major': 5338, 'sugarrush': 5339, 'knit': 5340, 'partli': 5341, 'homegirl': 5342, 'nanci': 5343, 'fenja': 5344, 'aapk': 5345, 'benchmark': 5346, 'ke': 5347, 'hisaab': 5348, 'ho': 5349, 'gaya': 5350, 'ofc': 5351, 'rtss': 5352, 'hwait': 5353, 'titanfal': 5354, 'xbox': 5355, 'ultim': 5356, 'gastronomi': 5357, 'newblogpost': 5358, 'foodiefriday': 5359, 'foodi': 5360, 'yoghurt': 5361, 'pancak': 5362, 'sabah': 5363, 'kapima': 5364, 'gelen': 5365, 'guzel': 5366, 'bir': 5367, 'hediy': 5368, 'thanx': 5369, '💞': 5370, 'visa': 5371, 'parisa': 5372, 'epiphani': 5373, 'lit': 5374, 'em-con': 5375, 'swore': 5376, '0330 333 7234': 5377, 'kianweareproud': 5378, 'distract': 5379, 'dayofarch': 5380, '10-20': 5381, 'bapu': 5382, 'ivypowel': 5383, 'newmus': 5384, 'sexchat': 5385, '🍅': 5386, 'pathway': 5387, 'balkan': 5388, 'gypsi': 5389, 'mayhem': 5390, 'burek': 5391, 'meat': 5392, 'gibanica': 5393, 'pie': 5394, 'surrey': 5395, 'afterward': 5396, '10.30': 5397, 'tempor': 5398, 'void': 5399, 'stem': 5400, 'sf': 5401, 'ykr': 5402, 'sparki': 5403, '40mm': 5404, '3.5': 5405, 'gr': 5406, 'rockfish': 5407, 'topwat': 5408, 'twitlong': 5409, 'me.so': 5410, 'jummah': 5411, 'durood': 5412, 'pak': 5413, 'cjradacomateada': 5414, 'supris': 5415, 'debut': 5416, 'shipper': 5417, 'asid': 5418, 'housem': 5419, '737bigatingconcert': 5420, 'jedzjabłka': 5421, 'pijjabłka': 5422, 'polish': 5423, 'cider': 5424, 'mustread': 5425, 'cricket': 5426, '5pm': 5427, 'queri': 5428, 'abbi': 5429, 'sumedh': 5430, 'sunnah': 5431, 'عن': 5432, 'quad': 5433, 'bike': 5434, 'carri': 5435, 'proprieti': 5436, 'chronic': 5437, 'superday': 5438, 'chocolatey': 5439, 'yasu': 5440, 'ooooh': 5441, 'hallo': 5442, 'dylan': 5443, 'laura': 5444, 'patric': 5445, 'keepin': 5446, 'mohr': 5447, 'guest': 5448, \"o'neal\": 5449, 'tk': 5450, 'lua': 5451, 'stone': 5452, 'quicker': 5453, 'diet': 5454, 'sosweet': 5455, 'nominier': 5456, 'und': 5457, 'hardcor': 5458, '😌': 5459, 'ff__special': 5460, 'acha': 5461, 'banda': 5462, '✌': 5463, 'bhi': 5464, 'krta': 5465, 'beautifully-craft': 5466, 'mockingbird': 5467, 'diploma': 5468, 'blend': 5469, 'numbero': 5470, 'lolz': 5471, 'ambros': 5472, 'gwinett': 5473, 'bierc': 5474, 'ravag': 5475, 'illadvis': 5476, 'marriag': 5477, 'stare': 5478, 'cynic': 5479, 'yahuda': 5480, 'nosmet': 5481, 'poni': 5482, 'cuuut': 5483, \"f'ing\": 5484, 'vacant': 5485, 'hauc': 5486, 'lovesss': 5487, 'hiss': 5488, 'overnight': 5489, 'cornish': 5490, 'all-clear': 5491, 'raincoat': 5492, 'measur': 5493, 'wealth': 5494, 'invest': 5495, 'garbi': 5496, 'wash': 5497, 'refuel': 5498, 'dunedin': 5499, 'kall': 5500, 'rakhi': 5501, '12th': 5502, 'repres': 5503, 'slovenia': 5504, 'fridg': 5505, 'ludlow': 5506, '28th': 5507, 'selway': 5508, 'submit': 5509, 'spanish': 5510, '90210': 5511, 'oitnb': 5512, 'prepar': 5513, 'condit': 5514, 'msged': 5515, 'chiquito': 5516, 'ohaha': 5517, 'delhi': 5518, '95': 5519, 'webtogsaward': 5520, 'grace': 5521, 'sheffield': 5522, 'tramlin': 5523, 'tl': 5524, 'hack': 5525, 'lad': 5526, 'beeepin': 5527, 'duper': 5528, 'handl': 5529, 'critiqu': 5530, 'contectu': 5531, 'ultor': 5532, 'mamaya': 5533, 'loiyal': 5534, 'para': 5535, 'truthfulwordsof': 5536, 'beanatividad': 5537, 'nknkkpagpapakumbaba': 5538, 'birthdaypres': 5539, 'compliment': 5540, 'swerv': 5541, 'goodtim': 5542, 'sinist': 5543, 'scare': 5544, 'tryna': 5545, 'anonym': 5546, 'dipsatch': 5547, 'aunt': 5548, 'dagga': 5549, 'burket': 5550, '2am': 5551, 'twine': 5552, \"diane'\": 5553, 'happybirthday': 5554, 'thanksss': 5555, 'randomli': 5556, 'buckinghampalac': 5557, 'chibi': 5558, 'maker': 5559, 'timog': 5560, '18th': 5561, 'otw': 5562, 'kami': 5563, 'feelinggood': 5564, 'demand': 5565, 'naman': 5566, 'barkin': 5567, 'yeap': 5568, 'onkey': 5569, 'umma': 5570, 'pervert': 5571, 'onyu': 5572, 'appa': 5573, 'luci': 5574, 'horribl': 5575, 'quantum': 5576, 'greater': 5577, 'blockchain': 5578, 'nowplay': 5579, 'loftey': 5580, 'routt': 5581, 'assia': 5582, '.\\n.\\n.': 5583, 'joint': 5584, 'futurereleas': 5585, \"look'\": 5586, 'scari': 5587, 'murder': 5588, 'mysteri': 5589, 'comma': 5590, \"j'\": 5591, 'hunni': 5592, 'diva': 5593, 'emili': 5594, 'nathan': 5595, 'medit': 5596, 'alumni': 5597, 'mba': 5598, 'foto': 5599, 'what-is-your-fashion': 5600, 'lorenangel': 5601, 'kw': 5602, 'tellanoldjokeday': 5603, 'reqd': 5604, 'specul': 5605, 'consist': 5606, 'tropic': 5607, 'startupph': 5608, 'zodiac': 5609, 'rapunzel': 5610, 'therver': 5611, '85552': 5612, 'bestoftheday': 5613, 'oralsex': 5614, 'carli': 5615, 'happili': 5616, 'contract': 5617, 'matsu_bouzu': 5618, 'sonic': 5619, 'videogam': 5620, 'harana': 5621, 'belfast': 5622, 'danni': 5623, 'rare': 5624, 'sponsorship': 5625, 'aswel': 5626, 'gigi': 5627, 'nick': 5628, 'austin': 5629, 'youll': 5630, 'weak': 5631, '10,000': 5632, 'bravo': 5633, 'iamamonst': 5634, 'rxthedailysurveyvot': 5635, 'broke': 5636, 'ass': 5637, 'roux': 5638, 'walkin': 5639, 'audienc': 5640, 'pfb': 5641, 'jute': 5642, 'walangmakakapigilsakin': 5643, 'lori': 5644, 'ehm': 5645, 'trick': 5646, 'baekhyun': 5647, 'eyesmil': 5648, 'borrow': 5649, 'knive': 5650, 'thek': 5651, 'eventu': 5652, 'reaapear': 5653, 'kno': 5654, 'whet': 5655, 'gratti': 5656, 'shorter': 5657, 'tweetin': 5658, 'inshallah': 5659, 'banana': 5660, 'raspberri': 5661, 'healthylifestyl': 5662, 'aint': 5663, 'skate': 5664, 'analyz': 5665, 'varieti': 5666, '4:13': 5667, 'insomnia': 5668, 'medic': 5669, 'opposit': 5670, 'everlast': 5671, 'yoga': 5672, 'massag': 5673, 'osteopath': 5674, 'trainer': 5675, 'sharm': 5676, 'al_master_band': 5677, 'tbc': 5678, 'unives': 5679, 'architectur': 5680, 'random': 5681, 'isnt': 5682, 'typo': 5683, 'snark': 5684, 'lession': 5685, 'drunk': 5686, 'bruuh': 5687, '2week': 5688, '50europ': 5689, '🇫🇷': 5690, 'iov': 5691, 'accord': 5692, 'mne': 5693, 'pchelok': 5694, 'ja': 5695, '=:': 5696, 'sweetest': 5697, 'comet': 5698, 'ahah': 5699, 'candi': 5700, 'axio': 5701, 'rabbit': 5702, 'nutshel': 5703, 'taken': 5704, 'letshavecocktailsafternuclai': 5705, 'malik': 5706, 'umair': 5707, 'canon': 5708, 'gang': 5709, 'grind': 5710, 'thoracicbridg': 5711, '5minut': 5712, 'nonscript': 5713, 'password': 5714, 'shoshannavassil': 5715, 'addmeonsnapchat': 5716, 'dmme': 5717, 'mpoint': 5718, 'soph': 5719, 'hopeless': 5720, 'ikea': 5721, 'slide': 5722, 'bani': 5723, 'neighbour': 5724, 'motor': 5725, 'search': 5726, 'sialan': 5727, 'athabasca': 5728, 'glacier': 5729, '1948': 5730, ':-(': 5731, 'jasper': 5732, 'jaspernationalpark': 5733, 'alberta': 5734, 'explorealberta': 5735, 'mare': 5736, 'ivan': 5737, 'hahahah': 5738, 'replac': 5739, 'bi-polar': 5740, 'grasp': 5741, 'digit': 5742, 'lone': 5743, '😩': 5744, 'choreograph': 5745, 'mingm': 5746, 'truli': 5747, 'pee': 5748, 'newwin': 5749, 'doushit': 5750, 'gundam': 5751, 'dollar': 5752, 'pale': 5753, 'imit': 5754, 'rash': 5755, 'absent': 5756, 'sequel': 5757, 'ouucchhh': 5758, 'wisdom': 5759, 'frighten': 5760, 'pret': 5761, 'wkwkw': 5762, 'verfi': 5763, 'sentir-s': 5764, 'incompleta': 5765, 'thwart': 5766, 'zant': 5767, \"when'\": 5768, 'audraesar': 5769, 'craaazzyy': 5770, 'helium': 5771, 'climatechang': 5772, \"california'\": 5773, 'influenti': 5774, 'pollut': 5775, 'watchdog': 5776, 'califor': 5777, 'elhaida': 5778, 'juri': 5779, '10th': 5780, 'televot': 5781, 'idaho': 5782, 'drought-link': 5783, 'die-of': 5784, 'abrupt': 5785, 'climat': 5786, 'mammoth': 5787, 'megafauna': 5788, \"australia'\": 5789, 'dirtiest': 5790, 'energi': 5791, 'biomass': 5792, 'golf': 5793, 'ulti': 5794, 'prexi': 5795, 'kindergarten': 5796, 'sane': 5797, 'boss': 5798, 'hozier': 5799, 'soooner': 5800, 'respectlost': 5801, 'hypercholesteloremia': 5802, 'calibraska': 5803, 'genuin': 5804, 'contend': 5805, 'older': 5806, 'ao': 5807, 'yun': 5808, 'encor': 5809, '4thwin': 5810, 'baymax': 5811, 'mixer': 5812, 'wft': 5813, 'hub': 5814, 'loud': 5815, 'parasyt': 5816, 'alll': 5817, 'zayniscomingbackonjuli': 5818, '26': 5819, 'era': 5820, '。': 5821, 'ω': 5822, '」': 5823, '∠': 5824, 'nathann': 5825, 'dieididieieiei': 5826, 'netflix': 5827, 'ervin': 5828, 'desper': 5829, 'amargolonnard': 5830, 'batalladelosgallo': 5831, 'webcamsex': 5832, 'duti': 5833, \"u'v\": 5834, 'alien': 5835, 'sorka': 5836, 'funer': 5837, 'nonexist': 5838, 'wowza': 5839, 'fah': 5840, 'boo': 5841, 'hyung': 5842, 'predict': 5843, 'sj': 5844, 'nomin': 5845, 'brace': 5846, 'omggg': 5847, 'whyyi': 5848, 'evan': 5849, 'opt': 5850, 'muster': 5851, 'merch': 5852, 'savanna': 5853, 'straw': 5854, 'yester': 5855, 'when': 5856, 'consum': 5857, 'werk': 5858, 'foreal': 5859, 'wesen': 5860, 'uwes': 5861, 'bosen': 5862, 'egg': 5863, 'benni': 5864, 'badli': 5865, '>:(': 5866, 'zaz': 5867, 'rehash': 5868, 'mushroom': 5869, 'piec': 5870, 'vicki': 5871, '45': 5872, 'hahah': 5873, 'ninasti': 5874, 'tsktsk': 5875, 'dick': 5876, 'kawaii': 5877, 'manli': 5878, 'youu': 5879, 'potato': 5880, 'asf': 5881, 'eish': 5882, 'ive': 5883, 'lost': 5884, 'mojo': 5885, 'mara': 5886, 'neh': 5887, 'councillor': 5888, 'sholong': 5889, 'reject': 5890, 'gee': 5891, 'gidi': 5892, 'lago': 5893, 'ehn': 5894, 'arrest': 5895, 'idk': 5896, 'anybodi': 5897, 'disappear': 5898, 'daze': 5899, 'fragment': 5900, \"would'v\": 5901, 'walao': 5902, 'djderek': 5903, 'legend': 5904, 'tragedi': 5905, '💪🏻': 5906, '🐒': 5907, 'struck': 5908, 'belgium': 5909, 'fabian': 5910, 'delph': 5911, 'fallen': 5912, 'drake': 5913, 'silent': 5914, 'mumma': 5915, 'pray': 5916, 'appropri': 5917, 'across': 5918, 'hindi': 5919, '5s': 5920, 'disabl': 5921, 'pension': 5922, 'ptsd': 5923, 'imposs': 5924, 'financi': 5925, 'nooo': 5926, 'toghet': 5927, '21st': 5928, 'snsd': 5929, 'anna': 5930, 'akana': 5931, 'askip': 5932, \"t'exist\": 5933, 'kei': 5934, 'kate': 5935, 'spade': 5936, 'pero': 5937, 'walang': 5938, 'agesss': 5939, 'corinehurleigh': 5940, 'snapchatm': 5941, 'zara': 5942, 'trouser': 5943, \"it'okay\": 5944, 'freed': 5945, 'orcalov': 5946, 'lew': 5947, 'crumbl': 5948, 'mcflurri': 5949, 'cabl': 5950, \"venus'\": 5951, 'concept': 5952, 'rli': 5953, 'tagal': 5954, 'appoint': 5955, 'cereal': 5956, 'previou': 5957, '73': 5958, 'fansign': 5959, 'expens': 5960, 'zzzz': 5961, \"bff'\": 5962, \"deosn't\": 5963, 'liverpool': 5964, 'lowest': 5965, 'tacki': 5966, 'haaretz': 5967, 'israel': 5968, 'syria': 5969, 'chemic': 5970, 'wsj': 5971, 'rep': 5972, 'wong': 5973, 'confisc': 5974, 'icepack': 5975, 'dose': 5976, 'whimper': 5977, 'senpai': 5978, 'buttsex': 5979, \"dn't\": 5980, 'brk': 5981, \":'(\": 5982, 'falsetto': 5983, 'zone': 5984, 'loveofmylif': 5985, 's2': 5986, 'untruth': 5987, 'ij': 5988, '💥': 5989, '💫': 5990, 'soshi': 5991, 'buttt': 5992, 'heyyy': 5993, 'yeol': 5994, 'dancee': 5995, 'nemanja': 5996, 'vidic': 5997, 'roma': 5998, \"mom'\": 5999, 'linguist': 6000, \"dad'\": 6001, 'dumbest': 6002, 'crash': 6003, 'resourc': 6004, 'vehicl': 6005, 'ayex': 6006, 'lamon': 6007, 'scroll': 6008, 'curv': 6009, 'cement': 6010, '10.3': 6011, 'jmu': 6012, 'camp': 6013, 'teas': 6014, 'awuna': 6015, 'mbulelo': 6016, 'although': 6017, 'plug': 6018, 'fuse': 6019, 'dammit': 6020, 'carlton': 6021, 'aflblueshawk': 6022, \"alex'\": 6023, 'motorsport': 6024, 'cheeki': 6025, 'seo': 6026, 'nl': 6027, 'christi': 6028, 'niec': 6029, 'bloodi': 6030, 'sandwhich': 6031, 'buset': 6032, 'discrimin': 6033, 'pregnanc': 6034, 'foot': 6035, 'f': 6036, 'matern': 6037, 'kick': 6038, 'domesticviol': 6039, 'domest': 6040, 'violenc': 6041, 'victim': 6042, '98fm': 6043, 'govern': 6044, 'sapiosexu': 6045, 'beta': 6046, 'hogan': 6047, 'scrub': 6048, 'wwe': 6049, 'iren': 6050, 'naa': 6051, 'sold': 6052, 'h_my_k': 6053, 'valentin': 6054, 'et': 6055, \"r'ship\": 6056, 'btwn': 6057, 'homo': 6058, 'biphob': 6059, 'disciplin': 6060, 'incl': 6061, 'european': 6062, 'lang': 6063, 'fresherstofin': 6064, '💔': 6065, 'realist': 6066, 'benzema': 6067, 'hahahahahaah': 6068, 'donno': 6069, 'russian': 6070, 'waaa': 6071, 'eidwithgrof': 6072, 'boreddd': 6073, 'mug': 6074, 'tiddler': 6075, '에이핑크': 6076, '더쇼': 6077, 'clan': 6078, 'slot': 6079, 'pfff': 6080, 'bugbounti': 6081, 'self-xss': 6082, 'header': 6083, 'poison': 6084, 'execut': 6085, 'ktksbye': 6086, 'cancel': 6087, 'petit': 6088, '600': 6089, 'odoo': 6090, 'partner': 6091, 'effin': 6092, 'ap': 6093, 'elsewher': 6094, 'branch': 6095, 'pod': 6096, 'd;': 6097, 'talk-kama': 6098, 'hawako': 6099, 'waa': 6100, 'kimaaani': 6101, 'prisss': 6102, 'baggag': 6103, 'sugar': 6104, 'agh': 6105, 'undercoverboss': 6106, 'تكفى': 6107, 'ach': 6108, 'wrist': 6109, 'ligo': 6110, 'dozen': 6111, 'shark': 6112, 'heartach': 6113, 'zayniscomingback': 6114, 'sweden': 6115, 'elmhurst': 6116, 'etid': 6117, \"chillin'with\": 6118, 'father': 6119, 'istanya': 6120, '2suppli': 6121, 'infrastructur': 6122, 'nurs': 6123, 'paramed': 6124, 'countless': 6125, '2cope': 6126, 'plea': 6127, 'arian': 6128, 'kendal': 6129, 'kyli': 6130, \"kylie'\": 6131, 'manila': 6132, 'jeebu': 6133, 'reabsorbt': 6134, 'abscess': 6135, 'crown': 6136, 'ooouch': 6137, 'barney': 6138, \"be'\": 6139, 'problemat': 6140, 'mess': 6141, 'maa': 6142, 'bangalor': 6143, 'lui': 6144, 'manzano': 6145, 'shaaa': 6146, 'conven': 6147, '2:30': 6148, 'delet': 6149, 'airfield': 6150, 'jet': 6151, \"jack'\": 6152, \"mommy'\": 6153, 'overweight': 6154, 'sigeg': 6155, 'habhab': 6156, 'masud': 6157, 'kaha': 6158, 'akong': 6159, 'pala': 6160, 'dolphin': 6161, 'holi': 6162, 'anythin': 6163, 'bewar': 6164, 'agonis': 6165, 'modimo': 6166, 'tseba': 6167, 'wena': 6168, 'fela': 6169, 'nowt': 6170, 'willi': 6171, 'gon': 6172, 'vomit': 6173, 'bowl': 6174, 'devast': 6175, 'titan': 6176, 'ae': 6177, 'shini': 6178, 'wavi': 6179, 'emo': 6180, 'germani': 6181, 'shed': 6182, 'bheyp': 6183, 'ayemso': 6184, 'swell': 6185, 'wut': 6186, 'viciou': 6187, 'simpson': 6188, 'singapor': 6189, 'pooo': 6190, 'bh3': 6191, 'pitchwar': 6192, 'chap': 6193, \"mine'\": 6194, 'transcript': 6195, \"apma'\": 6196, 'timw': 6197, 'vitamin': 6198, 'healthier': 6199, 'stretch': 6200, 'blockjam': 6201, \"schedule'\": 6202, 'whack': 6203, 'thelock': 6204, '76': 6205, 'hotgirl': 6206, 'ghantay': 6207, 'nai': 6208, 'hay': 6209, 'deni': 6210, 'laguna': 6211, 'exit': 6212, 'gomen': 6213, 'grew': 6214, 'inch': 6215, 'suuuper': 6216, '65': 6217, 'inact': 6218, 'orphan': 6219, 'whaaat': 6220, 'kaya': 6221, 'naaan': 6222, 'paus': 6223, '3:30': 6224, 'inglewood': 6225, 'ummm': 6226, 'charcoal': 6227, 'mid-end': 6228, 'noooo': 6229, 'rodfanta': 6230, 'wasp': 6231, 'sting': 6232, 'avert': 6233, 'exo': 6234, 'seekli': 6235, 'riptito': 6236, 'manbearpig': 6237, 'academ': 6238, 'exclus': 6239, 'unfair': 6240, 'esp': 6241, 'bleak': 6242, 'german': 6243, 'chart': 6244, 'pfft': 6245, 'polaroid': 6246, 'newbethvideo': 6247, 'greec': 6248, 'xur': 6249, 'imi': 6250, 'stud': 6251, 'hund': 6252, '3.4': 6253, 'yach': 6254, 'huvvft': 6255, 'zoo': 6256, 'fieldtrip': 6257, 'sizw': 6258, 'boredom': 6259, 'who': 6260, 'sins': 6261, 'somehow': 6262, 'tini': 6263, 'barbel': 6264, 'ps': 6265, 'looong': 6266, 'litro': 6267, 'shepherd': 6268, 'lami': 6269, 'lungomar': 6270, 'pesaro': 6271, 'giachietittiwed': 6272, 'igersoftheday': 6273, 'summertim': 6274, 'nose': 6275, 'scarf': 6276, 'afford': 6277, 'woe': 6278, 'nigga': 6279, 'motn': 6280, 'make-up': 6281, 'ver': 6282, 'huhuhu': 6283, \"m'ladi\": 6284, 'j8': 6285, 'j11': 6286, 'm20': 6287, 'acad': 6288, 'schedul': 6289, 'nowww': 6290, 'hugh': 6291, 'paw': 6292, 'muddi': 6293, 'heyi': 6294, 'cupcak': 6295, 'talaga': 6296, 'poppin': 6297, 'joc': 6298, 'playin': 6299, 'subj': 6300, 'sobrang': 6301, 'bv': 6302, 'zamn': 6303, 'afropunk': 6304, 'fest': 6305, 'shithous': 6306, 'ladder': 6307, 'wrack': 6308, 'booset': 6309, 'restart': 6310, 'assassin': 6311, 'creed': 6312, 'ii': 6313, 'heap': 6314, 'ankl': 6315, 'puddl': 6316, 'slipper': 6317, 'eve': 6318, 'sararoc': 6319, 'anywayhedidanicejob': 6320, '😞': 6321, 'local': 6322, 'cruis': 6323, 'wail': 6324, 'wheelchair': 6325, '26week': 6326, 'sbenu': 6327, 'sasin': 6328, 'anarchi': 6329, 'candl': 6330, 'forehead': 6331, 'medicin': 6332, 'hoya': 6333, 'mah': 6334, 'a': 6335, 'hush': 6336, 'gurli': 6337, 'purti': 6338, 'closer': 6339, 'shiver': 6340, 'paid': 6341, 'properli': 6342, 'gol': 6343, 'pea': 6344, 'tierd': 6345, \"eye'\": 6346, 'thnkyouuu': 6347, 'highlight': 6348, 'courag': 6349, 'fishi': 6350, 'idek': 6351, 'apink': 6352, 'bulet': 6353, 'gendut': 6354, 'noo': 6355, 'hotwheel': 6356, 'ms': 6357, 'patch': 6358, 'ahaha': 6359, 'akon': 6360, 'nightmar': 6361, 'mino': 6362, 'crazyyi': 6363, 'thooo': 6364, 'zz': 6365, 'straight': 6366, 'soundcheck': 6367, 'antagonist': 6368, 'ob': 6369, 'phantasi': 6370, 'sleepdepriv': 6371, 'tiredashel': 6372, '4aspot': 6373, \"kinara'\": 6374, 'awami': 6375, 'niqqa': 6376, 'pb.contest': 6377, 'aarww': 6378, 'lmbo': 6379, 'dangit': 6380, 'ohmygod': 6381, 'scenario': 6382, 'tooo': 6383, 'baechyyi': 6384, 'okayyy': 6385, 'noon': 6386, 'drag': 6387, 'serious': 6388, 'misundersrand': 6389, 'chal': 6390, 'raha': 6391, 'yhm': 6392, 'edsa': 6393, 'jasmingarrick': 6394, 'milf': 6395, 'nakamaforev': 6396, 'kiksex': 6397, \"unicef'\": 6398, 'fu': 6399, 'alon': 6400, 'stephen': 6401, 'frustrat': 6402, 'woza': 6403, 'senight': 6404, '468': 6405, 'amateur': 6406, 'hotscratch': 6407, 'sock': 6408, '150-160': 6409, 'peso': 6410, 'degrassi': 6411, 'bcz': 6412, 'kat': 6413, 'chem': 6414, 'onscreen': 6415, 'ofscreen': 6416, 'ironi': 6417, 'rhisfor': 6418, 'camsex': 6419, 'poopi': 6420, 'pip': 6421, 'uff': 6422, '1.300': 6423, 'glue': 6424, 'factori': 6425, 'kuchar': 6426, 'up': 6427, 'uni': 6428, 'ee': 6429, 'tommi': 6430, 'georgia': 6431, 'transmiss': 6432, 'orang': 6433, 'suma': 6434, 'shouldeeerr': 6435, 'repack': 6436, 'grown': 6437, 'dy': 6438, 'rihanna': 6439, 'ging': 6440, 'adida': 6441, 'pro@illamasqua.com': 6442, 'ifeely': 6443, 'harder': 6444, 'ratbaglat': 6445, 'semest': 6446, 'gin': 6447, 'gut': 6448, 'reynold': 6449, 'dessert': 6450, 'villag': 6451, 'oppress': 6452, 'mass': 6453, 'afghanistn': 6454, 'war': 6455, 'tore': 6456, 'sunggyu': 6457, 'injur': 6458, 'plaster': 6459, 'rtd': 6460, 'stadium': 6461, 'welder': 6462, 'hogo': 6463, 'vishaya': 6464, 'adu': 6465, 'bjp': 6466, 'madatt': 6467, 'anta': 6468, 'vishwa': 6469, 'ne': 6470, 'illa': 6471, 'wua': 6472, 'picki': 6473, 'thent': 6474, '423': 6475, 'sexual': 6476, 'sync': 6477, 'plug.dj': 6478, 'suspems': 6479, 'cope': 6480, 'offroad': 6481, 'harvest': 6482, 'machineri': 6483, 'inapropri': 6484, 'weav': 6485, 'scottish': 6486, 'footbal': 6487, 'dire': 6488, 'nomoney': 6489, 'nawf': 6490, 'becho': 6491, 'overli': 6492, 'zap': 6493, 'distress': 6494, 'cinema': 6495, 'louisianashoot': 6496, 'har': 6497, 'chum': 6498, 'ncc': 6499, 'ph': 6500, 'kayo': 6501, 'itong': 6502, 'thaaat': 6503, 'ctto': 6504, 'expir': 6505, 'bi': 6506, '3:33': 6507, 'jfc': 6508, 'bodo': 6509, 'amat': 6510, 'yelaaa': 6511, 'dublin': 6512, 'potter': 6513, 'pine': 6514, 'keybind': 6515, 'warfar': 6516, 'diagnos': 6517, 'wiv': 6518, \"scheuermann'\": 6519, 'diseas': 6520, 'rlyhurt': 6521, 'howdo': 6522, 'georgesampson': 6523, 'signal': 6524, 'reckon': 6525, 't20': 6526, 'taunton': 6527, 'justiceforsandrabland': 6528, 'sandrabland': 6529, 'disturb': 6530, 'happpi': 6531, 'justinbieb': 6532, 'daianerufato': 6533, 'ilysm': 6534, '07:34': 6535, 'delphi': 6536, 'dom': 6537, 'techniqu': 6538, 'minc': 6539, 'symphoni': 6540, 'joe': 6541, 'wth': 6542, 'aisyhhh': 6543, 'bald': 6544, 'seungchan': 6545, 'aigooo': 6546, 'riri': 6547, 'vet': 6548, 'kept': 6549, 'lumin': 6550, 'z': 6551, 'bebee': 6552, 'lt': 6553, 'inaccuraci': 6554, 'inaccur': 6555, 'tragic': 6556, 'toronto': 6557, 'stuart': 6558, \"party'\": 6559, 'iyalaya': 6560, ';(': 6561, 'happier': 6562, 'ubusi': 6563, 'gymnast': 6564, 'aahhh': 6565, 'noggin': 6566, 'bump': 6567, 'feelslikeanidiot': 6568, 'pregnant': 6569, 'dearli': 6570, 'suk': 6571, 'scone': 6572, 'outnumb': 6573, 'eri': 6574, 'geez': 6575, 'preciou': 6576, 'hive': 6577, 'vietnam': 6578, 'dunt': 6579, 'sob': 6580, 'buff': 6581, 'deactiv': 6582, \"shady'\": 6583, 'isibaya': 6584, '😓': 6585, 'colder': 6586, 'med': 6587, 'sausag': 6588, 'adio': 6589, 'h8': 6590, 'messeng': 6591, 'shittier': 6592, 'leno': 6593, 'ident': 6594, 'crisi': 6595, 'roommat': 6596, 'nighter': 6597, 'flew': 6598, 'wetherspoon': 6599, 'polic': 6600, 'ocean': 6601, 'lisah': 6602, 'eboni': 6603, 'polka': 6604, 'ndi': 6605, 'leftov': 6606, 'walnut': 6607, 'boah': 6608, 'madi': 6609, 'manga': 6610, 'giant': 6611, 'aminormalyet': 6612, 'poorli': 6613, 'tummi': 6614, 'pj': 6615, 'groan': 6616, 'nou': 6617, 'ken': 6618, 'sara': 6619, 'accid': 6620, 'describ': 6621, 'prydz': 6622, 'sister-in-law': 6623, 'rear-end': 6624, \"everyone'\": 6625, 'trash': 6626, 'stair': 6627, 'childhood': 6628, 'toothsensit': 6629, 'shem': 6630, 'awel': 6631, 'weekendofmad': 6632, '🍹': 6633, 'cb': 6634, 'dancer': 6635, 'choregraph': 6636, '626-430-8715': 6637, 'hoe': 6638, 'xiu': 6639, 'nk': 6640, 'gi': 6641, 'uss': 6642, 'eliss': 6643, 'ksoo': 6644, 'tat': 6645, 'bcoz': 6646, 'rancho': 6647, 'imperi': 6648, 'silang': 6649, 'subdivis': 6650, 'center': 6651, '39': 6652, 'cornwal': 6653, 'verit': 6654, 'penni': 6655, 'ebook': 6656, 'фотосет': 6657, 'addicted-to-analsex': 6658, 'sweetbj': 6659, 'blowjob': 6660, 'mhhh': 6661, 'sed': 6662, 'mee': 6663, 'enviou': 6664, 'lovey': 6665, 'dovey': 6666, 'workin': 6667, 'schade': 6668, 'isco': 6669, 'peni': 6670, 'louisiana': 6671, 'lafayett': 6672, 'matteroftheheart': 6673, 'waduh': 6674, 'suspend': 6675, 'clich': 6676, 'rma': 6677, 'jersey': 6678, 'jaclintil': 6679, 'likeforlik': 6680, 'hotfmnoaidilforariana': 6681, 'fuckkk': 6682, 'sanum': 6683, 'llaollao': 6684, 'foood': 6685, 'ubericecream': 6686, 'glare': 6687, 'choreo': 6688, 'offens': 6689, 'yeyi': 6690, 'hd': 6691, 'sux': 6692, 'nothaveld': 6693, '765': 6694, 'likeforfollow': 6695, 'mosquito': 6696, 'kinki': 6697, 'hsould': 6698, 'justget': 6699, 'shuffl': 6700, 'int': 6701, 'buckl': 6702, 'millz': 6703, 'aski': 6704, 'awusasho': 6705, 'unlucki': 6706, 'briefli': 6707, '144p': 6708, 'brook': 6709, '＠': 6710, 'maverickgam': 6711, '07:32': 6712, '07:25': 6713, 'extern': 6714, 'sd': 6715, 'airdroid': 6716, '4.4+': 6717, 'cramp': 6718, 'unstan': 6719, 'tay': 6720, 'ngeze': 6721, 'cocktaili': 6722, 'classi': 6723, '07:24': 6724, '✈': 6725, '️2': 6726, '☔': 6727, 'pen': 6728, 'barcelona': 6729, 'bilbao': 6730, 'sharyl': 6731, 'shane': 6732, 'giddi': 6733, 'd1': 6734, 'zipper': 6735, 'repair': 6736, '2016': 6737, 'cont': 6738, 'wore': 6739, 'tempt': 6740, 'oreo': 6741, 'network': 6742, 'lolipop': 6743, 'kebab': 6744, 'klappertart': 6745, 'moodbost': 6746, 'unprepar': 6747, 'sri': 6748, 'dresscod': 6749, 'iam': 6750, 'stab': 6751, 'meh': 6752, 'wrocilam': 6753, 'looww': 6754, 'recov': 6755, 'wayn': 6756, 'loss': 6757, 'stolen': 6758, 'accident': 6759, 'damag': 6760, 'devic': 6761, 'warranti': 6762, 'lmfaoo': 6763, 'fra': 6764, 'otamendi': 6765, 'ny': 6766, '🚖': 6767, '🗽': 6768, '🌃': 6769, 'stealth': 6770, 'bastard': 6771, 'therapi': 6772, 'switzerland': 6773, 'th': 6774, 'wolrd': 6775, 'fyn': 6776, '3g': 6777, 'christ': 6778, 'scale': 6779, 'deck': 6780, 'chair': 6781, 'yk': 6782, 'resi': 6783, 'bruh': 6784, 'lock': 6785, 'fbc': 6786, 'mork': 6787, '873': 6788, 'hotspotwithdanri': 6789, 'sone': 6790, 'potag': 6791, 'blight': 6792, 'mych': 6793, 'shiiit': 6794, 'prompt': 6795, 'areadi': 6796, 'similar': 6797, 'soulmat': 6798, 'hw': 6799, 'jouch': 6800, 'por': 6801, 'que': 6802, 'liceooo': 6803, 'ayala': 6804, 'tunnel': 6805, 'thatscold': 6806, 'lourd': 6807, 'bang': 6808, 'anywher': 6809, 'showbox': 6810, 'naruto': 6811, 'companion': 6812, 'skinni': 6813, 'dubai': 6814, 'laribuggi': 6815, 'nutella': 6816, \"could'v\": 6817, 'siriu': 6818, 'frudg': 6819, 'sat': 6820, 'bbz': 6821, 'angek': 6822, 'sbali': 6823, 'euuuwww': 6824, 'construct': 6825, '1k': 6826, 'nell': 6827, 'ik': 6828, 'jaysu': 6829, 'buti': 6830, 'poop': 6831, 'rome': 6832, 'throat': 6833, 'llama': 6834, 'getwellsoonamb': 6835, 'heath': 6836, 'ledger': 6837, 'permiss': 6838, '2-0': 6839, 'supersport': 6840, 'milkshak': 6841, 'witcher': 6842, 'papertown': 6843, 'bale': 6844, 'bahay': 6845, 'bahayan': 6846, 'magisa': 6847, 'sadlyf': 6848, 'bunso': 6849, 'sleeep': 6850, 'astonvilla': 6851, 'berigaud': 6852, 'bakar': 6853, 'allerg': 6854, 'depress': 6855, \"blaine'\": 6856, 'acoust': 6857, 'hernia': 6858, 'toxin': 6859, 'ariel': 6860, 'slam': 6861, 'bee': 6862, 'finddjderek': 6863, 'uuughhh': 6864, 'grabe': 6865, 'where': 6866, 'smi': 6867, 'nemesi': 6868, 'neeein': 6869, 'saaad': 6870, 'creas': 6871, 'tan': 6872, 'dalla': 6873, 'infront': 6874, 'beato': 6875, 'minha': 6876, 'deleici': 6877, 'pcb': 6878, 'peregrin': 6879, '8.40': 6880, 'pigeon': 6881, 'tram': 6882, 'hav': 6883, 'apt': 6884, 'bldg': 6885, 'mmmm': 6886, 'nicki': 6887, 'fucjikg': 6888, 'disgust': 6889, 'buynotanapologyonitun': 6890, 'aval': 6891, 'nw': 6892, 'sch': 6893, 'jeslyn': 6894, '72': 6895, 'root': 6896, 'hua': 6897, 'newbi': 6898, 'miracl': 6899, 'linda': 6900, 'nux': 6901, 'hinanap': 6902, 'uy': 6903, 'sched': 6904, 'anyar': 6905, 'entertain': 6906, 'typa': 6907, 'transpar': 6908, 'photoshop': 6909, 'planner': 6910, 'helppp': 6911, 'wearig': 6912, 'prey': 6913, 'ausfailia': 6914, 'snow': 6915, 'footi': 6916, 'row': 6917, \"m'\": 6918, 'kitkat': 6919, '😢': 6920, 'suger': 6921, 'olivia': 6922, 'audit': 6923, 'injuri': 6924, 'appendix': 6925, 'append': 6926, 'fack': 6927, 'nhl': 6928, 'khami': 6929, 'reaali': 6930, 'naomi': 6931, 'contemporari': 6932, '565': 6933, 'jahat': 6934, 'discount': 6935, 'thorp': 6936, 'esnho': 6937, 'node': 6938, 'directx': 6939, 'p2': 6940, 'blackberri': 6941, 'shitti': 6942, 'povertyyouareevil': 6943, 'struggl': 6944, 'emm': 6945, 'elgin': 6946, 'vava': 6947, 'makati': 6948, '💛': 6949, 'baon': 6950, 'soak': 6951, 'mush': 6952, 'ouat': 6953, 'blinkin': 6954, 'headack': 6955, 'tension': 6956, 'erit': 6957, 'perspect': 6958, 'endlessli': 6959, 'blush': 6960, 'kiddo': 6961, 'rumbel': 6962, 'overwhelm': 6963, 'irrespons': 6964, 'pakighinabi': 6965, 'pinkfinit': 6966, 'beb': 6967, 'migrain': 6968, 'coyot': 6969, 'headach': 6970, '인피니트': 6971, 'baechu': 6972, 'calibraskaep': 6973, 'elgato': 6974, 'ant': 6975, 'faint': 6976, 'subway': 6977, 'fragil': 6978, 'gap': 6979, 'plot': 6980, 'bungi': 6981, 'woohyun': 6982, 'guilti': 6983, 'davao': 6984, 'luckyyi': 6985, 'confid': 6986, 'eunha': 6987, 'misplac': 6988, 'den': 6989, 'dae': 6990, 'bap': 6991, 'huehu': 6992, 'rice': 6993, 'krispi': 6994, 'marshmallow': 6995, 'm5m6junction': 6996, 'soulsurvivor': 6997, 'stafford': 6998, 'progress': 6999, 'mixtur': 7000, 'lage': 7001, 'ramd': 7002, 'juja': 7003, 'murugan': 7004, 'bgtau': 7005, 'harap': 7006, 'bagi': 7007, 'aminn': 7008, 'fraand': 7009, '😬': 7010, 'bigbang': 7011, 'sian': 7012, 'nicoleapag': 7013, 'hellish': 7014, 'thirstyyi': 7015, 'chesti': 7016, \"nando'\": 7017, 'bow': 7018, 'hen': 7019, 'rdd': 7020, 'dissip': 7021, 'capee': 7022, 'japan': 7023, 'outliv': 7024, 'x-ray': 7025, 'dental': 7026, 'spine': 7027, 'relief': 7028, 'popol': 7029, 'stomach': 7030, 'frog': 7031, 'brad': 7032, 'gen.ad': 7033, 'negoti': 7034, 'huhuhuhuhu': 7035, 'bbmadeinmanila': 7036, 'findavip': 7037, 'boyirl': 7038, 'yasss': 7039, '6th': 7040, 'june': 7041, 'lain': 7042, 'diffici': 7043, 'speed': 7044, 'rapist': 7045, 'commit': 7046, 'crime': 7047, 'bachpan': 7048, 'yaadein': 7049, 'finnair': 7050, 'heathrow': 7051, 'norwegian': 7052, ':\\\\': 7053, 'upvot': 7054, 'keeno': 7055, 'whatthefuck': 7056, 'grotti': 7057, 'seeker': 7058, 'moral': 7059, 'fern': 7060, 'mimi': 7061, 'bali': 7062, 'lowbat': 7063, 'funk': 7064, 'wewanticecream': 7065, 'sweat': 7066, 'eugh': 7067, 'occasion': 7068, \"izzy'\": 7069, 'dorm': 7070, 'choppi': 7071, \"infinite'\": 7072, '5:30': 7073, 'cayton': 7074, 'emma': 7075, 'darcey': 7076, 'connor': 7077, 'spoke': 7078, 'roommateexperi': 7079, 'avoid': 7080, 'ic': 7081, 'te': 7082, 'auto-followback': 7083, 'ljp': 7084, 'nowday': 7085, 'attach': 7086, 'numb': 7087, 'dentist': 7088, 'misss': 7089, 'rid': 7090, 'tab': 7091, 'uca': 7092, 'bigtim': 7093, 'rumor': 7094, 'warmest': 7095, 'chin': 7096, 'tickl': 7097, '♫': 7098, 'zikra': 7099, 'lusi': 7100, 'hasya': 7101, 'nugget': 7102, 'olymp': 7103, \"millie'\": 7104, '748292': 7105, 'ano': 7106, '22stan': 7107, 'mag': 7108, 'hatee': 7109, 'leas': 7110, 'written': 7111, '6g': 7112, 'unsuccess': 7113, 'earlob': 7114, 'sue': 7115, 'dreari': 7116, 'denis': 7117, 'muriel': 7118, 'ahouré': 7119, 'pr': 7120, \"kath'd\": 7121, 'respond': 7122, 'chop': 7123, 'wbu': 7124, 'kme': 7125, 'cram': 7126, 'curiou': 7127, 'trespass': 7128, 'clandestin': 7129, 'muller': 7130, 'obviou': 7131, 'mufc': 7132, 'stu': 7133, 'buddyyi': 7134, 'feelgoodfriday': 7135, '6:30': 7136, 'babysit': 7137, 'opix': 7138, '805': 7139, 'pilllow': 7140, 'fool': 7141, 'brag': 7142, 'skrillah': 7143, 'drown': 7144, 'gue': 7145, 'north': 7146, 'sjkao': 7147, 'srri': 7148, 'honma': 7149, 'yeh': 7150, 'walay': 7151, 'bohat': 7152, 'wailay': 7153, 'pre-season': 7154, 'pe': 7155, 'itna': 7156, 'shor': 7157, 'machaya': 7158, 'samjha': 7159, '👍': 7160, '😔': 7161, 'sirkay': 7162, 'wali': 7163, 'pyaaz': 7164, 'daal': 7165, 'onion': 7166, 'vinegar': 7167, 'tutori': 7168, 'soho': 7169, 'ciao': 7170, 'masaan': 7171, 'muv': 7172, 'beast': 7173, 'hayst': 7174, 'cr': 7175, 'hnnn': 7176, 'optimis': 7177, 'soniii': 7178, 'kahaaa': 7179, 'freez': 7180, 'fml': 7181, 'jacket': 7182, 'sleepi': 7183, 'bulli': 7184, 'racial': 7185, 'loool': 7186, 'busier': 7187, 'onward': 7188, 'coincid': 7189, 'imac': 7190, 'gram': 7191, 'nearer': 7192, 'blain': 7193, 'darren': 7194, 'fuuuck': 7195, 'gishwh': 7196, 'exclud': 7197, 'movement': 7198, 'frou': 7199, 'vaccin': 7200, 'armor': 7201, 'legendari': 7202, 'cash': 7203, 'effort': 7204, 'nat': 7205, 'brake': 7206, 'grumpi': 7207, 'wreck': 7208, 'gahhh': 7209, 'teribl': 7210, 'kilig': 7211, 'weaker': 7212, 'shravan': 7213, 'stooop': 7214, 'gi-guilti': 7215, 'akooo': 7216, 'imveryverysorri': 7217, 'cd': 7218, 'basenam': 7219, 'theme': 7220, 'cigar': 7221, 'speaker': 7222, 'promethazin': 7223, 'zopiclon': 7224, 'addit': 7225, 'quetiapin': 7226, 'modifi': 7227, 'prescript': 7228, 'greska': 7229, 'macedonian': 7230, 'slovak': 7231, 'hike': 7232, 'zokay': 7233, 'accent': 7234, 'b-but': 7235, 'gintama': 7236, 'shinsengumi': 7237, 'chapter': 7238, 'crappl': 7239, 'ftw': 7240, 'phandroid': 7241, 'tline': 7242, 'orchestra': 7243, 'bittersweet': 7244, 'eunji': 7245, 'bakit': 7246, '121st': 7247, 'ehdar': 7248, 'pegea': 7249, 'panga': 7250, 'dosto': 7251, 'nd': 7252, 'real_liam_payn': 7253, '3/10': 7254, 'dmed': 7255, '23': 7256, 'alreaddyyi': 7257, 'luceleva': 7258, 'naeun': 7259, \"son'\": 7260, 'kidney': 7261, 'ink': 7262, 'ihatesomepeopl': 7263, 'tabl': 7264, '0-2': 7265, 'hard-wir': 7266, 'canadian': 7267, 'acn': 7268, 'gulo': 7269, 'kandekj': 7270, 'rize': 7271, 'meydan': 7272, 'experienc': 7273, 'fcking': 7274, 'crei': 7275, 'dormmat': 7276, 'bo3': 7277, 'cod': 7278, 'redeem': 7279, 'invalid': 7280, 'hopia': 7281, 'editor': 7282, 'reveal': 7283, 'booo': 7284, 'extens': 7285, 'rightnow': 7286, 'btu': 7287, 'karaok': 7288, 'licenc': 7289, 'apb': 7290, 'hahahaokay': 7291, 'basara': 7292, 'capcom': 7293, 'url': 7294, 'grumbl': 7295, 'migrant': 7296, 'awsm': 7297, 'tmw': 7298, 'uwu': 7299, 'jinki': 7300, 'taem': 7301, 'gif': 7302, 'cambridg': 7303, 'viath': 7304, 'cypru': 7305, 'zayncomebackto': 7306, 'spazz': 7307, 'soobin': 7308, '27': 7309, 'float': 7310, 'pressur': 7311, 'lifetim': 7312, 'hiondsh': 7313, '58543': 7314, 'sexdat': 7315, \"demi'\": 7316, 'junjou': 7317, 'romantica': 7318, 'cruel': 7319, 'privileg': 7320, 'mixtap': 7321, 'convinc': 7322, 'friex': 7323, 'shaylan': 7324, '4:20': 7325, 'ylona': 7326, 'nah': 7327, 'ouh': 7328, 'nm': 7329, 'encanta': 7330, 'vale': 7331, 'osea': 7332, 'bea': 7333, '♛': 7334, '》': 7335, 'beli̇ev': 7336, 'wi̇ll': 7337, 'justi̇n': 7338, '350': 7339, 'ｓｅｅ': 7340, 'ｍｅ': 7341, '349': 7342, 'baek': 7343, 'dunwan': 7344, 'suan': 7345, 'haiz': 7346, '348': 7347, 'adult': 7348, '347': 7349, '😕': 7350, 'insonia': 7351, '346': 7352, 'rick': 7353, 'ross': 7354, 'heartbreak': 7355, '345': 7356, 'milli': 7357, 'diff': 7358, 'golden': 7359, 'roseburi': 7360, 'familyhom': 7361, '344': 7362, 'monkey': 7363, '343': 7364, 'erica': 7365, 'istg': 7366, 'jackson': 7367, 'nsbzhdnxndamal': 7368, '342': 7369, '11:15': 7370, '2hour': 7371, '11:25': 7372, '341': 7373, 'mahilig': 7374, 'mam-bulli': 7375, 'mtaani': 7376, 'tunaita': 7377, 'viazi': 7378, 'choma': 7379, 'jerk': 7380, 'menil': 7381, '340': 7382, \"kam'\": 7383, 'meee': 7384, 'diz': 7385, 'biooo': 7386, 'ay': 7387, 'taray': 7388, 'yumu-youtub': 7389, '339': 7390, 'parijat': 7391, 'willmissyouparijat': 7392, 'jolli': 7393, '338': 7394, 'mcnugget': 7395, 'sophi': 7396, 'caramello': 7397, 'koala': 7398, 'suckmejimin': 7399, '337': 7400, 'sucki': 7401, 'pou': 7402, 'goddamn': 7403, 'nje': 7404, 'dbn': 7405, '🎀': 7406, '336': 7407, 'hardest': 7408, '335': 7409, 'pledg': 7410, 'viber': 7411, 'mwah': 7412, 'estat': 7413, 'lansi': 7414, '334': 7415, 'hp': 7416, 'waah': 7417, 'vandag': 7418, 'kgola': 7419, 'neng': 7420, 'eintlik': 7421, 'porn': 7422, '4like': 7423, 'repost': 7424, '333': 7425, 'magpi': 7426, '22.05': 7427, '15-24': 7428, '05.15': 7429, 'chswiyfxcskcalum': 7430, 'nvm': 7431, 'foof': 7432, '332': 7433, 'casilla': 7434, 'manchest': 7435, 'xi': 7436, 'rmtour': 7437, 'irl': 7438, 'blooper': 7439, 'huhuhuhu': 7440, 'na-tak': 7441, 'sorta': 7442, 'unfriend': 7443, 'greysonch': 7444, 'sandwich': 7445, 'sebastian': 7446, 'rewatch': 7447, 's4': 7448, 'ser': 7449, 'heart-break': 7450, 'outdat': 7451, 'm4': 7452, 'theater': 7453, '7-3': 7454, '7.30-': 7455, 'ekk': 7456, 'giriboy': 7457, 'harriet': 7458, 'gegu': 7459, 'gray': 7460, '331': 7461, '68': 7462, 'corbyn': 7463, \"labour'\": 7464, 'ry': 7465, 'lfccw': 7466, '5ever': 7467, 'ontheroadagain': 7468, 'halaaang': 7469, 'reciev': 7470, 'flop': 7471, 'caesarspalac': 7472, 'socialreward': 7473, 'cali': 7474, 'fuckboy': 7475, '330': 7476, 'chrompet': 7477, 'immun': 7478, 'lush': 7479, 'bathtub': 7480, 'mysql': 7481, 'libmysqlclient-dev': 7482, 'dev': 7483, 'pleasanton': 7484, 'wala': 7485, '329': 7486, 'heed': 7487, '328': 7488, 'gwss': 7489, 'thankyouu': 7490, 'charad': 7491, 'piano': 7492, '327': 7493, 'complaint': 7494, 'whatsoev': 7495, 'pete': 7496, 'wentz': 7497, 'shogi': 7498, 'blameshoghicp': 7499, 'classmat': 7500, 'fixedgearfrenzi': 7501, 'dispatch': 7502, 'theyr': 7503, \"shamuon'\": 7504, 'toe': 7505, 'horrend': 7506, \"someone'\": 7507, '326': 7508, 'hasb': 7509, 'atti': 7510, 'muji': 7511, 'sirf': 7512, 'sensibl': 7513, 'brum': 7514, 'cyclerevolut': 7515, 'caaannnttt': 7516, 'overdrawn': 7517, 'tbf': 7518, 'perfum': 7519, 'sampl': 7520, 'chanel': 7521, 'burberri': 7522, 'prada': 7523, '325': 7524, 'noesss': 7525, 'topgear': 7526, 'bridesmaid': 7527, \"tomorrow'\": 7528, 'gather': 7529, 'sudden': 7530, '324': 7531, 'randomrestart': 7532, 'randomreboot': 7533, 'lumia': 7534, 'windowsphon': 7535, \"microsoft'\": 7536, 'mañana': 7537, 'rap': 7538, 'striker': 7539, 'lvg': 7540, 'refurbish': 7541, 'cintiq': 7542, \"finnick'\": 7543, 'askfinnick': 7544, 'hairi': 7545, '323': 7546, 'buri': 7547, 'omaygad': 7548, 'vic': 7549, 'surgeri': 7550, 'tt.tt': 7551, 'hyper': 7552, '322': 7553, 'imiss': 7554, '321': 7555, '320': 7556, 'know.for': 7557, 'prepaid': 7558, '319': 7559, 'grandma': 7560, \"grandpa'\": 7561, 'cow': 7562, 'veget': 7563, 'deliri': 7564, 'motilium': 7565, 'shite': 7566, '318': 7567, 'schoolwork': 7568, \"phoebe'\": 7569, '317': 7570, 'pothol': 7571, '316': 7572, '1,300': 7573, 'robyn': 7574, 'necklac': 7575, 'rachel': 7576, 'ramzan': 7577, 'crosss': 7578, 'clapham': 7579, 'investig': 7580, 'sth': 7581, 'essenti': 7582, 'photoshooot': 7583, 'mahon': 7584, 'shut': 7585, 'andam': 7586, 'memor': 7587, 'cotton': 7588, 'swallow': 7589, 'snot': 7590, 'taknottem': 7591, '477': 7592, 'btob': 7593, 'percentag': 7594, 'swift': 7595, 'a9': 7596, 'sexyjan': 7597, 'horni': 7598, 'goodmus': 7599, 'lart': 7600, 'sew': 7601, 'skyfal': 7602, 'premier': 7603, 'manteca': 7604, 'shiatsu': 7605, 'risk': 7606, 'hopper': 7607, 'eyyah': 7608, 'utd': 7609, '1-0': 7610, 'cart': 7611, 'aaa': 7612, 'waifu': 7613, 'breakup': 7614, 'bia': 7615, 'syndrom': 7616, 'shi': 7617, 'bias': 7618, 'pixel': 7619, 'weh': 7620, 'maymay': 7621, 'magpaalam': 7622, 'tf': 7623, 'subtitl': 7624, 'backstori': 7625, 'gimm': 7626, 'meal': 7627, 'neat-o': 7628, 'wru': 7629, 'scissor': 7630, 'creation': 7631, 'amtir': 7632, 'imysm': 7633, 'tut': 7634, 'trop': 7635, 'tard': 7636, 'deadlin': 7637, 'st': 7638, 'premiun': 7639, 'notcool': 7640, '2/3': 7641, 'lahat': 7642, 'araw': 7643, 'nage': 7644, 'gyu': 7645, 'lmfaooo': 7646, 'mashup': 7647, 'eu': 7648, 'lc': 7649, 'yass': 7650, 'rel': 7651, 'sydney': 7652, 'perf': 7653, 'omfg': 7654, 'combat': 7655, 'dosent': 7656, \"sod'\": 7657, '20min': 7658, 'yahoo': 7659, 'yodel': 7660, 'jokingli': 7661, 'gahd': 7662, '26th': 7663, '12.00': 7664, 'obyun': 7665, 'wayhh': 7666, 'preval': 7667, 'controversi': 7668, '🍵': 7669, 'tube': 7670, 'meck': 7671, 'mcfc': 7672, 'ucan': 7673, 'poc': 7674, 'specif': 7675, 'sinhala': 7676, 'billionair': 7677, '1645': 7678, '1190': 7679, 'maldiv': 7680, 'dheena': 7681, 'fasgadah': 7682, 'alvadhaau': 7683, 'countdown': 7684, 'function': 7685, 'desktop': 7686, 'evelineconrad': 7687, 'kikmsn': 7688, 'selfshot': 7689, 'backkk': 7690, 'transfer': 7691, 'dull': 7692, 'overcast': 7693, 'missin': 7694, 'hangin': 7695, 'wiff': 7696, 'cherri': 7697, 'bakewel': 7698, 'teal': 7699, 'sect': 7700, 'tennunb': 7701, 'skip': 7702, 'doomsday': 7703, 'neglect': 7704, 'posti': 7705, 'bellami': 7706, 'raven': 7707, 'helmi': 7708, 'uh': 7709, 'cnt': 7710, 'whereisthesun': 7711, 'summerismiss': 7712, 'longgg': 7713, 'ridicul': 7714, 'stocko': 7715, 'lucozad': 7716, 'explos': 7717, 'beh': 7718, 'half-rememb': 7719, \"melody'\": 7720, 'recal': 7721, 'difficult': 7722, 'expo': 7723, 'jisoo': 7724, 'anon': 7725, 'mager': 7726, 'wi': 7727, 'wht': 7728, 'distant': 7729, 'insan': 7730, 'charli': 7731, 'gana': 7732, 'studio': 7733, 'arch': 7734, 'lyin': 7735, 'kian': 7736, 'supercar': 7737, 'gurgaon': 7738, 'locat': 7739, '9:15': 7740, 'satir': 7741, 'peanut': 7742, 'viner': 7743, 'palembang': 7744, 'sorrryyi': 7745, 'fani': 7746, 'boner': 7747, 'yuki': 7748, '2500k': 7749, 'jake': 7750, 'gyllenha': 7751, 'impact': 7752, \"ledger'\": 7753, 'b4': 7754, 'deplet': 7755, 'mbasa': 7756, 'aah': 7757, 'pa-copi': 7758, 'biom': 7759, 'mosqu': 7760, 'smelli': 7761, 'emptier': 7762, \"ciara'\": 7763, \"everything'\": 7764, 'tall': 7765, 'intent': 7766, 'amb': 7767, \"harry'\": 7768, 'mayday': 7769, 'parad': 7770, 'lyf': 7771, '13th': 7772, 'chri': 7773, 'brown': 7774, 'riski': 7775, 'cologn': 7776, 'duo': 7777, 'ballad': 7778, 'bish': 7779, 'yumyum': 7780, \"cathy'\": 7781, 'missyou': 7782, 'rubi': 7783, 'pora': 7784, 'karlia': 7785, 'khatam': 7786, 'bandi': 7787, '👑': 7788, 'pyaari': 7789, 'gawd': 7790, 'massi': 7791, 'thatselfiethough': 7792, 'loop': 7793, 'aishhh': 7794, 'viewer': 7795, 'sighsss': 7796, 'toffe': 7797, 'honesti': 7798, 'cheatday': 7799, 'protein': 7800, 'sissi': 7801, 'tote': 7802, 'slowli': 7803, 'church': 7804, 'pll': 7805, 'sel': 7806, 'serbia': 7807, 'serbian': 7808, 'selen': 7809, 'motav': 7810, 'zayyyn': 7811, 'happend': 7812, 'imper': 7813, 'pana': 7814, 'quickest': 7815, 'sake': 7816, 'hamstr': 7817, 'rodwel': 7818, 'trace': 7819, 'tp': 7820, 'powder': 7821, 'wider': 7822, 'bruno': 7823, '1.8': 7824, 'ed': 7825, 'croke': 7826, 'toll': 7827, 'shape': 7828, 'unluckiest': 7829, 'bettor': 7830, 'nstp': 7831, 'sem': 7832, 'chipotl': 7833, 'chick-fil-a': 7834, 'stole': 7835, 'ramadhan': 7836, 'stexpert': 7837, 'ripstegi': 7838, 'nickyyi': 7839, '¿': 7840, 'centralis': 7841, 'discontinu': 7842, 'sniff': 7843, \"i't\": 7844, 'theres': 7845, 'cred': 7846, 't_t': 7847, 'elimin': 7848, 'teamzip': 7849, 'smtm': 7850, 'assingn': 7851, 'editi': 7852, 'nakaka': 7853, 'beastmod': 7854, 'gaaawd': 7855, 'colombia': 7856, 'yot': 7857, 'labyo': 7858, 'pano': 7859, 'nalamannn': 7860, 'hardhead': 7861, \"zach'\": 7862, 'xpress': 7863, 'hopkin': 7864, 'melatonin': 7865, '2-4': 7866, 'hahaah': 7867, 'frequent': 7868, 'jail': 7869, 'weirddd': 7870, 'donghyuk': 7871, 'bek': 7872, 'reynoldsgrl': 7873, 'ole': 7874, 'beardi': 7875, 'kaussi': 7876, 'bummer': 7877, 'fightingmciren': 7878, \"michael'\": 7879, 'miser': 7880, '💦': 7881, '💃🏽': 7882, 'shouldv': 7883, 'saffron': 7884, 'peasant': 7885, 'wouldv': 7886, 'nfinit': 7887, 'admin_myung': 7888, 'slp': 7889, 'saddest': 7890, 'laomma': 7891, 'kebaya': 7892, 'bandung': 7893, '7df89150': 7894, '62': 7895, '08962464174': 7896, 'laomma_coutur': 7897, 'haizzz': 7898, 'urghhh': 7899, 'working-on-a-tight-schedul': 7900, 'ganbarimasu': 7901, 'livid': 7902, 'whammi': 7903, 'quuuee': 7904, 'friooo': 7905, 'stereo': 7906, 'chwang': 7907, 'lorm': 7908, '823': 7909, 'unhappi': 7910, 'lolzz': 7911, 'corey': 7912, 'mahirap': 7913, 'noodl': 7914, 'veeerri': 7915, 'orig': 7916, 'starholicxx': 7917, '07:17': 7918, '@the': 7919, 'notr': 7920, 'hwi': 7921, 'niall': 7922, 'fraud': 7923, 'diplomaci': 7924, 'fittest': 7925, 'zero': 7926, 'toler': 7927, 'pier': 7928, 'approach': 7929, 'rattl': 7930, 'robe': 7931, 'emphasi': 7932, 'chose': 7933, 'abby.can': 7934, 'persuad': 7935, 'lyric': 7936, \"emily'\": 7937, 'kamiss': 7938, 'mwa': 7939, 'cafe': 7940, 'melbourn': 7941, 'anyonnee': 7942, 'fricken': 7943, 'rito': 7944, 'friendzon': 7945, 'panel': 7946, 'hsm': 7947, 'canario': 7948, 'ukiss': 7949, 'kurt': 7950, \"fatma'm\": 7951, 'lmfao': 7952, 'flapjack': 7953, 'countthecost': 7954, 'ihop': 7955, 'infra': 7956, 'lq': 7957, 'sotir': 7958, 'mybrainneedstoshutoff': 7959, 'macci': 7960, '510': 7961, 'silicon': 7962, 'kbye': 7963, 'ini': 7964, 'citizen': 7965, 'mcountdown': 7966, '5h': 7967, 'thapelo': 7968, 'civ': 7969, 'wooden': 7970, 'mic': 7971, 'embarrass': 7972, 'mecha-totem': 7973, 'nak': 7974, 'tgk': 7975, 'townsss': 7976, 'jokid': 7977, 'rent': 7978, 'inconsider': 7979, 'softbal': 7980, 'tomcat': 7981, 'chel': 7982, 'jemma': 7983, 'matchi': 7984, 'elsa': 7985, 'postpon': 7986, 'karin': 7987, 'vist': 7988, 'unhealthi': 7989, 'propa': 7990, 'knockin': 7991, 'pre-holiday': 7992, 'meani': 7993, 'deathbybaconsmel': 7994, 'init': 7995, 'destin': 7996, 'victoria': 7997, 'luna': 7998, 'krystal': 7999, 'sarajevo': 8000, 'haix': 8001, 'sp': 8002, 'wii': 8003, 'bayonetta': 8004, 'doabl': 8005, 'drove': 8006, 'agenc': 8007, 'story.miss': 8008, 'everon': 8009, 'jp': 8010, 'mamabear': 8011, 'imintoh': 8012, 'underr': 8013, \"slovakia'\": 8014, 'd:': 8015, 'saklap': 8016, 'rizal': 8017, 'lib': 8018, 'advisori': 8019, 'period': 8020, 'dit': 8021, 'du': 8022, 'harsh': 8023, 'ohgod': 8024, 'abligaverin': 8025, 'sexygirlbypreciouslemmi': 8026, 'ripsandrabland': 8027, 'edel': 8028, 'salam': 8029, 'mubark': 8030, 'dong': 8031, 'tammirossm': 8032, 'speck': 8033, 'abbymil': 8034, 'ion': 8035, '5min': 8036, 'hse': 8037, 'noob': 8038, 'fck': 8039, 'nae': 8040, 'whit': 8041, 'van': 8042, 'bristol': 8043, 'subserv': 8044, 'oo': 8045, 'tub': 8046, 'penyfan': 8047, 'breconbeacon': 8048, 'tittheir': 8049, '42': 8050, 'hotti': 8051, 'fuzzi': 8052, 'antonio': 8053, 'kang': 8054, 'junhe': 8055, 'couldv': 8056, 'pz': 8057, 'somerset': 8058, 'sunburnt': 8059, 'safer': 8060, 'k3g': 8061, 'input': 8062, 'gamestomp': 8063, 'desc': 8064, \"angelo'\": 8065, 'yna': 8066, 'fiver': 8067, 'sakho': 8068, 'threat': 8069, 'goalscor': 8070, '10:59': 8071, '11.00': 8072, 'sham': 8073, 'tricki': 8074, 'baao': 8075, 'nisrina': 8076, 'ladygaga': 8077, \"you'\": 8078, 'marrish': 8079, \"otp'\": 8080, 'edomnt': 8081, 'qih': 8082, 'shxb': 8083, 'chilton': 8084, 'creepi': 8085, 'boohoo': 8086, 'roar': 8087, 'victori': 8088, 'tweepsmatchout': 8089, 'nein': 8090, '404': 8091, 'willlow': 8092, 'sowwi': 8093, '3000': 8094, 'gear': 8095, '0.001': 8096, 'mode': 8097, '11:11': 8098, 'shanzay': 8099, 'salabrati': 8100, 'journo': 8101, 'lure': 8102, 'mashaket': 8103, 'bapak': 8104, 'prima': 8105, 'mune': 8106, '874': 8107, 'plisss': 8108, 'sunway': 8109, 'petal': 8110, 'jaya': 8111, 'selangor': 8112, 'huhuu': 8113, 'margo': 8114, 'konga': 8115, 'wa': 8116, 'ode': 8117, 'disvirgin': 8118, 'bride': 8119, 'yulin': 8120, 'imma': 8121, 'syawal': 8122, 'lapar': 8123, 'foundat': 8124, 'facil': 8125, 'dh': 8126, 'chalet': 8127, 'suay': 8128, 'anot': 8129, 'bugger': 8130, 'एक': 8131, 'बार': 8132, 'फिर': 8133, 'सेँ': 8134, 'धोखा': 8135, 'chandauli': 8136, 'majhwar': 8137, 'tito': 8138, 'tita': 8139, 'critic': 8140, 'steal': 8141, 'narco': 8142, 'regen': 8143, 'unfav': 8144, 'benadryl': 8145, 'arent': 8146, 'yg': 8147, 'gg': 8148, 'sxrew': 8149, 'dissappear': 8150, 'swap': 8151, 'ishal': 8152, 'thaank': 8153, 'jhezz': 8154, 'defenc': 8155, 'defens': 8156, 'nrltigersroost': 8157, 'indiana': 8158, 'hibb': 8159, 'biblethump': 8160, 'rlyyi': 8161, 'septum': 8162, 'pierc': 8163, 'venom': 8164, 'carriag': 8165, 'fur-trim': 8166, 'stetson': 8167, 'error': 8168, '59': 8169, 'xue': 8170, 'midori': 8171, 'sakit': 8172, 'mateo': 8173, 'bartend': 8174, 'despair': 8175, 'insta': 8176, 'iwantin': 8177, '___': 8178, 'fault': 8179, 'help@veryhq.co.uk': 8180, 'benedictervent': 8181, '221b': 8182, 'popcorn': 8183, 'joyc': 8184, 'ooop': 8185, 'paalam': 8186, 'sazbal': 8187, 'incid': 8188, 'aaahh': 8189, \"stomach'\": 8190, 'growl': 8191, 'beard': 8192, 'nooop': 8193, 'hundr': 8194, 'meg': 8195, \"verity'\": 8196, 'rupert': 8197, 'pleaaas': 8198, '👆🏻': 8199, 'woaah': 8200, 'solvo': 8201, 'twin': 8202, 'lego': 8203, 'barefoot': 8204, 'twelvyy': 8205, 'boaz': 8206, 'myhil': 8207, 'takeov': 8208, 'wba': 8209, \"taeyeon'\": 8210, 'derp': 8211, 'pd': 8212, 'zoom': 8213, \"sunny'\": 8214, 'besst': 8215, 'plagu': 8216, 'pit': 8217, 'frail': 8218, 'twurkin': 8219, 'razzist': 8220, 'tumblr': 8221, 'shek': 8222, '609': 8223, 'mugshot': 8224, 'plsss': 8225, 'taissa': 8226, 'farmiga': 8227, 'softwar': 8228, 'restor': 8229, 'momo': 8230, 'pharma': 8231, 'immov': 8232, 'messi': 8233, 'ansh': 8234, 'f1': 8235, 'rand': 8236, 'bein': 8237, 'tla': 8238, 'tweng': 8239, 'gene': 8240, 'up.com': 8241, 'counti': 8242, 'cooler': 8243, 'minhyuk': 8244, '1900': 8245, '😪': 8246, 'hz': 8247, 'emta': 8248, 'hatigii': 8249, 'b2aa': 8250, 'anesthesia': 8251, 'penrith': 8252, 'plain': 8253, 'untouch': 8254, 'brienn': 8255, 'lsh': 8256, 'gunna': 8257, 'former': 8258, 'darn': 8259, 'juudiciari': 8260, \"horton'\": 8261, 'dunkin': 8262, 'socialis': 8263, 'cara': 8264, \"delevingne'\": 8265, 'lace': 8266, 'fank': 8267, 'takfaham': 8268, 'ufff': 8269, 'sr': 8270, 'dard': 8271, 'katekyn': 8272, 'ehh': 8273, 'hacharatt': 8274, 'niwll': 8275, 'goa': 8276, 'lini': 8277, 'kasi': 8278, 'rhd': 8279, 'wae': 8280, 'subsid': 8281, '20th': 8282, 'youngja': 8283, 'harumph': 8284, 'soggi': 8285, 'sakura': 8286, 'flavour': 8287, 'chokki': 8288, '🌸': 8289, 'unavail': 8290, 'richard': 8291, 'satya': 8292, 'aditya': 8293, '🍜': 8294, 'vibrat': 8295, 'cu': 8296, 'dhaka': 8297, 'jam': 8298, 'cornetto': 8299, 'noseble': 8300, 'nintendo': 8301, 'wew': 8302, 'ramo': 8303, 'ground': 8304, 'shawn': 8305, 'mend': 8306, 'dinghi': 8307, 'skye': 8308, 'colleagu': 8309, 'gagal': 8310, 'txt': 8311, 'sim': 8312, 'nooot': 8313, 'notch': 8314, 'tht': 8315, 'starv': 8316, '\\U000fe196': 8317, 'pyjama': 8318, 'swifti': 8319, 'sorna': 8320, 'lurgi': 8321, '6gb': 8322, 'fenestoscop': 8323, 'etienn': 8324, 'bandana': 8325, 'vagina': 8326, 'suriya': 8327, 'dangl': 8328, 'mjhe': 8329, 'aaj': 8330, 'kisi': 8331, 'kiya': 8332, 'eyesight': 8333, '25x30': 8334, 'aftenoon': 8335, 'booor': 8336, 'boyfriend': 8337, 'garag': 8338, 'ce': 8339, 'gw': 8340, 'anatomi': 8341, 'no1': 8342, \"morisette'\": 8343, 'non-trial': 8344, 'sayhernam': 8345, 'lootcrat': 8346, 'inca': 8347, 'trail': 8348, 'sandboard': 8349, 'derbi': 8350, 'unabl': 8351, 'signatur': 8352, 'dish': 8353, 'unfamiliar': 8354, 'coldest': 8355, \"old'\": 8356, '14518344': 8357, '61': 8358, 'thirdwheel': 8359, 'lovebird': 8360, 'imo': 8361, '@juliettemaughan': 8362, 'sensiesha': 8363, 'eldest': 8364, '😟': 8365, 'keedz': 8366, 'taybigail': 8367, 'tournament': 8368, 'ps4': 8369, 'kink': 8370, 'streak': 8371, 'srski': 8372, 'tdc': 8373, 'in-sensit': 8374, 'cooper': 8375, 'thurston': 8376, 'collin': 8377, 'quietli': 8378, 'kennel': 8379, '911': 8380, 'pluckersss': 8381, 'gion': 8382, '886': 8383, 'kidschoiceaward': 8384, 'ming': 8385, 'pbr': 8386, 'periscop': 8387, 'ut': 8388, 'shawti': 8389, 'naw': 8390, \"sterling'\": 8391, '9muse': 8392, 'hrryok': 8393, 'wnt': 8394, '9:30': 8395, '9:48': 8396, '9/11': 8397, 'bueno': 8398, 'receptionist': 8399, 'ella': 8400, 'ketchup': 8401, 'tasteless': 8402, 'deantd': 8403, 'justgotkanekifi': 8404, 'notgonnabeactivefor': 8405, '2weeksdontmissittoomuch': 8406, '2013': 8407, 'vlog': 8408, 'turtl': 8409, 'cnn': 8410, 'straplin': 8411, 'theatr': 8412, 'guncontrol': 8413, 'stung': 8414, \"thát'\": 8415, 'powerpoint': 8416, 'diner': 8417, 'no-no': 8418, 'hind': 8419, 'circuit': 8420, 'secondari': 8421, 'sodder': 8422, 'mobitel': 8423, 'playstat': 8424, 'exp': 8425, 'misspelt': 8426, 'hyungwon': 8427, 'needicecreamnow': 8428, 'repeatedli': 8429, 'nu-uh': 8430, 'jace': 8431, 'mostest': 8432, 'urgh': 8433, \"grigson'\": 8434, 'carrot': 8435, '>:-(': 8436, 'ughh': 8437, 'otter': 8438, 'argh': 8439, 'pon': 8440, 'otl': 8441, 'sleepov': 8442, 'fabina': 8443, \"barrista'\": 8444, 'pup': 8445, 'brolli': 8446, 'dey': 8447, 'bitin': 8448, 'pretzel': 8449, 'bb17': 8450, 'bblf': 8451, 'fuckin': 8452, 'vanilla': 8453, 'latt': 8454, 'skulker': 8455, 'thread': 8456, 'hungrrryyi': 8457, 'icloud': 8458, 'ipod': 8459, 'hallyu': 8460, 'über': 8461, 'oki': 8462, '8p': 8463, 'harlo': 8464, 'torrentialrain': 8465, 'lloyd': 8466, 'knowww': 8467, 'runni': 8468, 'sweater': 8469, 'intoler': 8470, 'xenophob': 8471, 'wtfff': 8472, 'tone': 8473, '1pm': 8474, 'newer': 8475, 'pish': 8476, 'comparison': 8477, 'remast': 8478, 'fe14': 8479, 'strawberri': 8480, 'kapatidkongpogi': 8481, 'mel': 8482, 'longest': 8483, 'carmen': 8484, 'login': 8485, '00128835': 8486, 'wingstop': 8487, 'budg': 8488, 'fuq': 8489, 'ilhoon': 8490, 'getthescoop': 8491, 'hearess': 8492, '677': 8493, 'txt_shot': 8494, 'standbi': 8495, 'inatal': 8496, 'zenmat': 8497, 'namecheck': 8498, 'whistl': 8499, 'junmyeon': 8500, 'ddi': 8501, 'arini': 8502, 'je': 8503, 'igbo': 8504, 'blamehoney': 8505, 'whhr': 8506, 'snuggl': 8507, 'usag': 8508, 'warn': 8509, 'vertigo': 8510, 'panic': 8511, 'dual': 8512, 'carriageway': 8513, 'aragalang': 8514, '08': 8515, 'tam': 8516, 'bose': 8517, 'theo': 8518, 'anymoree': 8519, 'cactu': 8520, 'sorrri': 8521, 'bowel': 8522, 'tumour': 8523, 'puffi': 8524, 'eyelid': 8525, 'musica': 8526, 'campsit': 8527, 'miah': 8528, 'hahay': 8529, 'churro': 8530, 'montana': 8531, 'reign': 8532, 'exampl': 8533, 'inflat': 8534, 'sic': 8535, 'reset': 8536, 'entlerbountli': 8537, 'dirtykik': 8538, 'sexcam': 8539, 'spray': 8540, 'swollen': 8541, 'postcod': 8542, 'kafi': 8543, 'mene': 8544, 'koi': 8545, 'rewert': 8546, 'bunta': 8547, 'warnaaa': 8548, 'tortur': 8549, 'iran': 8550, 'irand': 8551, 'us-iran': 8552, 'nuclear': 8553, \"mit'\": 8554, 'li': 8555, 's2e12': 8556, 'rumpi': 8557, 'gallon': 8558, 'dandia': 8559, 'rbi': 8560, 'cage': 8561, 'parrot': 8562, '1li': 8563, 'commiss': 8564, 'cag': 8565, 'stripe': 8566, 'ily.melani': 8567, 'unlik': 8568, 'deepxcap': 8569, 'doin': 8570, '5:08': 8571, 'thesi': 8572, 'gtg': 8573, 'compet': 8574, 'vv': 8575, 'opt-out': 8576, 'vam': 8577, 'spece': 8578, 'ell': 8579, 'sexyameli': 8580, 'fineandyu': 8581, 'imsorri': 8582, 'koe': 8583, 'emyu': 8584, 'confetti': 8585, 'sini': 8586, 'dipoppo': 8587, 'hop': 8588, 'bestweekend': 8589, 'okay-ish': 8590, 'html': 8591, 'geneva': 8592, 'patml': 8593, '482': 8594, 'abouti': 8595, '797': 8596, 'reaalli': 8597, 'meter': 8598, 'unansw': 8599, 'bri': 8600, 'magcon': 8601, 'sinuend': 8602, 'laper': 8603, 'rage': 8604, 'brendon': 8605, \"urie'\": 8606, 'sumer': 8607, 'repackag': 8608, \":'d\": 8609, 'yongb': 8610, 'sued': 8611, 'warm-up': 8612, 'rub': 8613, 'belli': 8614, 'jannatul': 8615, 'ferdou': 8616, 'ekta': 8617, 'kharap': 8618, 'manush': 8619, 'mart': 8620, 'gua': 8621, 'can': 8622, \"khloe'\": 8623, 'nhe': 8624, 'yar': 8625, 'minkyuk': 8626, 'hol': 8627, 'sensor': 8628, 'broker': 8629, 'wna': 8630, 'flaviana': 8631, 'chickmt': 8632, '123': 8633, 'letsfootbal': 8634, 'atk': 8635, 'greymind': 8636, 'gayl': 8637, 'mood-dump': 8638, 'livestream': 8639, 'felton': 8640, 'veriti': 8641, \"standen'\": 8642, '😆': 8643, 'takoyaki': 8644, 'aisyah': 8645, 'ffvi': 8646, 'youtu.be/2_gpctsojkw': 8647, 'donutsss': 8648, '50p': 8649, 'spars': 8650, 'lagi': 8651, 'rider': 8652, 'hueee': 8653, 'thingi': 8654, 'georg': 8655, 'chew': 8656, 'stella': 8657, 'theaccidentalcoupl': 8658, 'smooth': 8659, 'handov': 8660, 'spick': 8661, 'bebii': 8662, 'happenend': 8663, 'dr': 8664, 'balm': 8665, 'hmph': 8666, 'bubba': 8667, 'floor': 8668, 'oi': 8669, 'bengali': 8670, 'masterchef': 8671, 'whatchya': 8672, 'petrol': 8673, 'diesel': 8674, 'cock': 8675, 'nyquil': 8676, 'poootek': 8677, '1,500': 8678, 'bobbl': 8679, 'leak': 8680, 'thermo': 8681, 'tae': 8682, 'kita': 8683, 'ia': 8684, 'corrupt': 8685, 'anything.sur': 8686, 'octob': 8687, 'ene': 8688, '3k': 8689, 'zehr': 8690, 'khani': 8691, 'groceri': 8692, 'hubba': 8693, 'gum': 8694, 'closet': 8695, 'jhalak': 8696, 'bakwa': 8697, '. ...': 8698, 'seehiah': 8699, 'goy': 8700, 'nacho': 8701, 'braid': 8702, 'ruth': 8703, 'boong': 8704, 'gta': 8705, 'cwnt': 8706, 'trivia': 8707, 'rohingya': 8708, 'indict': 8709, 'thailand': 8710, 'rumbl': 8711, 'kumbl': 8712, 'scold': 8713, 'phrase': 8714, 'tfw': 8715, 'jest': 8716, 'offend': 8717, 'sleepingwithsiren': 8718, '17th': 8719, 'bringmethehorizon': 8720, 'carva': 8721, 'regularli': 8722, 'revamp': 8723, 'headphon': 8724, 'wacha': 8725, 'niend': 8726, '2hr': 8727, '13m': 8728, 'kk': 8729, 'calibraksaep': 8730, 'darlin': 8731, \"doedn't\": 8732, 'meaning': 8733, 'horrif': 8734, 'scoup': 8735, 'sweedi': 8736, 'nam': 8737, \"sacconejoly'\": 8738, 'bethesda': 8739, 'fallout': 8740, 'minecon': 8741, 'katee': 8742, 'iloveyouu': 8743, 'linux': 8744, 'nawww': 8745, 'chikka': 8746, 'ug': 8747, 'rata': 8748, 'soonest': 8749, 'mwamwa': 8750, 'faggot': 8751, 'fyi': 8752, 'nicest': 8753, 'mehendi': 8754, 'dash': 8755, 'bookmark': 8756, 'whay': 8757, 'shaa': 8758, 'prami': 8759, '😚': 8760, 'ngee': 8761, 'crikey': 8762, 'snit': 8763, 'nathanielhinanakit': 8764, 'naya': 8765, 'spinni': 8766, 'wheel': 8767, 'albeit': 8768, 'athlet': 8769, 'gfriend': 8770, 'fugli': 8771, 'jongda': 8772, 'tlist': 8773, 'budget': 8774, 'pabebegirl': 8775, 'pabeb': 8776, 'sandra': 8777, 'bland': 8778, 'storifi': 8779, 'mtvhottest': 8780, 'gaga': 8781, '😵': 8782, 'hulkamania': 8783, 'unlov': 8784, 'ihhh': 8785, 'stackar': 8786, 'remedi': 8787, 'ov': 8788, 'raiz': 8789, 'nvr': 8790, 'gv': 8791, 'up.wt': 8792, 'wt': 8793, 'thr': 8794, 'soln': 8795, \"sister'\": 8796, 'pipe': 8797, 'lawn': 8798, \"cupid'\": 8799, 'torn': 8800, 'retain': 8801, 'clown': 8802, 'lipstick': 8803, 'haiss': 8804, 'todayi': 8805, 'thoo': 8806, 'everday': 8807, 'hangout': 8808, 'steven': 8809, 'william': 8810, 'umboh': 8811, 'jadin': 8812, 'thiz': 8813, 'iz': 8814, 'emeg': 8815, 'kennat': 8816, 'abi': 8817, 'arctic': 8818, 'chicsirif': 8819, 'cumbia': 8820, 'badlif': 8821, '4-5': 8822, 'kaslkdja': 8823, '3wk': 8824, 'feverfew': 8825, 'weddingflow': 8826, 'diyflow': 8827, 'fitn': 8828, 'wolverin': 8829, 'innoc': 8830, '🙏🏻': 8831, '🎂': 8832, 'memem': 8833, 'krystoria': 8834, 'snob': 8835, 'zumba': 8836, 'greekcrisi': 8837, 'remain': 8838, 'dutch': 8839, 'legibl': 8840, 'isra': 8841, 'passport': 8842, 'froze': 8843, '23rd': 8844, 'stomachach': 8845, 'ཀ': 8846, 'again': 8847, 'otani': 8848, '3-0': 8849, 'niaaa': 8850, '2/4': 8851, 'scheme': 8852, 'fckin': 8853, 'vin': 8854, 'plss': 8855, 'rpli': 8856, 'rat': 8857, 'mac': 8858, 'backup': 8859, 'lune': 8860, 'robinhood': 8861, 'robinhoodi': 8862, '🚙': 8863, 'docopenhagen': 8864, 'setter': 8865, 'swipe': 8866, 'bbygurl': 8867, 'caribbean': 8868, '6yr': 8869, 'takraw': 8870, 'fersure': 8871, 'angi': 8872, 'sheriff': 8873, 'aaag': 8874, \"i'mo\": 8875, 'sulk': 8876, 'selfish': 8877, 'nonc': 8878, 'bison': 8879, 'motiv': 8880, \"q'don\": 8881, 'cheat': 8882, 'stomp': 8883, 'aaaaaaaaah': 8884, 'kany': 8885, 'jdjdjdjd': 8886, \"jimin'\": 8887, 'fancaf': 8888, 'waffl': 8889, '87.7': 8890, '2fm': 8891, 'himseek': 8892, 'kissm': 8893, 'glo': 8894, 'cori': 8895, 'monteith': 8896, 'hashbrown': 8897, 'pg': 8898, 'msc': 8899, 'hierro': 8900, 'shirleycam': 8901, 'gilet': 8902, 'cheek': 8903, 'squishi': 8904, 'lahhh': 8905, 'eon': 8906, 'sunris': 8907, 'beeti': 8908, '697': 8909, 'getaway': 8910, 'crimin': 8911, 'amiibo': 8912, 'habe': 8913, 'siannn': 8914, 'chuckin': 8915, 'ampsha': 8916, 'nia': 8917, 'strap': 8918, 'dz9055': 8919, 'entlead': 8920, '590': 8921, '07:02': 8922, 'ifsc': 8923, 'mayor': 8924, 'biodivers': 8925, 'taxonom': 8926, 'collabor': 8927, 'speci': 8928, 'collar': 8929, '3:03': 8930, 'belt': 8931, 'smith': 8932, 'eyelin': 8933, 'therefor': 8934, 'netherland': 8935, 'el': 8936, 'jeb': 8937, 'blacklivesmatt': 8938, 'slogan': 8939, 'msnbc': 8940, 'jebbush': 8941, 'famish': 8942, 'marino': 8943, 'qualifi': 8944, 'suzi': 8945, 'skirt': 8946, 'tama': 8947, 'warrior': 8948, 'wound': 8949, 'iraq': 8950, 'camara': 8951, 'coveral': 8952, 'sneezi': 8953, 'rogerwatch': 8954, 'stalker': 8955, 'velvet': 8956, 'tradit': 8957, 'beheaviour': 8958, \"robert'\": 8959, '.\\n.': 8960, 'aaron': 8961, 'jelous': 8962, 'mtg': 8963, 'thoughtseiz': 8964, 'playabl': 8965, 'oldi': 8966, 'goodi': 8967, 'mcg': 8968, 'inspirit': 8969, 'ise': 8970, 'assum': 8971, 'waist': 8972, 'guin': 8973, 'venu': 8974, 'pepper': 8975, 'thessidew': 8976, '877': 8977, 'genesi': 8978, 'novemb': 8979, 'mash': 8980, 'whattsap': 8981, 'inuyasha': 8982, 'outfwith': 8983, 'myungsoo': 8984, 'satisfi': 8985, 'challo': 8986, 'pliss': 8987, 'juliana': 8988, 'enrol': 8989, 'darlen': 8990, 'emoji': 8991, 'brisban': 8992, 'merlin': 8993, 'nawwwe': 8994, 'hyperbulli': 8995, 'tong': 8996, 'nga': 8997, 'seatmat': 8998, 'rajud': 8999, 'ore': 9000, 'kayla': 9001, 'ericavan': 9002, 'jong': 9003, 'dongwoo': 9004, 'photocard': 9005, 'wh': 9006, 'dw': 9007, 'tumor': 9008, 'vivian': 9009, 'mmsmalubhangsakit': 9010, 'jillcruz': 9011, 'qt': 9012, '19th': 9013, 'co-work': 9014, 'unsettl': 9015, 'gh': 9016, '18c': 9017, 'rlli': 9018, 'hamster': 9019, 'sheeran': 9020, 'preform': 9021, 'monash': 9022, 'hitmark': 9023, 'glitch': 9024, 'safaa': 9025, \"selena'\": 9026, 'galat': 9027, 'tum': 9028, 'lrka': 9029, 'bna': 9030, 'bhook': 9031, 'afterschool': 9032, 'bilal': 9033, 'ashraf': 9034, 'icu': 9035, 'annnd': 9036, 'winchest': 9037, '{:': 9038, 'grepe': 9039, 'grepein': 9040, 'panem': 9041, 'sulli': 9042, 'cpm': 9043, 'condemn': 9044, '✔': 9045, 'occur': 9046, 'unagi': 9047, '7elw': 9048, 'mesh': 9049, 'beyt': 9050, '3a2ad': 9051, 'fluent': 9052, 'varsiti': 9053, 'sengenza': 9054, 'movnat': 9055, 'yield': 9056, 'nbhero': 9057, 'agov': 9058, 'brasileirao': 9059, 'abus': 9060, 'unpar': 9061, 'bianca': 9062, 'bun': 9063, 'dislik': 9064, 'burdensom': 9065, 'amelia': 9066, 'melon': 9067, 'soccer': 9068}\n"
     ]
    }
   ],
   "source": [
    "# GRADED FUNCTION: build_vocabulary\n",
    "def build_vocabulary(corpus):\n",
    "    '''Function that builds a vocabulary from the given corpus\n",
    "    Input: \n",
    "        - corpus (list): the corpus\n",
    "    Output:\n",
    "        - vocab (dict): Dictionary of all the words in the corpus.\n",
    "                The keys are the words and the values are integers.\n",
    "    '''\n",
    "\n",
    "    # The vocabulary includes special tokens like padding token and token for unknown words\n",
    "    # Keys are words and values are distinct integers (increasing by one from 0)\n",
    "    vocab = {'': 0, '[UNK]': 1} \n",
    "\n",
    "    ### START CODE HERE ###\n",
    "    \n",
    "    counter = 2\n",
    "    \n",
    "    # For each tweet in the training set\n",
    "    for tweet in corpus:\n",
    "        \n",
    "        # For each word in the tweet\n",
    "        for word in tweet:\n",
    "            \n",
    "            # If the word is not in vocabulary yet, add it to vocabulary\n",
    "            if word not in vocab:\n",
    "                vocab[word] = counter\n",
    "                counter += 1\n",
    "    \n",
    "    ### END CODE HERE ###\n",
    "    \n",
    "    return vocab\n",
    "\n",
    "\n",
    "vocab = build_vocabulary(train_x)\n",
    "num_words = len(vocab)\n",
    "\n",
    "print(f\"Vocabulary contains {num_words} words\\n\")\n",
    "print(vocab)"
   ]
  },
  {
   "cell_type": "markdown",
   "id": "2e748f56",
   "metadata": {},
   "source": [
    "The dictionary `Vocab` will look like this:\n",
    "```CPP\n",
    "{'': 0,\n",
    " '[UNK]': 1,\n",
    " 'followfriday': 2,\n",
    " 'top': 3,\n",
    " 'engage': 4,\n",
    " ...\n",
    "```\n",
    "\n",
    "- Each unique word has a unique integer associated with it.\n",
    "- The total number of words in Vocab: 9535"
   ]
  },
  {
   "cell_type": "code",
   "execution_count": 9,
   "id": "afba257d",
   "metadata": {
    "deletable": false,
    "editable": false,
    "tags": []
   },
   "outputs": [
    {
     "name": "stdout",
     "output_type": "stream",
     "text": [
      "Running test_build_vocabulary...\n",
      "\n",
      "\u001b[92m✅ test_build_vocabulary: All tests passed.\n",
      "\n"
     ]
    }
   ],
   "source": [
    "# Test the build_vocabulary function\n",
    "w1_unittest.test_build_vocabulary(build_vocabulary)"
   ]
  },
  {
   "cell_type": "markdown",
   "id": "7bfa1614",
   "metadata": {},
   "source": [
    "<a name=\"2-3\"></a>\n",
    "### 2.3 - Convert a Tweet to a Tensor\n",
    "\n",
    "Next, you will write a function that will convert each tweet to a tensor (a list of integer IDs representing the processed tweet).\n",
    "- You already transformed each tweet to a list of tokens with the `process_tweet` function in order to make a vocabulary.\n",
    "- Now you will transform the tokens to integers and pad the tensors so they all have equal length.\n",
    "- Note, the returned data type will be a **regular Python `list()`**\n",
    "    - You won't use TensorFlow in this function\n",
    "    - You also won't use a numpy array\n",
    "- For words in the tweet that are not in the vocabulary, set them to the unique ID for the token `[UNK]`.\n",
    "\n",
    "##### Example\n",
    "You had the original tweet:\n",
    "```CPP\n",
    "'@happypuppy, is Maria happy?'\n",
    "```\n",
    "\n",
    "The tweet is already converted into a list of tokens (including only relevant words).\n",
    "```CPP\n",
    "['maria', 'happy']\n",
    "```\n",
    "\n",
    "Now you will convert each word into its unique integer.\n",
    "\n",
    "```CPP\n",
    "[1, 55]\n",
    "```\n",
    "- Notice that the word \"maria\" is not in the vocabulary, so it is assigned the unique integer associated with the `[UNK]` token, because it is considered \"unknown.\"\n",
    "\n",
    "After that, you will pad the tweet with zeros so that all the tweets have the same length.\n",
    "\n",
    "```CPP\n",
    "[1, 56, 0, 0, ... , 0]\n",
    "```"
   ]
  },
  {
   "cell_type": "markdown",
   "id": "ae577b59",
   "metadata": {},
   "source": [
    "First, let's have a look at the length of the processed tweets. You have to look at all tweets in the training and validation set and find the longest one to pad all of them to the maximum length."
   ]
  },
  {
   "cell_type": "code",
   "execution_count": 10,
   "id": "a9cc2e70",
   "metadata": {
    "deletable": false,
    "editable": false,
    "tags": [
     "graded"
    ]
   },
   "outputs": [],
   "source": [
    "# Tweet lengths\n",
    "plt.hist([len(t) for t in train_x + val_x]);"
   ]
  },
  {
   "cell_type": "markdown",
   "id": "5e1b006c",
   "metadata": {},
   "source": [
    "Now find the length of the longest tweet. Remember to look at the training and the validation set."
   ]
  },
  {
   "cell_type": "markdown",
   "id": "e7bbe5df",
   "metadata": {},
   "source": [
    "<a name=\"ex-2\"></a>\n",
    "### Exercise 2 - max_len\n",
    "Calculate the length of the longest tweet."
   ]
  },
  {
   "cell_type": "code",
   "execution_count": 11,
   "id": "f7078bca",
   "metadata": {
    "deletable": false,
    "tags": [
     "graded"
    ]
   },
   "outputs": [
    {
     "name": "stdout",
     "output_type": "stream",
     "text": [
      "The length of the longest tweet is 51 tokens.\n"
     ]
    }
   ],
   "source": [
    "# GRADED FUNCTION: max_length\n",
    "def max_length(training_x, validation_x):\n",
    "    \"\"\"Computes the length of the longest tweet in the training and validation sets.\n",
    "\n",
    "    Args:\n",
    "        training_x (list): The tweets in the training set.\n",
    "        validation_x (list): The tweets in the validation set.\n",
    "\n",
    "    Returns:\n",
    "        int: Length of the longest tweet.\n",
    "    \"\"\"\n",
    "    ### START CODE HERE ###\n",
    "\n",
    "    max_len = max([len(tweet) for tweet in training_x + validation_x])\n",
    "    \n",
    "    ### END CODE HERE ###\n",
    "    return max_len\n",
    "\n",
    "max_len = max_length(train_x, val_x)\n",
    "print(f'The length of the longest tweet is {max_len} tokens.')"
   ]
  },
  {
   "cell_type": "markdown",
   "id": "6cfbce29",
   "metadata": {},
   "source": [
    "Expected output:\n",
    "\n",
    "The length of the longest tweet is 51 tokens."
   ]
  },
  {
   "cell_type": "code",
   "execution_count": 12,
   "id": "a20bd3ee",
   "metadata": {
    "deletable": false,
    "editable": false,
    "tags": []
   },
   "outputs": [
    {
     "name": "stdout",
     "output_type": "stream",
     "text": [
      "Running test_max_length...\n",
      "\n",
      "\u001b[92m✅ test_max_length: All tests passed.\n",
      "\n"
     ]
    }
   ],
   "source": [
    "# Test your max_len function\n",
    "w1_unittest.test_max_length(max_length)"
   ]
  },
  {
   "cell_type": "markdown",
   "id": "34e550c2",
   "metadata": {},
   "source": [
    "<a name=\"ex-3\"></a>\n",
    "### Exercise 3 - padded_sequence\n",
    "Implement `padded_sequence` function to transform sequences of words into padded sequences of numbers. A couple of things to notice:\n",
    "\n",
    "- The term `tensor` is used to refer to the encoded tweet but the function should return a regular python list, not a `tf.tensor`\n",
    "- There is no need to truncate the tweet if it exceeds `max_len` as you already know the maximum length of the tweets beforehand"
   ]
  },
  {
   "cell_type": "code",
   "execution_count": 13,
   "id": "fe6597fa",
   "metadata": {
    "deletable": false,
    "tags": [
     "graded"
    ]
   },
   "outputs": [],
   "source": [
    "# GRADED FUNCTION: padded_sequence\n",
    "def padded_sequence(tweet, vocab_dict, max_len, unk_token='[UNK]'):\n",
    "    \"\"\"transform sequences of words into padded sequences of numbers\n",
    "\n",
    "    Args:\n",
    "        tweet (list): A single tweet encoded as a list of strings.\n",
    "        vocab_dict (dict): Vocabulary.\n",
    "        max_len (int): Length of the longest tweet.\n",
    "        unk_token (str, optional): Unknown token. Defaults to '[UNK]'.\n",
    "\n",
    "    Returns:\n",
    "        list: Padded tweet encoded as a list of int.\n",
    "    \"\"\"\n",
    "    ### START CODE HERE ###\n",
    "    \n",
    "    # Find the ID of the UNK token, to use it when you encounter a new word\n",
    "    unk_ID = vocab_dict[unk_token] \n",
    "    \n",
    "    # First convert the words to integers by looking up the vocab_dict\n",
    "    tensor = [vocab_dict.get(word, unk_ID) for word in tweet]\n",
    "\n",
    "    # Then pad the tensor with zeroes up to the length max_len\n",
    "    padded_tensor = tensor + ([0] * (max_len - len(tensor)))\n",
    "\n",
    "    ### END CODE HERE ###\n",
    "\n",
    "    return padded_tensor"
   ]
  },
  {
   "cell_type": "markdown",
   "id": "3752b8dc",
   "metadata": {},
   "source": [
    "Test the function"
   ]
  },
  {
   "cell_type": "code",
   "execution_count": 14,
   "id": "f8766862",
   "metadata": {
    "deletable": false,
    "editable": false,
    "tags": []
   },
   "outputs": [
    {
     "name": "stdout",
     "output_type": "stream",
     "text": [
      "Running test_padded_sequence...\n",
      "\n",
      "\u001b[92m✅ test_padded_sequence: All tests passed.\n",
      "\n"
     ]
    }
   ],
   "source": [
    "# Test your padded_sequence function\n",
    "w1_unittest.test_padded_sequence(padded_sequence)"
   ]
  },
  {
   "cell_type": "markdown",
   "id": "a4dfd15c",
   "metadata": {},
   "source": [
    "Pad the train and validation dataset"
   ]
  },
  {
   "cell_type": "code",
   "execution_count": 15,
   "id": "38f7fcbd",
   "metadata": {
    "deletable": false,
    "editable": false,
    "tags": [
     "graded"
    ]
   },
   "outputs": [],
   "source": [
    "train_x_padded = [padded_sequence(x, vocab, max_len) for x in train_x]\n",
    "val_x_padded = [padded_sequence(x, vocab, max_len) for x in val_x]"
   ]
  },
  {
   "cell_type": "markdown",
   "id": "6fde3269",
   "metadata": {},
   "source": [
    "<a name=\"3\"></a>\n",
    "## 3 - Define the structure of the neural network layers\n",
    "\n",
    "In this part, you will write your own functions and layers for the neural network to test your understanding of the implementation. It will be similar to the one used in Keras and PyTorch. Writing your own small framework will help you understand how they all work and use them effectively in the future.\n",
    "\n",
    "You will implement the ReLU and sigmoid functions, which you will use as activation functions for the neural network, as well as a fully connected (dense) layer."
   ]
  },
  {
   "cell_type": "markdown",
   "id": "a4809299",
   "metadata": {},
   "source": [
    "<a name=\"3-1\"></a>\n",
    "### 3.1 - ReLU\n",
    "You will now implement the ReLU activation in a function below. The ReLU function looks as follows: \n",
    "<img src = \"images/relu.jpg\" style=\"width:300px;height:150px;\"/>\n",
    "\n",
    "$$ \\mathrm{ReLU}(x) = \\mathrm{max}(0,x) $$\n"
   ]
  },
  {
   "cell_type": "markdown",
   "id": "ca253367",
   "metadata": {},
   "source": [
    "<a name=\"ex-4\"></a>\n",
    "### Exercise 4 - relu\n",
    "**Instructions:** Implement the ReLU activation function below. Your function should take in a matrix or vector and it should transform all the negative numbers into 0 while keeping all the positive numbers intact. \n",
    "\n",
    "Notice you can get the maximum of two numbers by using [np.maximum](https://numpy.org/doc/stable/reference/generated/numpy.maximum.html)."
   ]
  },
  {
   "cell_type": "code",
   "execution_count": 16,
   "id": "f1c365d1",
   "metadata": {
    "deletable": false,
    "tags": [
     "graded"
    ]
   },
   "outputs": [],
   "source": [
    "# GRADED FUNCTION: relu\n",
    "def relu(x):\n",
    "    '''Relu activation function implementation\n",
    "    Input: \n",
    "        - x (numpy array)\n",
    "    Output:\n",
    "        - activation (numpy array): input with negative values set to zero\n",
    "    '''\n",
    "    ### START CODE HERE ###\n",
    "\n",
    "    activation = np.maximum(x, np.zeros_like(x))\n",
    "\n",
    "    ### END CODE HERE ###\n",
    "\n",
    "    return activation"
   ]
  },
  {
   "cell_type": "code",
   "execution_count": 17,
   "id": "6027ee6e",
   "metadata": {
    "deletable": false,
    "editable": false,
    "tags": [
     "graded"
    ]
   },
   "outputs": [
    {
     "name": "stdout",
     "output_type": "stream",
     "text": [
      "Test data is:\n",
      "[[-2. -1.  0.]\n",
      " [ 0.  1.  2.]]\n",
      "\n",
      "Output of relu is:\n",
      "[[0. 0. 0.]\n",
      " [0. 1. 2.]]\n"
     ]
    }
   ],
   "source": [
    "# Check the output of your function\n",
    "x = np.array([[-2.0, -1.0, 0.0], [0.0, 1.0, 2.0]], dtype=float)\n",
    "print(\"Test data is:\")\n",
    "print(x)\n",
    "print(\"\\nOutput of relu is:\")\n",
    "print(relu(x))"
   ]
  },
  {
   "cell_type": "markdown",
   "id": "f6cb21e3",
   "metadata": {},
   "source": [
    "**Expected Output:**\n",
    "```\n",
    "Test data is:\n",
    "[[-2. -1.  0.]\n",
    " [ 0.  1.  2.]]\n",
    " \n",
    "Output of relu is:\n",
    "[[0. 0. 0.]\n",
    " [0. 1. 2.]]\n",
    "```"
   ]
  },
  {
   "cell_type": "code",
   "execution_count": 18,
   "id": "09460d00",
   "metadata": {
    "deletable": false,
    "editable": false,
    "tags": []
   },
   "outputs": [
    {
     "name": "stdout",
     "output_type": "stream",
     "text": [
      "Running test_relu...\n",
      "\n",
      "\u001b[92m✅ test_relu: All tests passed.\n",
      "\n"
     ]
    }
   ],
   "source": [
    "# Test your relu function\n",
    "w1_unittest.test_relu(relu)"
   ]
  },
  {
   "cell_type": "markdown",
   "id": "2bad16e4",
   "metadata": {},
   "source": [
    "<a name=\"3-2\"></a>\n",
    "### 3.2 - Sigmoid\n",
    "You will now implement the sigmoid activation in a function below. The sigmoid function looks as follows: \n",
    "<img src = \"images/sigmoid.jpg\" style=\"width:300px;height:150px;\"/>\n",
    "\n",
    "$$ \\mathrm{sigmoid}(x) = \\frac{1}{1 + e^{-x}} $$\n"
   ]
  },
  {
   "cell_type": "markdown",
   "id": "fa5bbd47",
   "metadata": {},
   "source": [
    "<a name=\"ex-5\"></a>\n",
    "### Exercise 5 - sigmoid\n",
    "**Instructions:** Implement the sigmoid activation function below. Your function should take in a matrix or vector and it should transform all the numbers according to the formula above."
   ]
  },
  {
   "cell_type": "code",
   "execution_count": 19,
   "id": "1d5d3268",
   "metadata": {
    "deletable": false,
    "tags": [
     "graded"
    ]
   },
   "outputs": [],
   "source": [
    "# GRADED FUNCTION: sigmoid\n",
    "def sigmoid(x):\n",
    "    '''Sigmoid activation function implementation\n",
    "    Input: \n",
    "        - x (numpy array)\n",
    "    Output:\n",
    "        - activation (numpy array)\n",
    "    '''\n",
    "    ### START CODE HERE ###\n",
    "\n",
    "    activation = 1 / (1 + np.exp(-x))\n",
    "\n",
    "    ### END CODE HERE ###\n",
    "\n",
    "    return activation    "
   ]
  },
  {
   "cell_type": "code",
   "execution_count": 20,
   "id": "31275d11",
   "metadata": {
    "deletable": false,
    "editable": false,
    "tags": [
     "graded"
    ]
   },
   "outputs": [
    {
     "name": "stdout",
     "output_type": "stream",
     "text": [
      "Test data is:\n",
      "[[-1000.    -1.     0.]\n",
      " [    0.     1.  1000.]]\n",
      "\n",
      "Output of sigmoid is:\n",
      "[[0.         0.26894142 0.5       ]\n",
      " [0.5        0.73105858 1.        ]]\n"
     ]
    },
    {
     "name": "stderr",
     "output_type": "stream",
     "text": [
      "/var/folders/j1/_95ynn251zz4hwzwr3wpdhlw0000gn/T/ipykernel_98965/1592997170.py:11: RuntimeWarning: overflow encountered in exp\n",
      "  activation = 1 / (1 + np.exp(-x))\n"
     ]
    }
   ],
   "source": [
    "# Check the output of your function\n",
    "x = np.array([[-1000.0, -1.0, 0.0], [0.0, 1.0, 1000.0]], dtype=float)\n",
    "print(\"Test data is:\")\n",
    "print(x)\n",
    "print(\"\\nOutput of sigmoid is:\")\n",
    "print(sigmoid(x))"
   ]
  },
  {
   "cell_type": "markdown",
   "id": "3df79772",
   "metadata": {},
   "source": [
    "**Expected Output:**\n",
    "```\n",
    "Test data is:\n",
    "[[-1000.    -1.     0.]\n",
    " [    0.     1.  1000.]]\n",
    "\n",
    "Output of sigmoid is:\n",
    "[[0.         0.26894142 0.5       ]\n",
    " [0.5        0.73105858 1.        ]]\n",
    "```"
   ]
  },
  {
   "cell_type": "code",
   "execution_count": 21,
   "id": "87150bd2",
   "metadata": {
    "deletable": false,
    "editable": false,
    "tags": []
   },
   "outputs": [
    {
     "name": "stdout",
     "output_type": "stream",
     "text": [
      "Running test_sigmoid...\n",
      "\n",
      "\u001b[92m✅ test_sigmoid: All tests passed.\n",
      "\n"
     ]
    },
    {
     "name": "stderr",
     "output_type": "stream",
     "text": [
      "/var/folders/j1/_95ynn251zz4hwzwr3wpdhlw0000gn/T/ipykernel_98965/1592997170.py:11: RuntimeWarning: overflow encountered in exp\n",
      "  activation = 1 / (1 + np.exp(-x))\n"
     ]
    }
   ],
   "source": [
    "# Test your sigmoid function\n",
    "w1_unittest.test_sigmoid(sigmoid)"
   ]
  },
  {
   "cell_type": "markdown",
   "id": "cfd2861b",
   "metadata": {},
   "source": [
    "<a name=\"3.3\"></a>\n",
    "### 3.3 - Dense Class \n",
    "\n",
    "Implement the weight initialization in the `__init__` method.\n",
    "- Weights are initialized with a random key.\n",
    "- The shape of the weights (num_rows, num_cols) should equal the number of columns in the input data (this is in the last column) and the number of units respectively.\n",
    "    - The number of rows in the weight matrix should equal the number of columns in the input data `x`.  Since `x` may have 2 dimensions if it represents a single training example (row, col), or three dimensions (batch_size, row, col), get the last dimension from the tuple that holds the dimensions of x.\n",
    "    - The number of columns in the weight matrix is the number of units chosen for that dense layer.\n",
    "- The values generated should have a mean of 0 and standard deviation of `stdev`.\n",
    "    - To initialize random weights, a random generator is created using `random_generator = np.random.default_rng(seed=random_seed)`. This part is implemented for you. You will use `random_generator.normal(...)` to create your random weights. Check [here](https://numpy.org/doc/stable/reference/random/generator.html) how the random generator works.\n",
    "    - Please don't change the `random_seed`, so that the results are reproducible for testing (and you can be fairly graded).\n",
    "\n",
    "Implement the `forward` function of the Dense class. \n",
    "- The forward function multiplies the input to the layer (`x`) by the weight matrix (`W`)\n",
    "\n",
    "$$\\mathrm{forward}(\\mathbf{x},\\mathbf{W}) = \\mathbf{xW} $$\n",
    "\n",
    "- You can use `numpy.dot` to perform the matrix multiplication."
   ]
  },
  {
   "cell_type": "markdown",
   "id": "2917e87b",
   "metadata": {},
   "source": [
    "<a name=\"ex-6\"></a>\n",
    "### Exercise 6 - Dense\n",
    "\n",
    "Implement the `Dense` class. You might want to check how normal random numbers can be generated with numpy by checking the [docs](https://numpy.org/doc/stable/reference/random/generated/numpy.random.Generator.normal.html#numpy.random.Generator.normal)."
   ]
  },
  {
   "cell_type": "code",
   "execution_count": 22,
   "id": "4ede0912",
   "metadata": {
    "deletable": false,
    "tags": [
     "graded"
    ]
   },
   "outputs": [],
   "source": [
    "# GRADED CLASS: Dense\n",
    "class Dense():\n",
    "    \"\"\"\n",
    "    A dense (fully-connected) layer.\n",
    "    \"\"\"\n",
    "\n",
    "    # Please implement '__init__'\n",
    "    def __init__(self, n_units, input_shape, activation, stdev=0.1, random_seed=42):\n",
    "        \n",
    "        # Set the number of units in this layer\n",
    "        self.n_units = n_units\n",
    "        \n",
    "        # Set the random key for initializing weights\n",
    "        self.random_generator = np.random.default_rng(seed=random_seed)\n",
    "        \n",
    "        self.activation = activation\n",
    "        \n",
    "        ### START CODE HERE ###\n",
    "\n",
    "        # Generate the weight matrix from a normal distribution and standard deviation of 'stdev'\n",
    "        # Set the size of the matrix w\n",
    "        w = self.random_generator.normal(scale=stdev, size = (input_shape[-1], n_units))\n",
    "        \n",
    "        ### END CODE HERE ##\n",
    "\n",
    "        self.weights = w\n",
    "        \n",
    "\n",
    "    def __call__(self, x):\n",
    "        return self.forward(x)\n",
    "    \n",
    "    \n",
    "    # Please implement 'forward()'\n",
    "    def forward(self, x):\n",
    "        \n",
    "        ### START CODE HERE ###\n",
    "\n",
    "        # Matrix multiply x and the weight matrix\n",
    "        dense = np.dot(x, self.weights)\n",
    "        \n",
    "        # Apply the activation function\n",
    "        dense = self.activation(dense)\n",
    "        \n",
    "        ### END CODE HERE ###\n",
    "        return dense"
   ]
  },
  {
   "cell_type": "code",
   "execution_count": 23,
   "id": "5bc10c8b",
   "metadata": {
    "deletable": false,
    "editable": false,
    "tags": [
     "graded"
    ]
   },
   "outputs": [
    {
     "name": "stdout",
     "output_type": "stream",
     "text": [
      "Weights are:\n",
      " [[ 0.03047171 -0.10399841  0.07504512  0.09405647 -0.19510352 -0.13021795\n",
      "   0.01278404 -0.03162426 -0.00168012 -0.08530439]\n",
      " [ 0.0879398   0.07777919  0.00660307  0.11272412  0.04675093 -0.08592925\n",
      "   0.03687508 -0.09588826  0.08784503 -0.00499259]\n",
      " [-0.01848624 -0.06809295  0.12225413 -0.01545295 -0.04283278 -0.03521336\n",
      "   0.05323092  0.03654441  0.04127326  0.0430821 ]]\n",
      "Foward function output is: [[0.21436609 0.         3.25266507 0.59085808 0.         0.\n",
      "  1.61446659 0.17914382 1.64338651 0.87149558]]\n"
     ]
    }
   ],
   "source": [
    "# random_key = np.random.get_prng()  # sets random seed\n",
    "z = np.array([[2.0, 7.0, 25.0]]) # input array\n",
    "\n",
    "# Testing your Dense layer \n",
    "dense_layer = Dense(n_units=10, input_shape=z.shape, activation=relu)  #sets  number of units in dense layer\n",
    "\n",
    "print(\"Weights are:\\n\",dense_layer.weights) #Returns randomly generated weights\n",
    "print(\"Foward function output is:\", dense_layer(z)) # Returns multiplied values of units and weights"
   ]
  },
  {
   "cell_type": "markdown",
   "id": "56055e63",
   "metadata": {},
   "source": [
    "**Expected Output:**\n",
    "```\n",
    "Weights are:\n",
    " [[ 0.03047171 -0.10399841  0.07504512  0.09405647 -0.19510352 -0.13021795\n",
    "   0.01278404 -0.03162426 -0.00168012 -0.08530439]\n",
    " [ 0.0879398   0.07777919  0.00660307  0.11272412  0.04675093 -0.08592925\n",
    "   0.03687508 -0.09588826  0.08784503 -0.00499259]\n",
    " [-0.01848624 -0.06809295  0.12225413 -0.01545295 -0.04283278 -0.03521336\n",
    "   0.05323092  0.03654441  0.04127326  0.0430821 ]]\n",
    "\n",
    "Foward function output is: [[0.21436609 0.         3.25266507 0.59085808 0.         0.\n",
    "  1.61446659 0.17914382 1.64338651 0.87149558]]\n",
    "```"
   ]
  },
  {
   "cell_type": "markdown",
   "id": "88912018",
   "metadata": {},
   "source": [
    "Test the Dense class"
   ]
  },
  {
   "cell_type": "code",
   "execution_count": 24,
   "id": "da1120d5",
   "metadata": {
    "deletable": false,
    "editable": false,
    "tags": []
   },
   "outputs": [
    {
     "name": "stdout",
     "output_type": "stream",
     "text": [
      "Running test_Dense...\n",
      "\n",
      "\u001b[92m✅ test_Dense: All tests passed.\n",
      "\n"
     ]
    }
   ],
   "source": [
    "# Test your Dense class\n",
    "w1_unittest.test_Dense(Dense)"
   ]
  },
  {
   "cell_type": "markdown",
   "id": "0c2d927a",
   "metadata": {},
   "source": [
    "<a name=\"3-4\"></a>\n",
    "### 3.4 - Model\n",
    "\n",
    "Now you will implement a classifier using neural networks. Here is the model architecture you will be implementing. \n",
    "\n",
    "<img src = \"images/nn.jpg\"/>\n",
    "\n",
    "For the model implementation, you will use `TensorFlow` module, imported as `tf`. Your model will consist of layers and activation functions that you implemented above, but you will take them directly from the tensorflow library.\n",
    "\n",
    "You will use the [tf.keras.Sequential](https://www.tensorflow.org/api_docs/python/tf/keras/Sequential) module, which allows you to stack the layers in a sequence as you want them in the model. You will use the following layers:\n",
    "- [tf.keras.layers.Embedding](https://www.tensorflow.org/api_docs/python/tf/keras/layers/Embedding)\n",
    "    - Turns positive integers (word indices) into vectors of fixed size. You can imagine it as creating one-hot vectors out of indices and then running them through a fully-connected (dense) layer.\n",
    "- [tf.keras.layers.GlobalAveragePooling1D](https://www.tensorflow.org/api_docs/python/tf/keras/layers/GlobalAveragePooling1D)\n",
    "- [tf.keras.layers.Dense](https://www.tensorflow.org/api_docs/python/tf/keras/layers/Dense)\n",
    "    - Regular fully connected layer\n",
    "    \n",
    "Please use the `help` function to view documentation for each layer."
   ]
  },
  {
   "cell_type": "code",
   "execution_count": 25,
   "id": "8a5de20b",
   "metadata": {
    "deletable": false,
    "tags": [
     "graded"
    ]
   },
   "outputs": [],
   "source": [
    "# View documentation on how to implement the layers in tf.\n",
    "# help(tf.keras.Sequential)\n",
    "# help(tf.keras.layers.Embedding)\n",
    "# help(tf.keras.layers.GlobalAveragePooling1D)\n",
    "# help(tf.keras.layers.Dense)"
   ]
  },
  {
   "cell_type": "markdown",
   "id": "1a184816",
   "metadata": {},
   "source": [
    "<a name=\"ex-7\"></a>\n",
    "### Exercise 7 - create_model\n",
    "Implement the create_model function. \n",
    "\n",
    "First you need to create the model. The `tf.keras.Sequential` has been implemented for you. Within it you should put the following layers:\n",
    "- `tf.keras.layers.Embedding` with the size `num_words` times `embeding_dim` and the `input_length` set to the length of the input sequences (which is the length of the longest tweet).\n",
    "- `tf.keras.layers.GlobalAveragePooling1D` with no extra parameters.\n",
    "- `tf.keras.layers.Dense` with the size of one (this is your classification output) and `'sigmoid'` activation passed to the  `activation` keyword parameter.\n",
    "Make sure to separate the layers with a comma.\n",
    "\n",
    "Then you need to compile the model. Here you can look at all the parameters you can set when compiling the model:  [tf.keras.Model](https://www.tensorflow.org/api_docs/python/tf/keras/Model). In this notebook, you just need to set the loss to `'binary_crossentropy'` (because you are doing binary classification with a sigmoid function at the output), the optimizer to `'adam'` and the metrics to `'accuracy'` (so that you can track the accuracy on the training and validation sets."
   ]
  },
  {
   "cell_type": "code",
   "execution_count": 26,
   "id": "1f8deb0d",
   "metadata": {
    "deletable": false,
    "tags": [
     "graded"
    ]
   },
   "outputs": [],
   "source": [
    "# GRADED FUNCTION: create_model\n",
    "def create_model(num_words, embedding_dim, max_len):\n",
    "    \"\"\"\n",
    "    Creates a text classifier model\n",
    "    \n",
    "    Args:\n",
    "        num_words (int): size of the vocabulary for the Embedding layer input\n",
    "        embedding_dim (int): dimensionality of the Embedding layer output\n",
    "        max_len (int): length of the input sequences\n",
    "    \n",
    "    Returns:\n",
    "        model (tf.keras Model): the text classifier model\n",
    "    \"\"\"\n",
    "    \n",
    "    tf.random.set_seed(123)\n",
    "    \n",
    "    ### START CODE HERE\n",
    "    \n",
    "    # Create a Sequential model\n",
    "    model = tf.keras.Sequential([                 \n",
    "        tf.keras.layers.Embedding(num_words, embedding_dim, input_length=max_len),    # Embedding layer to dense vectors\n",
    "        tf.keras.layers.GlobalAveragePooling1D(),      # Performs global average pooling on the input\n",
    "        tf.keras.layers.Dense(1, activation='sigmoid') # The sigmoid activation function outputs a probability between 0 and 1\n",
    "    ]) \n",
    "    \n",
    "    # Compile the model\n",
    "    model.compile(loss='binary_crossentropy',    # The binary_crossentropy loss function\n",
    "                  optimizer='adam',              # The Adam optimizer is used for training the model\n",
    "                  metrics=['accuracy'])          # The model's performance is evaluated using accuracy\n",
    "\n",
    "    ### END CODE HERE\n",
    "\n",
    "    return model"
   ]
  },
  {
   "cell_type": "code",
   "execution_count": 27,
   "id": "9a88700c",
   "metadata": {
    "deletable": false,
    "editable": false,
    "tags": [
     "graded"
    ]
   },
   "outputs": [
    {
     "name": "stdout",
     "output_type": "stream",
     "text": [
      "The model is created!\n",
      "\n"
     ]
    },
    {
     "name": "stderr",
     "output_type": "stream",
     "text": [
      "/Users/luandnh/.pyenv/versions/3.12_dev/lib/python3.12/site-packages/keras/src/layers/core/embedding.py:90: UserWarning: Argument `input_length` is deprecated. Just remove it.\n",
      "  warnings.warn(\n"
     ]
    }
   ],
   "source": [
    "# Create the model\n",
    "model = create_model(num_words=num_words, embedding_dim=16, max_len=max_len)\n",
    "\n",
    "print('The model is created!\\n')"
   ]
  },
  {
   "cell_type": "code",
   "execution_count": 28,
   "id": "1a0d3f48",
   "metadata": {
    "deletable": false,
    "editable": false,
    "tags": []
   },
   "outputs": [
    {
     "name": "stdout",
     "output_type": "stream",
     "text": [
      "Running test_model...\n",
      "\n",
      "\u001b[92m✅ test_model: All tests passed.\n",
      "\n"
     ]
    }
   ],
   "source": [
    "# Test your create_model function\n",
    "w1_unittest.test_model(create_model)"
   ]
  },
  {
   "cell_type": "markdown",
   "id": "aa3495bc",
   "metadata": {},
   "source": [
    "Now you need to prepare the data to put into the model. You already created lists of x and y values and all you need to do now is convert them to `NumPy` arrays, as this is the format that the model is expecting.\n",
    "\n",
    "Then you can create a model with the function you defined above and train it. The trained model should give you about 99.6 % accuracy on the validation set."
   ]
  },
  {
   "cell_type": "code",
   "execution_count": 29,
   "id": "5cc20ab8",
   "metadata": {
    "deletable": false,
    "editable": false,
    "tags": [
     "graded"
    ]
   },
   "outputs": [
    {
     "name": "stdout",
     "output_type": "stream",
     "text": [
      "The data is prepared for training!\n",
      "\n",
      "Training:\n",
      "Epoch 1/20\n",
      "\u001b[1m250/250\u001b[0m \u001b[32m━━━━━━━━━━━━━━━━━━━━\u001b[0m\u001b[37m\u001b[0m \u001b[1m0s\u001b[0m 889us/step - accuracy: 0.5940 - loss: 0.6793 - val_accuracy: 0.9645 - val_loss: 0.6087\n",
      "Epoch 2/20\n",
      "\u001b[1m250/250\u001b[0m \u001b[32m━━━━━━━━━━━━━━━━━━━━\u001b[0m\u001b[37m\u001b[0m \u001b[1m0s\u001b[0m 641us/step - accuracy: 0.9269 - loss: 0.5663 - val_accuracy: 0.9955 - val_loss: 0.4384\n",
      "Epoch 3/20\n",
      "\u001b[1m250/250\u001b[0m \u001b[32m━━━━━━━━━━━━━━━━━━━━\u001b[0m\u001b[37m\u001b[0m \u001b[1m0s\u001b[0m 820us/step - accuracy: 0.9855 - loss: 0.3891 - val_accuracy: 0.9970 - val_loss: 0.2831\n",
      "Epoch 4/20\n",
      "\u001b[1m250/250\u001b[0m \u001b[32m━━━━━━━━━━━━━━━━━━━━\u001b[0m\u001b[37m\u001b[0m \u001b[1m0s\u001b[0m 599us/step - accuracy: 0.9919 - loss: 0.2467 - val_accuracy: 0.9950 - val_loss: 0.1839\n",
      "Epoch 5/20\n",
      "\u001b[1m250/250\u001b[0m \u001b[32m━━━━━━━━━━━━━━━━━━━━\u001b[0m\u001b[37m\u001b[0m \u001b[1m0s\u001b[0m 579us/step - accuracy: 0.9946 - loss: 0.1604 - val_accuracy: 0.9955 - val_loss: 0.1260\n",
      "Epoch 6/20\n",
      "\u001b[1m250/250\u001b[0m \u001b[32m━━━━━━━━━━━━━━━━━━━━\u001b[0m\u001b[37m\u001b[0m \u001b[1m0s\u001b[0m 582us/step - accuracy: 0.9952 - loss: 0.1108 - val_accuracy: 0.9950 - val_loss: 0.0913\n",
      "Epoch 7/20\n",
      "\u001b[1m250/250\u001b[0m \u001b[32m━━━━━━━━━━━━━━━━━━━━\u001b[0m\u001b[37m\u001b[0m \u001b[1m0s\u001b[0m 574us/step - accuracy: 0.9960 - loss: 0.0811 - val_accuracy: 0.9950 - val_loss: 0.0692\n",
      "Epoch 8/20\n",
      "\u001b[1m250/250\u001b[0m \u001b[32m━━━━━━━━━━━━━━━━━━━━\u001b[0m\u001b[37m\u001b[0m \u001b[1m0s\u001b[0m 701us/step - accuracy: 0.9960 - loss: 0.0621 - val_accuracy: 0.9950 - val_loss: 0.0545\n",
      "Epoch 9/20\n",
      "\u001b[1m250/250\u001b[0m \u001b[32m━━━━━━━━━━━━━━━━━━━━\u001b[0m\u001b[37m\u001b[0m \u001b[1m0s\u001b[0m 743us/step - accuracy: 0.9960 - loss: 0.0493 - val_accuracy: 0.9950 - val_loss: 0.0443\n",
      "Epoch 10/20\n",
      "\u001b[1m250/250\u001b[0m \u001b[32m━━━━━━━━━━━━━━━━━━━━\u001b[0m\u001b[37m\u001b[0m \u001b[1m0s\u001b[0m 831us/step - accuracy: 0.9955 - loss: 0.0403 - val_accuracy: 0.9950 - val_loss: 0.0369\n",
      "Epoch 11/20\n",
      "\u001b[1m250/250\u001b[0m \u001b[32m━━━━━━━━━━━━━━━━━━━━\u001b[0m\u001b[37m\u001b[0m \u001b[1m0s\u001b[0m 852us/step - accuracy: 0.9958 - loss: 0.0337 - val_accuracy: 0.9950 - val_loss: 0.0314\n",
      "Epoch 12/20\n",
      "\u001b[1m250/250\u001b[0m \u001b[32m━━━━━━━━━━━━━━━━━━━━\u001b[0m\u001b[37m\u001b[0m \u001b[1m0s\u001b[0m 663us/step - accuracy: 0.9965 - loss: 0.0288 - val_accuracy: 0.9950 - val_loss: 0.0272\n",
      "Epoch 13/20\n",
      "\u001b[1m250/250\u001b[0m \u001b[32m━━━━━━━━━━━━━━━━━━━━\u001b[0m\u001b[37m\u001b[0m \u001b[1m0s\u001b[0m 718us/step - accuracy: 0.9966 - loss: 0.0249 - val_accuracy: 0.9950 - val_loss: 0.0239\n",
      "Epoch 14/20\n",
      "\u001b[1m250/250\u001b[0m \u001b[32m━━━━━━━━━━━━━━━━━━━━\u001b[0m\u001b[37m\u001b[0m \u001b[1m0s\u001b[0m 610us/step - accuracy: 0.9969 - loss: 0.0218 - val_accuracy: 0.9950 - val_loss: 0.0212\n",
      "Epoch 15/20\n",
      "\u001b[1m250/250\u001b[0m \u001b[32m━━━━━━━━━━━━━━━━━━━━\u001b[0m\u001b[37m\u001b[0m \u001b[1m0s\u001b[0m 628us/step - accuracy: 0.9970 - loss: 0.0194 - val_accuracy: 0.9950 - val_loss: 0.0191\n",
      "Epoch 16/20\n",
      "\u001b[1m250/250\u001b[0m \u001b[32m━━━━━━━━━━━━━━━━━━━━\u001b[0m\u001b[37m\u001b[0m \u001b[1m0s\u001b[0m 708us/step - accuracy: 0.9973 - loss: 0.0174 - val_accuracy: 0.9950 - val_loss: 0.0173\n",
      "Epoch 17/20\n",
      "\u001b[1m250/250\u001b[0m \u001b[32m━━━━━━━━━━━━━━━━━━━━\u001b[0m\u001b[37m\u001b[0m \u001b[1m0s\u001b[0m 602us/step - accuracy: 0.9973 - loss: 0.0157 - val_accuracy: 0.9950 - val_loss: 0.0158\n",
      "Epoch 18/20\n",
      "\u001b[1m250/250\u001b[0m \u001b[32m━━━━━━━━━━━━━━━━━━━━\u001b[0m\u001b[37m\u001b[0m \u001b[1m0s\u001b[0m 584us/step - accuracy: 0.9975 - loss: 0.0143 - val_accuracy: 0.9950 - val_loss: 0.0145\n",
      "Epoch 19/20\n",
      "\u001b[1m250/250\u001b[0m \u001b[32m━━━━━━━━━━━━━━━━━━━━\u001b[0m\u001b[37m\u001b[0m \u001b[1m0s\u001b[0m 578us/step - accuracy: 0.9975 - loss: 0.0131 - val_accuracy: 0.9955 - val_loss: 0.0135\n",
      "Epoch 20/20\n",
      "\u001b[1m250/250\u001b[0m \u001b[32m━━━━━━━━━━━━━━━━━━━━\u001b[0m\u001b[37m\u001b[0m \u001b[1m0s\u001b[0m 586us/step - accuracy: 0.9975 - loss: 0.0121 - val_accuracy: 0.9955 - val_loss: 0.0126\n"
     ]
    }
   ],
   "source": [
    "# Prepare the data\n",
    "train_x_prepared = np.array(train_x_padded)\n",
    "val_x_prepared = np.array(val_x_padded)\n",
    "\n",
    "train_y_prepared = np.array(train_y)\n",
    "val_y_prepared = np.array(val_y)\n",
    "\n",
    "print('The data is prepared for training!\\n')\n",
    "\n",
    "# Fit the model\n",
    "print('Training:')\n",
    "history = model.fit(train_x_prepared, train_y_prepared, epochs=20, validation_data=(val_x_prepared, val_y_prepared))"
   ]
  },
  {
   "cell_type": "markdown",
   "id": "ab323967",
   "metadata": {},
   "source": [
    "<a name=\"4\"></a>\n",
    "## 4 - Evaluate the model\n",
    "\n",
    "Now that you trained the model, it is time to look at its performance. While training, you already saw a printout of the accuracy and loss on training and validation sets. To have a better feeling on how the model improved with training, you can plot them below."
   ]
  },
  {
   "cell_type": "code",
   "execution_count": 30,
   "id": "547f3ce5",
   "metadata": {
    "deletable": false,
    "editable": false,
    "tags": [
     "graded"
    ]
   },
   "outputs": [
    {
     "name": "stderr",
     "output_type": "stream",
     "text": [
      "/var/folders/j1/_95ynn251zz4hwzwr3wpdhlw0000gn/T/ipykernel_98965/4193283380.py:7: UserWarning: FigureCanvasAgg is non-interactive, and thus cannot be shown\n",
      "  plt.show()\n"
     ]
    }
   ],
   "source": [
    "def plot_metrics(history, metric):\n",
    "    plt.plot(history.history[metric])\n",
    "    plt.plot(history.history[f'val_{metric}'])\n",
    "    plt.xlabel(\"Epochs\")\n",
    "    plt.ylabel(metric.title())\n",
    "    plt.legend([metric, f'val_{metric}'])\n",
    "    plt.show()\n",
    "    \n",
    "plot_metrics(history, \"accuracy\")\n",
    "plot_metrics(history, \"loss\")"
   ]
  },
  {
   "cell_type": "markdown",
   "id": "c18ab524",
   "metadata": {},
   "source": [
    "You can see that already after just a few epochs the model reached very high accuracy on both sets. But if you zoom in, you can see that the performance was still slightly improving on the training set through all 20 epochs, while it stagnated a bit earlier on the validation set. The loss on the other hand kept decreasing through all 20 epochs, which means that the model also got more confident in its predictions."
   ]
  },
  {
   "cell_type": "markdown",
   "id": "8325ea1e",
   "metadata": {},
   "source": [
    "<a name=\"4-1\"></a>\n",
    "### 4.1 - Predict on Data\n",
    "\n",
    "Now you can use the model for predictions on unseen tweets as `model.predict()`. This is as simple as passing an array of sequences you want to predict to the mentioned method.\n",
    "In the cell below you prepare an extract of positive and negative samples from the validation set (remember, the positive examples are at the beginning and the negative are at the end) for the demonstration and predict their values with the model. Note that in the ideal case you should have another test set from which you would draw this data to inspect the model performance. But for the demonstration here the validation set will do just as well."
   ]
  },
  {
   "cell_type": "code",
   "execution_count": 31,
   "id": "d712e017",
   "metadata": {
    "deletable": false,
    "editable": false,
    "tags": [
     "graded"
    ]
   },
   "outputs": [
    {
     "name": "stdout",
     "output_type": "stream",
     "text": [
      "\u001b[1m1/1\u001b[0m \u001b[32m━━━━━━━━━━━━━━━━━━━━\u001b[0m\u001b[37m\u001b[0m \u001b[1m0s\u001b[0m 22ms/step\n"
     ]
    },
    {
     "data": {
      "text/plain": [
       "array([[9.9452716e-01],\n",
       "       [9.9938649e-01],\n",
       "       [9.9805027e-01],\n",
       "       [9.9178886e-01],\n",
       "       [9.9831086e-01],\n",
       "       [9.9953687e-01],\n",
       "       [9.9343461e-01],\n",
       "       [9.8641884e-01],\n",
       "       [9.9876022e-01],\n",
       "       [9.9962062e-01],\n",
       "       [1.2446700e-03],\n",
       "       [4.0983860e-03],\n",
       "       [1.2251805e-03],\n",
       "       [1.2487044e-03],\n",
       "       [2.0797369e-03],\n",
       "       [8.5886818e-04],\n",
       "       [1.3113384e-03],\n",
       "       [1.3301272e-03],\n",
       "       [1.8501594e-03],\n",
       "       [2.8116401e-02]], dtype=float32)"
      ]
     },
     "execution_count": 31,
     "metadata": {},
     "output_type": "execute_result"
    }
   ],
   "source": [
    "# Prepare an example with 10 positive and 10 negative tweets.\n",
    "example_for_prediction = np.append(val_x_prepared[0:10], val_x_prepared[-10:], axis=0)\n",
    "\n",
    "# Make a prediction on the tweets.\n",
    "model.predict(example_for_prediction)"
   ]
  },
  {
   "cell_type": "markdown",
   "id": "043a206e",
   "metadata": {},
   "source": [
    "You can see that the first 10 numbers are very close to 1, which means the model correctly predicted positive sentiment and the last 10 numbers are all close to zero, which means the model correctly predicted negative sentiment."
   ]
  },
  {
   "cell_type": "markdown",
   "id": "e7c90d18",
   "metadata": {},
   "source": [
    "<a name=\"5\"></a>\n",
    "## 5 - Test With Your Own Input\n",
    "\n",
    "Finally you will test with your own input. You will see that deepnets are more powerful than the older methods you have used before. Although you go close to 100 % accuracy on the first two assignments, you can see even more improvement here. \n",
    "\n",
    "<a name=\"5-1\"></a>\n",
    "### 5.1 - Create the Prediction Function"
   ]
  },
  {
   "cell_type": "code",
   "execution_count": 32,
   "id": "9da31016",
   "metadata": {
    "deletable": false,
    "editable": false,
    "tags": [
     "graded"
    ]
   },
   "outputs": [],
   "source": [
    "def get_prediction_from_tweet(tweet, model, vocab, max_len):\n",
    "    tweet = process_tweet(tweet)\n",
    "    tweet = padded_sequence(tweet, vocab, max_len)\n",
    "    tweet = np.array([tweet])\n",
    "\n",
    "    prediction = model.predict(tweet, verbose=False)\n",
    "    \n",
    "    return prediction[0][0]"
   ]
  },
  {
   "cell_type": "markdown",
   "id": "bf2d7208",
   "metadata": {},
   "source": [
    "Now you can write your own tweet and see how the model predicts it. Try playing around with the words - for example change `gr8` for `great` in the sample tweet and see if the score gets higher or lower. \n",
    "\n",
    "Also Try writing your own tweet and see if you can find what affects the output most."
   ]
  },
  {
   "cell_type": "code",
   "execution_count": 33,
   "id": "f48c7ff0",
   "metadata": {
    "deletable": false,
    "tags": [
     "graded"
    ]
   },
   "outputs": [
    {
     "name": "stdout",
     "output_type": "stream",
     "text": [
      "Model prediction on unseen tweet: 0.7668624520301819\n"
     ]
    }
   ],
   "source": [
    "unseen_tweet = '@DLAI @NLP_team_dlai OMG!!! what a daaay, wow, wow. This AsSiGnMeNt was gr8.'\n",
    "\n",
    "prediction_unseen = get_prediction_from_tweet(unseen_tweet, model, vocab, max_len)\n",
    "print(f\"Model prediction on unseen tweet: {prediction_unseen}\")"
   ]
  },
  {
   "cell_type": "markdown",
   "id": "3b35eaaa",
   "metadata": {},
   "source": [
    "<a name=\"ex-8\"></a>\n",
    "### Exercise 8 - graded_very_positive_tweet\n",
    "**Instructions:** For your last exercise in this assignment, you need to write a very positive tweet. To pass this exercise, the tweet needs to score at least 0.99 with the model (which means the model thinks it is very positive).\n",
    "\n",
    "Hint: try some positive words and/or happy smiley faces :)"
   ]
  },
  {
   "cell_type": "code",
   "execution_count": 34,
   "id": "2f075af5",
   "metadata": {
    "deletable": false,
    "scrolled": true,
    "tags": [
     "graded"
    ]
   },
   "outputs": [],
   "source": [
    "# GRADED VARIABLE: graded_very_positive_tweet\n",
    "\n",
    "### START CODE HERE ###\n",
    "\n",
    "# Please replace this sad tweet with a happier tweet\n",
    "graded_very_positive_tweet = 'Sunshine day, very happy with positive vibrations:)'\n",
    "\n",
    "### END CODE HERE ###"
   ]
  },
  {
   "cell_type": "markdown",
   "id": "d1420a67",
   "metadata": {},
   "source": [
    "Test your positive tweet below"
   ]
  },
  {
   "cell_type": "code",
   "execution_count": 35,
   "id": "8c2fe677",
   "metadata": {
    "deletable": false,
    "editable": false,
    "tags": [
     "graded"
    ]
   },
   "outputs": [
    {
     "name": "stdout",
     "output_type": "stream",
     "text": [
      "\u001b[92m All tests passed\n"
     ]
    }
   ],
   "source": [
    "# Test your graded_very_positive_tweet tweet\n",
    "prediction = get_prediction_from_tweet(graded_very_positive_tweet, model, vocab, max_len)\n",
    "if prediction > 0.99:\n",
    "    print(\"\\033[92m All tests passed\")\n",
    "else:\n",
    "    print(\"The model thinks your tweet is not positive enough.\\nTry figuring out what makes some of the tweets in the validation set so positive.\")"
   ]
  },
  {
   "cell_type": "markdown",
   "id": "5b6f86ff",
   "metadata": {},
   "source": [
    "<a name=\"6\"></a>\n",
    "## 6 - Word Embeddings\n",
    "\n",
    "In this last section, you will visualize the word embeddings that your model has learned for this sentiment analysis task.\n",
    "By using `model.layers`, you get a list of the layers in the model. The embeddings are saved in the first layer of the model (position 0).\n",
    "You can retrieve the weights of the layer by calling `layer.get_weights()` function, which gives you a list of matrices with weights. The embedding layer has only one matrix in it, which contains your embeddings. Let's extract the embeddings."
   ]
  },
  {
   "cell_type": "code",
   "execution_count": 36,
   "id": "4b437a60",
   "metadata": {
    "deletable": false,
    "editable": false,
    "tags": [
     "graded"
    ]
   },
   "outputs": [
    {
     "name": "stdout",
     "output_type": "stream",
     "text": [
      "Weights of embedding layer have shape: (9069, 16)\n"
     ]
    }
   ],
   "source": [
    "# Get the embedding layer\n",
    "embeddings_layer = model.layers[0]\n",
    "\n",
    "# Get the weights of the embedding layer\n",
    "embeddings = embeddings_layer.get_weights()[0]\n",
    "\n",
    "print(f\"Weights of embedding layer have shape: {embeddings.shape}\")"
   ]
  },
  {
   "cell_type": "markdown",
   "id": "f289857c",
   "metadata": {},
   "source": [
    "Since your embeddings are 16-dimensional (or different if you chose some other dimension), it is hard to visualize them without some kind of transformation. Here, you'll use scikit-learn to perform dimensionality reduction of the word embeddings using PCA, with which you can reduce the number of dimensions to two, while keeping as much information as possible. Then you can visualize the data to see how the vectors for different words look like."
   ]
  },
  {
   "cell_type": "code",
   "execution_count": 37,
   "id": "9f064556",
   "metadata": {
    "deletable": false,
    "editable": false,
    "tags": [
     "graded"
    ]
   },
   "outputs": [],
   "source": [
    "# PCA with two dimensions\n",
    "pca = PCA(n_components=2)\n",
    "\n",
    "# Dimensionality reduction of the word embeddings\n",
    "embeddings_2D = pca.fit_transform(embeddings)"
   ]
  },
  {
   "cell_type": "markdown",
   "id": "a957d815",
   "metadata": {},
   "source": [
    "Now, everything is ready to plot a selection of words in 2d. Dont mind the axes on the plot - they point in the directions calculated by the PCA algorithm. Pay attention to which words group together."
   ]
  },
  {
   "cell_type": "code",
   "execution_count": 38,
   "id": "9696170b",
   "metadata": {
    "deletable": false,
    "editable": false,
    "tags": [
     "graded"
    ]
   },
   "outputs": [
    {
     "name": "stderr",
     "output_type": "stream",
     "text": [
      "/var/folders/j1/_95ynn251zz4hwzwr3wpdhlw0000gn/T/ipykernel_98965/1091286363.py:23: UserWarning: FigureCanvasAgg is non-interactive, and thus cannot be shown\n",
      "  plt.show()\n"
     ]
    }
   ],
   "source": [
    "#Selection of negative and positive words\n",
    "neg_words = ['bad', 'hurt', 'sad', 'hate', 'worst']\n",
    "pos_words = ['best', 'good', 'nice', 'love', 'better', ':)']\n",
    "\n",
    "#Index of each selected word\n",
    "neg_n = [vocab[w] for w in neg_words]\n",
    "pos_n = [vocab[w] for w in pos_words]\n",
    "\n",
    "plt.figure()\n",
    "\n",
    "#Scatter plot for negative words\n",
    "plt.scatter(embeddings_2D[neg_n][:,0], embeddings_2D[neg_n][:,1], color = 'r')\n",
    "for i, txt in enumerate(neg_words): \n",
    "    plt.annotate(txt, (embeddings_2D[neg_n][i,0], embeddings_2D[neg_n][i,1]))\n",
    "\n",
    "#Scatter plot for positive words\n",
    "plt.scatter(embeddings_2D[pos_n][:,0], embeddings_2D[pos_n][:,1], color = 'g')\n",
    "for i, txt in enumerate(pos_words): \n",
    "    plt.annotate(txt,(embeddings_2D[pos_n][i,0], embeddings_2D[pos_n][i,1]))\n",
    "\n",
    "plt.title('Word embeddings in 2d')\n",
    "\n",
    "plt.show()"
   ]
  },
  {
   "cell_type": "markdown",
   "id": "bca33cce",
   "metadata": {},
   "source": [
    "As you can see, the word embeddings for this task seem to distinguish negative and positive meanings. However, similar words don't necessarily cluster together, since you only trained the model to analyze the overall sentiment. Notice how the smiley face is much further away from the negative words than any of the positive words are. It turns out that smiley faces are actually the most important predictors of sentiment in this dataset. Try removing them from the tweets (and consequently from the vocabulary) and see how well the model performs then. You should see quite a significant drop in performance."
   ]
  },
  {
   "cell_type": "markdown",
   "id": "9791af3a",
   "metadata": {},
   "source": [
    "**Congratulations on finishing this assignment!**\n",
    "\n",
    "During this assignment you tested your theoretical and practical skills by creating a vocabulary of words in the tweets and coding a neural network that created word embeddings and classified the tweets into positive or negative. Next week you will start coding some sequence models!\n",
    "\n",
    "**Keep up the good work!**\n"
   ]
  }
 ],
 "metadata": {
  "grader_version": "1",
  "kernelspec": {
   "display_name": "3.12_dev",
   "language": "python",
   "name": "python3"
  },
  "language_info": {
   "codemirror_mode": {
    "name": "ipython",
    "version": 3
   },
   "file_extension": ".py",
   "mimetype": "text/x-python",
   "name": "python",
   "nbconvert_exporter": "python",
   "pygments_lexer": "ipython3",
   "version": "3.12.9"
  }
 },
 "nbformat": 4,
 "nbformat_minor": 5
}
